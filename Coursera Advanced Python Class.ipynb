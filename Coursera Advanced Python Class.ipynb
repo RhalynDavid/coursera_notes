{
 "cells": [
  {
   "cell_type": "code",
   "execution_count": 1,
   "id": "bcec2feb",
   "metadata": {},
   "outputs": [
    {
     "name": "stdout",
     "output_type": "stream",
     "text": [
      "hello, world!\n"
     ]
    }
   ],
   "source": [
    "print (\"hello, world!\")"
   ]
  },
  {
   "cell_type": "code",
   "execution_count": 2,
   "id": "6268f483",
   "metadata": {},
   "outputs": [
    {
     "name": "stdout",
     "output_type": "stream",
     "text": [
      "Hello, Brook!\n"
     ]
    }
   ],
   "source": [
    "name = \"Brook\"\n",
    "print (\"Hello, \" + name + \"!\")"
   ]
  },
  {
   "cell_type": "code",
   "execution_count": 3,
   "id": "a981cb5a",
   "metadata": {},
   "outputs": [
    {
     "name": "stdout",
     "output_type": "stream",
     "text": [
      "Hello Alex\n"
     ]
    }
   ],
   "source": [
    "name = \"Alex\"\n",
    "print (\"Hello \" + name)"
   ]
  },
  {
   "cell_type": "code",
   "execution_count": 4,
   "id": "c5a0dfaa",
   "metadata": {},
   "outputs": [
    {
     "name": "stdout",
     "output_type": "stream",
     "text": [
      "16.0\n",
      "4096\n",
      "16\n",
      "64\n",
      "2.0\n"
     ]
    }
   ],
   "source": [
    "print(3*8/2+5-1)\n",
    "print(4**6)\n",
    "print(4**2)\n",
    "print(4**3)\n",
    "print(4**0.5)"
   ]
  },
  {
   "cell_type": "code",
   "execution_count": 5,
   "id": "58571e59",
   "metadata": {},
   "outputs": [
    {
     "name": "stdout",
     "output_type": "stream",
     "text": [
      "456976\n"
     ]
    }
   ],
   "source": [
    "x = 4\n",
    "y = 26\n",
    "print(y**x)"
   ]
  },
  {
   "cell_type": "code",
   "execution_count": 6,
   "id": "e616ad1f",
   "metadata": {},
   "outputs": [
    {
     "name": "stdout",
     "output_type": "stream",
     "text": [
      "520\n"
     ]
    }
   ],
   "source": [
    "# Assignment of values to the variables:\n",
    "years = 10\n",
    "weeks_in_a_year = 52\n",
    "\n",
    "# Variable is assigned an arithmetic calculation:\n",
    "weeks_in_a_decade = years * weeks_in_a_year\n",
    "\n",
    "print(weeks_in_a_decade)"
   ]
  },
  {
   "cell_type": "code",
   "execution_count": 7,
   "id": "bc3fb453",
   "metadata": {},
   "outputs": [
    {
     "name": "stdout",
     "output_type": "stream",
     "text": [
      "-7.625\n"
     ]
    }
   ],
   "source": [
    "print(15+5+(3*2)/4**2+(3-7)*7)"
   ]
  },
  {
   "cell_type": "code",
   "execution_count": 8,
   "id": "6542e0a3",
   "metadata": {},
   "outputs": [
    {
     "name": "stdout",
     "output_type": "stream",
     "text": [
      "604800\n"
     ]
    }
   ],
   "source": [
    "# Question 8 : Keeping in mind there are 86400 seconds per day, write a program that calculates how many seconds there are in a week, if a week is 7 days.  Print the result to the screen. \n",
    "\n",
    "seconds_per_day = 86400\n",
    "days_in_a_week = 7\n",
    "seconds_in_a_week = seconds_per_day * days_in_a_week\n",
    "# Should print 604800\n",
    "print(seconds_in_a_week)"
   ]
  },
  {
   "cell_type": "code",
   "execution_count": 9,
   "id": "5b112db3",
   "metadata": {},
   "outputs": [
    {
     "name": "stdout",
     "output_type": "stream",
     "text": [
      "100000000\n"
     ]
    }
   ],
   "source": [
    "# Question 9 : Use Python to calculate how many number-based passcodes can be formed with 10 numerals (0 through 9).  For a 1 numeral passcode, there would be 10 possibilities.  For a 2 numeral passcode, each numeral is independent of the other, so there would be 10 times 10 possibilities.  Using this information, print the amount of possible passwords that can be formed with 8 numerals. Note: Your result should be in the format of just a number, not a sentence.\n",
    "numeral_count = 8\n",
    "possibilities = 10 ** numeral_count\n",
    "print(possibilities)"
   ]
  },
  {
   "cell_type": "code",
   "execution_count": 10,
   "id": "e026917c",
   "metadata": {},
   "outputs": [
    {
     "name": "stdout",
     "output_type": "stream",
     "text": [
      "3.16\n"
     ]
    }
   ],
   "source": [
    "print((6-2)/(5*(1+4))+3)"
   ]
  },
  {
   "cell_type": "code",
   "execution_count": 11,
   "id": "dc075e97",
   "metadata": {},
   "outputs": [
    {
     "name": "stdout",
     "output_type": "stream",
     "text": [
      "120\n"
     ]
    }
   ],
   "source": [
    "total_labs = 20\n",
    "computers_per_lab = 30\n",
    "total_computers = total_labs * computers_per_lab\n",
    "\n",
    "years = 5\n",
    "computers_replaced_per_year = total_computers // years\n",
    "\n",
    "print(computers_replaced_per_year)"
   ]
  },
  {
   "cell_type": "code",
   "execution_count": 12,
   "id": "c314be48",
   "metadata": {},
   "outputs": [
    {
     "name": "stdout",
     "output_type": "stream",
     "text": [
      "The area is 7.5\n"
     ]
    }
   ],
   "source": [
    "base = 5\n",
    "height = 3\n",
    "area = ((base * height)/2)\n",
    "print(\"The area is \" + str((area)))"
   ]
  },
  {
   "cell_type": "code",
   "execution_count": 13,
   "id": "6a9d55c3",
   "metadata": {},
   "outputs": [
    {
     "name": "stdout",
     "output_type": "stream",
     "text": [
      "Each person needs to pay: 27.0\n"
     ]
    }
   ],
   "source": [
    "# The following lines assign the variable to the left of the = \n",
    "# assignment operator with the values and arithmetic expressions \n",
    "# on the right side of the = assignment operator.\n",
    "hotel_room = 100\n",
    "tax = hotel_room * 0.08\n",
    "total = hotel_room + tax\n",
    "room_guests = 4\n",
    "share_per_person = total/room_guests \n",
    " \n",
    "# This line outputs the result of the final calculation stored\n",
    "# in the variable \"share_per_person\"\n",
    "print(\"Each person needs to pay: \" + str(share_per_person)) # change a data type"
   ]
  },
  {
   "cell_type": "code",
   "execution_count": 14,
   "id": "e609a5f1",
   "metadata": {},
   "outputs": [
    {
     "name": "stdout",
     "output_type": "stream",
     "text": [
      "Dr. Prisha Jai Agarwal, Ph.D.\n",
      "Dr. Prisha Jai Agarwal , Ph.D.\n"
     ]
    }
   ],
   "source": [
    "# The following 5 lines assign strings to a list of variables.\n",
    "salutation = \"Dr.\"\n",
    "first_name = \"Prisha\"\n",
    "middle_name = \"Jai\"\n",
    "last_name = \"Agarwal\"\n",
    "suffix = \"Ph.D.\"\n",
    " \n",
    "print(salutation + \" \" + first_name + \" \" + middle_name + \" \" + last_name + \", \" + suffix) \n",
    "# The comma as a string \", \" adds the conventional use of a comma plus a \n",
    "# space to separate the last name from the suffix.\n",
    " \n",
    "# Alternatively, you could use commas in place of the + connector:\n",
    "print(salutation, first_name, middle_name, last_name,\",\", suffix)\n",
    "# However, you will find that this produces a space before a comma within a string."
   ]
  },
  {
   "cell_type": "code",
   "execution_count": 15,
   "id": "e3a3a12d",
   "metadata": {},
   "outputs": [
    {
     "name": "stdout",
     "output_type": "stream",
     "text": [
      "5 * 3 = 15\n"
     ]
    }
   ],
   "source": [
    "# print(\"5 * 3 = \" + (5*3)) \n",
    " \n",
    "# Resolution: \n",
    "print(\"5 * 3 = \" + str(5*3))\n",
    "#\n",
    "# To avoid a type error between the string and the integer within the\n",
    "# print() function, you can make an explicit data type conversion by\n",
    "# using the str() function to convert the integer to a string.  "
   ]
  },
  {
   "cell_type": "code",
   "execution_count": 16,
   "id": "a06c21a8",
   "metadata": {},
   "outputs": [
    {
     "name": "stdout",
     "output_type": "stream",
     "text": [
      "7.0\n"
     ]
    }
   ],
   "source": [
    "numerator = 7\n",
    "denominator = 1   # Possible resolution: Change the denominator value \n",
    "result = numerator / denominator\n",
    "print(result)\n",
    " \n",
    "# One possible assumption for a number divided by zero error might\n",
    "# include the issue of a null value as a denominator (could happen when\n",
    "# using a loop to iterate over values in a database). In such cases, the\n",
    "# desired outcome may be to leave the numerator value intact. The\n",
    "# numerator value can be preserved by reassigning the denominator with \n",
    "# the integer value of 1. The result would then equal the numerator."
   ]
  },
  {
   "cell_type": "code",
   "execution_count": 17,
   "id": "e822429a",
   "metadata": {},
   "outputs": [
    {
     "name": "stdout",
     "output_type": "stream",
     "text": [
      "903\n"
     ]
    }
   ],
   "source": [
    "# This function calculates the number of days in a variable number of years, months, and days. These variables are provided by the user andare passed to the function through the function’s parameters.\n",
    "# Assign a variable to hold the calculations for the number of days in a year (years*365) plus the number of days in a month (months*30) plusthe number of days provided through the \"days\" parameter variable.\n",
    "# Use the \"return\" keyword to send the result of the \"my_days\"  \n",
    "# calculation to the function call. \n",
    "\n",
    "def find_total_days(years, months, days):\n",
    "    my_days = (years*365) + (months*30) + days\n",
    "    return my_days\n",
    " \n",
    "# Function call with user provided parameter values. \n",
    "print(find_total_days(2,5,23))"
   ]
  },
  {
   "cell_type": "code",
   "execution_count": 18,
   "id": "9c6131a8",
   "metadata": {},
   "outputs": [
    {
     "name": "stdout",
     "output_type": "stream",
     "text": [
      "The volume in millimeters is 59.0\n",
      "The volume in millimeters is 118.0\n"
     ]
    }
   ],
   "source": [
    "# This function converts fluid ounces to milliliters and returns the result of the conversion.\n",
    "# Calculate value of the \"ml\" variable using the parameter variable \"fluid_ounce\". There are approximately 29.5 milliliters in 1 fluid ounce.\n",
    "# Return the result of the calculation. \n",
    "\n",
    "def convert_volume(fluid_ounce):\n",
    "    ml = fluid_ounce * 29.5\n",
    "    return ml\n",
    " \n",
    "# Call the conversion from within the print() function using 2 fluid \n",
    "# ounces. Convert the return value from a float to a string.  \n",
    "print(\"The volume in millimeters is \" + str(convert_volume(2)))\n",
    " \n",
    "# Call the function again and double the 2 fluid ounces from within\n",
    "# the print function.\n",
    "print(\"The volume in millimeters is \" + str(convert_volume(2)*2))\n",
    "# Alternative calculation:\n",
    "# print(\"The volume in millimeters is \" + str(convert_volume(4))"
   ]
  },
  {
   "cell_type": "code",
   "execution_count": 19,
   "id": "21950c69",
   "metadata": {},
   "outputs": [
    {
     "name": "stdout",
     "output_type": "stream",
     "text": [
      "The distance in kilometers is 88.0\n",
      "The round-trip in kilometers is 176.0\n"
     ]
    }
   ],
   "source": [
    "# Exercise 1) Complete the function to return the result of the conversion\n",
    "def convert_distance(miles):\n",
    "\tkm = miles * 1.6  # approximately 1.6 km in 1 mile\n",
    "\treturn km\n",
    "\n",
    "# Do not indent any of the following lines of code as they are \n",
    "# meant to be located outside of the function above\n",
    "\n",
    "my_trip_miles = 55\n",
    "\n",
    "# 2) Convert my_trip_miles to kilometers by calling the function above\n",
    "my_trip_km = convert_distance(my_trip_miles)\n",
    "\n",
    "# 3) Fill in the blank to print the result of the my_trip_km conversion\n",
    "print(\"The distance in kilometers is \" + str(my_trip_km))\n",
    "\n",
    "# 4) Calculate the round-trip in kilometers by doubling the result of\n",
    "#    my_trip_km. Fill in the blank to print the result.\n",
    "print(\"The round-trip in kilometers is \" + str(my_trip_km*2))"
   ]
  },
  {
   "cell_type": "code",
   "execution_count": 20,
   "id": "f8d56cec",
   "metadata": {},
   "outputs": [
    {
     "name": "stdout",
     "output_type": "stream",
     "text": [
      "99 100\n"
     ]
    }
   ],
   "source": [
    "# Exercise 2) This function compares two numbers and returns them in increasing order.\n",
    "def order_numbers(number1, number2):\n",
    "\tif number2 > number1:\n",
    "\t\treturn number1, number2\n",
    "\telse:\n",
    "\t\treturn number2, number1\n",
    "\n",
    "# 1) Fill in the blanks so the print statement displays the result\n",
    "#    of the function call\n",
    "smaller, bigger = order_numbers(100, 99)\n",
    "print(smaller, bigger)"
   ]
  },
  {
   "cell_type": "code",
   "execution_count": 21,
   "id": "ada81392",
   "metadata": {},
   "outputs": [
    {
     "name": "stdout",
     "output_type": "stream",
     "text": [
      "3723\n"
     ]
    }
   ],
   "source": [
    "def print_seconds(hours,minutes,seconds):\n",
    "    print(hours*3600+minutes*60+seconds)\n",
    "\n",
    "\n",
    "print_seconds(1,2,3)\n",
    "#output will print to the screen"
   ]
  },
  {
   "cell_type": "markdown",
   "id": "cfe3a5d8",
   "metadata": {},
   "source": [
    "## PART 1: Equality == and Not Equal To != Operators\n",
    "In Python, you can use comparison operators to compare values. When a comparison is made, Python returns a Boolean result: True or False. Note that Boolean data types are not string data types (Boolean True is not equal to the string \"True\")."
   ]
  },
  {
   "cell_type": "code",
   "execution_count": 22,
   "id": "99cac4f1",
   "metadata": {},
   "outputs": [
    {
     "name": "stdout",
     "output_type": "stream",
     "text": [
      "True\n",
      "False\n",
      "True\n",
      "False\n",
      "True\n"
     ]
    }
   ],
   "source": [
    "print(32 == 30+2)\n",
    "# The == operator checks if the 2 values are equal to each other. If they are equal,Python returns a True result.\n",
    "\n",
    "print(5+10 == 6+7)\n",
    "# If they are not equal,Python returns a False result.\n",
    "\n",
    "print(10-4 != 10+4)\n",
    "# The != operator checks if the 2 values are NOT equal to each other. If true, Python returns a True result.\n",
    "\n",
    "print(9/3 != 3*1)\n",
    "# In this last example, 9/3 != 3*1 (or 3 != 3) is false. So, Python returns a False value.\n",
    "\n",
    "print (9/3 == 3*1)"
   ]
  },
  {
   "cell_type": "markdown",
   "id": "e833cb12",
   "metadata": {},
   "source": [
    "## PART 2: Greater Than > and Less Than < Operators\n",
    " The comparison operators greater than > and less than < also return a True or False Boolean result after comparing two values.\n",
    "\n",
    "To check if one value is larger than another value, use the greater than operator: > \n",
    "\n",
    "To check if one value is smaller than another value, use the less than operator: < "
   ]
  },
  {
   "cell_type": "code",
   "execution_count": 23,
   "id": "90a48b7c",
   "metadata": {},
   "outputs": [
    {
     "name": "stdout",
     "output_type": "stream",
     "text": [
      "True\n",
      "False\n",
      "True\n"
     ]
    }
   ],
   "source": [
    "print( 11 > 3*3)\n",
    "\n",
    "print(4/2 > 8-4)\n",
    "\n",
    "print(4/2 < 8-4)"
   ]
  },
  {
   "cell_type": "markdown",
   "id": "51c312a9",
   "metadata": {},
   "source": [
    "## PART 3: Greater Than or Equal to >= and Less Than or Equal to <= Operators\n",
    "\n",
    "Like the other comparison operators, the greater than or equal to >= and less than or equal to <= operators return a True or False Boolean result when a comparison is made.\n",
    "\n",
    "To check if one value is larger than or equal to another value, use the greater than or equal to operator: >= \n",
    "\n",
    "To check if one value is smaller than or equal to another value, use the less than or equal to operator: <= "
   ]
  },
  {
   "cell_type": "code",
   "execution_count": 24,
   "id": "96df0c47",
   "metadata": {},
   "outputs": [
    {
     "name": "stdout",
     "output_type": "stream",
     "text": [
      "True\n",
      "False\n",
      "True\n",
      "False\n"
     ]
    }
   ],
   "source": [
    "print(12*2 >= 24)\n",
    "# The >= operator checks if the left value is greater than or equal to the right value. \n",
    "# If one of these conditions is true, Python returns a True result. \n",
    "# In this case the two values are equal. So, the comparison returns a True result.\n",
    "\n",
    "print(18/2 >= 15)\n",
    "# If the >= comparison determines that the left False value is NOT greater than or equal to the right, it returns a False result.\n",
    "\n",
    "print(12*2 <= 30)\n",
    "# The <= operator checks if the left value is less than or equal to the right value.\n",
    "# In this case, the left value is less than the right value. \n",
    "# Again, if one of the two conditions is true, Python returns a True result.\n",
    "\n",
    "print(15 <= 18/2)\n",
    "# If the <= comparison determines that the left value is NOT less than or equal to the right value, the comparison returns a False result."
   ]
  },
  {
   "cell_type": "markdown",
   "id": "6571ef76",
   "metadata": {},
   "source": [
    "## PART 1: Equality == and Not Equal to != Operators with Strings\n",
    "\n",
    "In Python, you can use comparison operators to compare strings. The equality == and the not equal to != operators are helpful when you need to search for a specific string in a body of text, a log file, a spreadsheet, a database, and more. You can also check user input strings to compare them to another string. Note that Boolean data types are not string data types (Boolean True is not equal to the string \"True\").  "
   ]
  },
  {
   "cell_type": "code",
   "execution_count": 25,
   "id": "78b7c342",
   "metadata": {},
   "outputs": [
    {
     "name": "stdout",
     "output_type": "stream",
     "text": [
      "True\n",
      "False\n",
      "True\n",
      "False\n",
      "True\n",
      "False\n"
     ]
    }
   ],
   "source": [
    "# The == operator can check if two strings are equal to each other. \n",
    "# If they are equal, the Python interpreter returns a True result.\n",
    "print(\"a string\" == \"a string\")\n",
    "\n",
    "# In this example, the equality == comparison is between \"4 + 5\" and\n",
    "# 4 + 5. Since the left data type is a string and the right data type\n",
    "# is an integer, the two values cannot be equal. So, the comparison\n",
    "# returns a False result.\n",
    "print(\"4 + 5\" == 4 + 5)\n",
    "\n",
    "# The != operator can check if the two strings are NOT equal to each\n",
    "# other. If they are indeed not equal, then Python returns a True result.\n",
    "print(\"rabbit\" != \"frog\")\n",
    "\n",
    "# In this example, the variable event_city has been assigned the string value \"Shanghai\". \n",
    "# This variable is compared to a static string, \"Shanghai\", \n",
    "# using the != operator. As, the strings \"Shanghai\" and \"Shanghai\" are the same, the comparison of \"Shanghai\" != \"Shanghai\" \n",
    "# is false. Accordingly, Python will return a False result.\n",
    "event_city = \"Shanghai\"\n",
    "print(event_city != \"Shanghai\")\n",
    "print(event_city == \"Shanghai\")\n",
    "\n",
    "# This last example illustrates the result of trying to compare two\n",
    "# items of different data types using the equality == operator. The\n",
    "# two items are not equal, so the comparison returns False.\n",
    "print(\"three\" == 3)"
   ]
  },
  {
   "cell_type": "markdown",
   "id": "47e33ee8",
   "metadata": {},
   "source": [
    "## PART 2: The Greater Than > and Less Than < Operators\n",
    "The comparison operators greater than > and less than < can be used to alphabetize words in Python. The letters of the alphabet have numeric codes in Unicode (also known as ASCII values). The uppercase letters A to Z are represented by the Unicode values 65 to 90. The lowercase letters a to z are represented by the Unicode values 97 to 122. \n",
    "\n",
    "To check if the first letter(s) of a string have a larger Unicode value (meaning the letter is closer to 122 or lowercase z) than the first letter of another string, use the greater than operator: >\n",
    "\n",
    "To check if the first letter(s) of a string have a smaller Unicode value (meaning the letter is closer to 65 or uppercase A) than the first letter of another string, use the less than operator: < \n",
    "\n",
    "Like numeric comparisons with the greater than > and less than < operators, comparisons between strings also return Boolean True or False results. "
   ]
  },
  {
   "cell_type": "code",
   "execution_count": 26,
   "id": "ad344e7f",
   "metadata": {},
   "outputs": [
    {
     "name": "stdout",
     "output_type": "stream",
     "text": [
      "True\n"
     ]
    }
   ],
   "source": [
    "# The greater than > operator checks if the left string has a higher \n",
    "# Unicode value than the right string. If true, the Python interpreter\n",
    "# returns a True result. Since W has a Unicode value of 87, and you can \n",
    "# easily calculate that F has a Unicode value of 70, this comparison is\n",
    "# the same as 87 > 70. As this is true, Python will return a True \n",
    "# result.\n",
    "print(\"Wednesday\" > \"Friday\")"
   ]
  },
  {
   "cell_type": "code",
   "execution_count": 27,
   "id": "e25f0009",
   "metadata": {},
   "outputs": [
    {
     "name": "stdout",
     "output_type": "stream",
     "text": [
      "True\n"
     ]
    }
   ],
   "source": [
    "# The less than < operator checks if the left string has a lower \n",
    "# Unicode value than the right string. If you reference the Unicode \n",
    "# chart above, you can see that all lowercase letters have higher \n",
    "# Unicode values than uppercase letters. We can see that B has a \n",
    "# Unicode value of 66 and b has a Unicode value of 98. This \n",
    "# comparison is the same as 66 < 98, which is true. So, Python will \n",
    "# return a True result.\n",
    "print(\"Brown\" < \"brown\")"
   ]
  },
  {
   "cell_type": "code",
   "execution_count": 28,
   "id": "066466d1",
   "metadata": {},
   "outputs": [
    {
     "name": "stdout",
     "output_type": "stream",
     "text": [
      "False\n"
     ]
    }
   ],
   "source": [
    "# If the strings have the same first few letters, the comparison will \n",
    "# cycle through each letter of each string, from left to right until it \n",
    "# finds two letters that have different Unicode values. In this example, \n",
    "# both strings share the initial substring \"sun\", but then have \n",
    "# different letters with different Unicode values in the fourth place \n",
    "# in each string. So, the fourth letters 'b' and 't' of the two\n",
    "# strings are used for the comparison. Since 'b' does not have a higher\n",
    "# Unicode value than 't', the comparison returns a False result.\n",
    "print(\"sunbathe\" > \"suntan\")"
   ]
  },
  {
   "cell_type": "code",
   "execution_count": 32,
   "id": "521ea4dd",
   "metadata": {},
   "outputs": [
    {
     "name": "stdout",
     "output_type": "stream",
     "text": [
      "False\n"
     ]
    }
   ],
   "source": [
    "# If two identical strings are compared using the less than < comparison\n",
    "# operator, this will produce a False result because they are equal.\n",
    "print(\"Lima\" < \"Lima\")"
   ]
  },
  {
   "cell_type": "code",
   "execution_count": 34,
   "id": "1dbd6e59",
   "metadata": {},
   "outputs": [
    {
     "ename": "TypeError",
     "evalue": "'<' not supported between instances of 'str' and 'int'",
     "output_type": "error",
     "traceback": [
      "\u001b[1;31m---------------------------------------------------------------------------\u001b[0m",
      "\u001b[1;31mTypeError\u001b[0m                                 Traceback (most recent call last)",
      "Input \u001b[1;32mIn [34]\u001b[0m, in \u001b[0;36m<cell line: 5>\u001b[1;34m()\u001b[0m\n\u001b[0;32m      1\u001b[0m \u001b[38;5;66;03m# This last example illustrates the result of trying to compare two\u001b[39;00m\n\u001b[0;32m      2\u001b[0m \u001b[38;5;66;03m# items of different data types using the less than < operator. The \u001b[39;00m\n\u001b[0;32m      3\u001b[0m \u001b[38;5;66;03m# greater than > and less than operators < cannot be used to compare\u001b[39;00m\n\u001b[0;32m      4\u001b[0m \u001b[38;5;66;03m# two different data types. \u001b[39;00m\n\u001b[1;32m----> 5\u001b[0m \u001b[38;5;28mprint\u001b[39m(\u001b[38;5;124;43m\"\u001b[39;49m\u001b[38;5;124;43mFive\u001b[39;49m\u001b[38;5;124;43m\"\u001b[39;49m\u001b[43m \u001b[49m\u001b[38;5;241;43m<\u001b[39;49m\u001b[43m \u001b[49m\u001b[38;5;241;43m6\u001b[39;49m)\n",
      "\u001b[1;31mTypeError\u001b[0m: '<' not supported between instances of 'str' and 'int'"
     ]
    }
   ],
   "source": [
    "# This last example illustrates the result of trying to compare two\n",
    "# items of different data types using the less than < operator. The \n",
    "# greater than > and less than operators < cannot be used to compare\n",
    "# two different data types. \n",
    "print(\"Five\" < 6)"
   ]
  },
  {
   "cell_type": "markdown",
   "id": "df5bbc49",
   "metadata": {},
   "source": [
    "## PART 3: The Greater Than or Equal To >= and Less Than or Equal To <= Operators\n",
    "\n",
    "The greater than or equal to >= and less than or equal to <= operators can be used with strings as well. Like the other comparison operators, they will return a True or False Boolean result when a comparison is made between two strings. \n",
    "\n",
    "To check if a string has a larger or equal Unicode value than the first letter(s) of another string, use the greater than or equal to operator: >= \n",
    "\n",
    "To check if a string has a smaller or equal Unicode value than the first letter(s) of another string, use the less than or equal to operator: <=\n",
    "\n",
    "At this point, you should be familiar with how comparison operators work in Python. Can you determine what the results will be from the comparisons listed below? When you are ready to check your answers, click Run.\n",
    "\n",
    "\"my computer\" >= \"my chair\"\n",
    "\n",
    "\"Spring\" <= \"Winter\"\n",
    "\n",
    "\"pineapple\" >= \"pineapple\""
   ]
  },
  {
   "cell_type": "code",
   "execution_count": 35,
   "id": "85fb6c37",
   "metadata": {},
   "outputs": [
    {
     "name": "stdout",
     "output_type": "stream",
     "text": [
      "Is \"my computer\" greater than or equal to \"my chair\"? Result:  True\n",
      "Is \"Spring\" less than or equal to \"Winter\"? Result:  True\n",
      "Is \"pineapple\" less than or equal to \"pineapple\"? Result:  True\n"
     ]
    }
   ],
   "source": [
    "# Use the Unicode chart in Part 2 to determine if the Unicode values of \n",
    "# the first letters of each string are higher, lower, or equal to one\n",
    "# another. \n",
    "\n",
    "\n",
    "var1 = \"my computer\" >= \"my chair\"\n",
    "var2 = \"Spring\" <= \"Winter\"\n",
    "var3 = \"pineapple\" >= \"pineapple\"\n",
    " \n",
    "print(\"Is \\\"my computer\\\" greater than or equal to \\\"my chair\\\"? Result: \", var1)\n",
    "print(\"Is \\\"Spring\\\" less than or equal to \\\"Winter\\\"? Result: \", var2)\n",
    "print(\"Is \\\"pineapple\\\" less than or equal to \\\"pineapple\\\"? Result: \", var3)"
   ]
  },
  {
   "cell_type": "markdown",
   "id": "72f8bef0",
   "metadata": {},
   "source": [
    "## Logical Operators\n",
    "Logical operators are used to construct more complex expressions. You can make complex comparisons by joining comparison statements together using the logical operators: and, or, not. Complex comparisons return a Boolean (True or False) result. \n",
    "\n",
    "*and* \n",
    "\n",
    "Both sides of the statement being evaluated must be True for the whole statement to be True. \n",
    "\n",
    "Example: (5 > 1 and 5 < 10) = True\n",
    "\n",
    "*or* \n",
    "\n",
    "If either side of the comparison is True, then the whole statement is True. \n",
    "\n",
    "Example: (color = \"blue\" or color = \"green\") = True\n",
    "\n",
    "*not* \n",
    "\n",
    "Inverts the Boolean result of the statement immediately following it. So, if a statement evaluates to True, and we put the not operator in front of it, it would become False. \n",
    "\n",
    "Example: (not \"A\" == \"A\") = False"
   ]
  },
  {
   "cell_type": "code",
   "execution_count": 36,
   "id": "613a9ef3",
   "metadata": {},
   "outputs": [
    {
     "name": "stdout",
     "output_type": "stream",
     "text": [
      "True\n"
     ]
    }
   ],
   "source": [
    "# Example 1\n",
    "\n",
    "print((6*3 >= 18) and (9+9 <= 36/2))"
   ]
  },
  {
   "cell_type": "markdown",
   "id": "70ac21b3",
   "metadata": {},
   "source": [
    " In the example above, the following activities were completed by Python in the following order:  \n",
    "\n",
    "Python solves the numerical expressions using the order of operations. (6*3 >= 18) and (9+9 <= 36/2) becomes (18 >= 18) and (18 <= 18)\n",
    "\n",
    "Python compares the results of the numerical expressions using the comparison operators (in this case >= and <=). (18 >= 18) and (18 <= 18) becomes True and True\n",
    "\n",
    "Python checks if both sides of the logical operator \"and\" are true. True and True become True\n",
    "\n",
    "Python returns a Boolean value: True or False. The complex comparison returns a True result."
   ]
  },
  {
   "cell_type": "code",
   "execution_count": 37,
   "id": "305c28b8",
   "metadata": {},
   "outputs": [
    {
     "name": "stdout",
     "output_type": "stream",
     "text": [
      "False\n"
     ]
    }
   ],
   "source": [
    "# Example 2\n",
    "\n",
    "print(\"Nairobi\" < \"Milan\" and \"Nairobi\" > \"Hanoi\")"
   ]
  },
  {
   "cell_type": "markdown",
   "id": "a78329c1",
   "metadata": {},
   "source": [
    "In this next example, \"Nairobi\" < \"Milan\" and \"Nairobi\" > \"Hanoi\", the and logical operator is connecting two string comparison statements. You learned previously that using the greater than and less than operators on strings will test the alphabetical order (technically Unicode values) of the strings. So, this complex comparison is checking if \"Nairobi\" is alphabetized before \"Milan\" (False) AND after \"Hanoi\" (True). \n",
    "\n",
    "This comparison returns a False result because both sides of the logical operator are not True. A comparison statement like this might be used to iterate through a list of names to check if they are alphabetized in the correct order."
   ]
  },
  {
   "cell_type": "code",
   "execution_count": 38,
   "id": "7b41265c",
   "metadata": {},
   "outputs": [
    {
     "name": "stdout",
     "output_type": "stream",
     "text": [
      "True\n"
     ]
    }
   ],
   "source": [
    "# True or True returns True\n",
    "print((15/3 < 2+4) or (0 >= 6-7))"
   ]
  },
  {
   "cell_type": "code",
   "execution_count": 39,
   "id": "0d87b4fb",
   "metadata": {},
   "outputs": [
    {
     "name": "stdout",
     "output_type": "stream",
     "text": [
      "True\n"
     ]
    }
   ],
   "source": [
    "# False or True returns True\n",
    "country = \"New York City\"\n",
    "city = \"New York City\"\n",
    "print(country == \"New York City\" or city == \"New York City\")"
   ]
  },
  {
   "cell_type": "code",
   "execution_count": 40,
   "id": "f1673d88",
   "metadata": {},
   "outputs": [
    {
     "name": "stdout",
     "output_type": "stream",
     "text": [
      "True\n"
     ]
    }
   ],
   "source": [
    "# True or False returns True\n",
    "print(16 <= 4**2 or 9**(0.5) != 3)"
   ]
  },
  {
   "cell_type": "code",
   "execution_count": 41,
   "id": "b326ded6",
   "metadata": {},
   "outputs": [
    {
     "name": "stdout",
     "output_type": "stream",
     "text": [
      "False\n"
     ]
    }
   ],
   "source": [
    "# False or False returns False\n",
    "\"B_name\" > \"C_name\"\n",
    "\"B_name\" < \"A_name\"\n",
    "print(\"B_name\" > \"C_name\" or \"B_name\" < \"A_name\")"
   ]
  },
  {
   "cell_type": "markdown",
   "id": "96a8f77f",
   "metadata": {},
   "source": [
    "## The not Logical Operator\n",
    "\n",
    "The not logical operator inverts the value of the comparison expression. This is a helpful tool when you want to execute a block of code as long as a certain condition is not present.\n",
    "\n",
    "If the conditional  expression is True, the not logical operator can be added to make the expression not True (False). \n",
    "\n",
    "If the conditional  expression is False, the not logical operator can be added to make the expression not False (True).  "
   ]
  },
  {
   "cell_type": "code",
   "execution_count": 42,
   "id": "816df413",
   "metadata": {},
   "outputs": [
    {
     "name": "stdout",
     "output_type": "stream",
     "text": [
      "The value of x is:\n",
      "False\n",
      "\n",
      "The inverse value of x is:\n",
      "True\n"
     ]
    }
   ],
   "source": [
    "# Test Example 1:\n",
    "\n",
    "x = 2*3 > 6\n",
    "print(\"The value of x is:\")\n",
    "print(x)\n",
    "\n",
    "print(\"\")  # Prints a blank line\n",
    "\n",
    "print(\"The inverse value of x is:\")\n",
    "print(not x)"
   ]
  },
  {
   "cell_type": "code",
   "execution_count": 43,
   "id": "24f6bf4b",
   "metadata": {},
   "outputs": [
    {
     "name": "stdout",
     "output_type": "stream",
     "text": [
      "True\n"
     ]
    }
   ],
   "source": [
    "# Test Example 2: \n",
    "# What happens when you negate a False statement? \n",
    "# Click Run when you are ready to check your answer.\n",
    "\n",
    "\n",
    "today = \"Monday\"\n",
    "print(not today == \"Tuesday\") \n",
    "\n",
    "\n",
    "# The \"today\" variable states today is Monday. This makes the comparison \"today == Tuesday\" False. \n",
    "# The logical operator \"not\" inverts the False result to become True. \n",
    "# In other words, this expression asks if it is false that today is not Tuesday. More succinctly, \"not False\" means \"True.\""
   ]
  },
  {
   "cell_type": "markdown",
   "id": "30f0d977",
   "metadata": {},
   "source": [
    "## if Statements\n",
    "\n",
    "We can use the concept of branching to have our code alter its execution sequence depending on the values of variables. We can use an if statement to evaluate a comparison. We start with the if keyword, followed by our comparison. We end the line with a colon. The body of the if statement is then indented to the right. If the comparison is True, the code inside the if body is executed. If the comparison evaluates to False, then the code block is skipped and will not be run."
   ]
  },
  {
   "cell_type": "code",
   "execution_count": 44,
   "id": "c0ac67ea",
   "metadata": {},
   "outputs": [
    {
     "name": "stdout",
     "output_type": "stream",
     "text": [
      "False\n",
      "False\n",
      "True\n"
     ]
    }
   ],
   "source": [
    "# Example Exercise 2:\n",
    "\n",
    "def is_positive(number):\n",
    "  if number > 0:\n",
    "    return True\n",
    "  else:\n",
    "    return False\n",
    "\n",
    "print(is_positive(-5))\n",
    "print(is_positive(0))\n",
    "print(is_positive(13))"
   ]
  },
  {
   "cell_type": "code",
   "execution_count": 45,
   "id": "de14a115",
   "metadata": {},
   "outputs": [
    {
     "name": "stdout",
     "output_type": "stream",
     "text": [
      "True\n",
      "False\n"
     ]
    }
   ],
   "source": [
    "# Example Exercise 3: \n",
    "\n",
    "def is_even(number):\n",
    "    if number % 2 == 0:\n",
    "        return True\n",
    "    return False\n",
    "\n",
    "print(is_even(10))\n",
    "print(is_even(13))"
   ]
  },
  {
   "cell_type": "markdown",
   "id": "83581b42",
   "metadata": {},
   "source": [
    "## else Statements and the Modulo Operator\n",
    "\n",
    "The if statement, which executes code if an evaluation is true and skips the code if it’s false. \n",
    "But what if we wanted the code to do something different if the evaluation is false? \n",
    "We can do this using the else statement. The else statement follows an if block, and is composed of the keyword else followed by a colon. The body of the else statement is indented to the right, and will be executed if the above if statement doesn’t execute.\n",
    "\n",
    "The modulo operator, which is represented by the percent sign: %. This operator performs integer division, but only returns the remainder of this division operation. If we’re dividing 5 by 2, the quotient is 2, and the remainder is 1. Two 2s can go into 5, leaving 1 left over. So 5%2 would return 1. Dividing 10 by 5 would give us a quotient of 2 with no remainder, since 5 can go into 10 twice with nothing left over. In this case, 10%5 would return 0, as there is no remainder."
   ]
  },
  {
   "cell_type": "code",
   "execution_count": 46,
   "id": "ba3e7156",
   "metadata": {},
   "outputs": [],
   "source": [
    "# Example Exercise 1:\n",
    "\n",
    "def hint_username(username):\n",
    "    if len(username) < 3:\n",
    "        print(\"Invalid username. Must be at least 3 characters long.\")\n",
    "    elif len(username) > 15: \n",
    "        print(\"Invalid username. Must be at most 15 characters long.\")\n",
    "    else:\n",
    "        print(\"Valid username\")"
   ]
  },
  {
   "cell_type": "markdown",
   "id": "da94284d",
   "metadata": {},
   "source": [
    "## Complex Branching with elif Statements\n",
    "\n",
    "Building off of the if and else blocks, which allow us to branch our code depending on the evaluation of one statement, the elif statement allows us even more comparisons to perform more complex branching. Very similar to the if statements, an elif statement starts with the elif keyword, followed by a comparison to be evaluated. This is followed by a colon, and then the code block on the next line, indented to the right. An elif statement must follow an if statement, and will only be evaluated if the if statement was evaluated as false. You can include multiple elif statements to build complex branching in your code to do all kinds of powerful things!"
   ]
  },
  {
   "cell_type": "code",
   "execution_count": 47,
   "id": "1aabb700",
   "metadata": {},
   "outputs": [
    {
     "name": "stdout",
     "output_type": "stream",
     "text": [
      "True\n",
      "False\n"
     ]
    }
   ],
   "source": [
    "# The value of 10*4 (40) is greater than 14+23 (37), therefore this \n",
    "# comparison expression will return the Boolean value of True.\n",
    "print(10*4 > 14+23) # Should print True\n",
    "\n",
    "# The letter \"t\" has a Unicode value of 116 and the letter \"s\" has a\n",
    "# Unicode value of 115. Since 116 is not less than 115, the \n",
    "# comparison of \"tall\" < \"short\" (or 116 < 115) is False. \n",
    "print(\"tall\" < \"short\")  # Should print False"
   ]
  },
  {
   "cell_type": "code",
   "execution_count": 48,
   "id": "6d5f20ca",
   "metadata": {},
   "outputs": [
    {
     "name": "stdout",
     "output_type": "stream",
     "text": [
      "Requested web page not found on server\n"
     ]
    }
   ],
   "source": [
    "# This function accepts one variable as a parameter\n",
    "def translate_error_code(error_code):\n",
    "\n",
    "# The if-elif-else block assesses the value of the variable\n",
    "# passed to the function as a parameter. The if statement uses \n",
    "# the equality operator == to test the value of the variable.\n",
    "# This test returns a Boolean (True/False) result.\n",
    "    if error_code == \"401 Unauthorized\":\n",
    "# If the comparison above returns True, then the indented \n",
    "# line(s) inside the if-statement will run. In this case, the\n",
    "# action is to assign a string to the translation variable.\n",
    "# The remainder of the if-elif-else block will not run.\n",
    "# The Python interpreter will skip to the next line outside of \n",
    "# the if-elif-else block. In this case, the next line is the \n",
    "# return value statement.  \n",
    "        translation = \"Server received an unauthenticated request\"\n",
    "\n",
    "# If the initial if-statement returns a False result, then the\n",
    "# first elif-statement will run a different test on the value\n",
    "# of the variable.\n",
    "    elif error_code == \"404 Not Found\":\n",
    "# If the first elif-statement returns a True result, then the\n",
    "# indented line(s) inside the first elif-statement will run. \n",
    "# After this line, the remainder of the if-elif-else block will\n",
    "# not run. The Python interpreter will skip to the next line\n",
    "# outside of the if-elif-else block. \n",
    "        translation = \"Requested web page not found on server\"\n",
    "\n",
    "# If both the initial if-statement and the first elif-statement \n",
    "# return a False result, then the second elif-statement will\n",
    "# run.\n",
    "    elif error_code == \"408 Request Timeout\":\n",
    "# If the second elif-statement returns a True result, then the\n",
    "# indented line(s) inside the second elif-statement will run. \n",
    "# After this line, the remainder of the if-elif-else block will\n",
    "# not run. The Python interpreter will skip to the next line\n",
    "# outside of the if-elif-else block. \n",
    "        translation = \"Server request to close unused connection\"\n",
    "\n",
    "# If the conditional tests above do not produce a True result\n",
    "# then the else-statement will run. \n",
    "    else:\n",
    "        translation = \"Unknown error code\"\n",
    "# The if-elif-else block ends.\n",
    "\n",
    "# The next line outside of the if-elif-else block will run\n",
    "# after exiting the block. In this case, the next line returns\n",
    "# the output from the if-elif-else block.\n",
    "    return translation\n",
    "\n",
    "# The print() function allows us to display the output of the\n",
    "# function. To call a function in a print statement, the syntax\n",
    "# is print(name_of_function(parameter))\n",
    "print(translate_error_code(\"404 Not Found\"))\n",
    "\n",
    "# Expected output: Requested web page not found on server"
   ]
  },
  {
   "cell_type": "code",
   "execution_count": 49,
   "id": "61cddfd6",
   "metadata": {},
   "outputs": [
    {
     "name": "stdout",
     "output_type": "stream",
     "text": [
      "Provide IT Support to employees\n"
     ]
    }
   ],
   "source": [
    "# A function is created with the def() keyword. The parameter\n",
    "# variable \"time_as_string\" is passed to the function through a \n",
    "# call to the function.\n",
    "def task_reminder(time_as_string):\n",
    "\n",
    "    # The following if-elif-else block assigns various strings to\n",
    "    # the variable \"task\" depending on specific conditions. The\n",
    "    # test conditions are set using the == equality comparison \n",
    "    # operator. In this case, the time passed through the \n",
    "    # \"time_as_string\" parameter variable is tested as the \n",
    "    # specific condition. So, if the time  is \"11:30 a.m.\", then \n",
    "    # \"task\" is assigned the value: \"Run TPS report\".\n",
    "    if time_as_string == \"8:00 a.m.\":\n",
    "        task = \"Check overnight backup images\"\n",
    "    elif time_as_string == \"11:30 a.m.\":\n",
    "        task = \"Run TPS report\"\n",
    "    elif time_as_string == \"5:30 p.m.\":\n",
    "        task = \"Reboot servers\"\n",
    "    # The else statement is a catchall for all other values of \n",
    "    # the \"time_as_string\" parameter variable not listed in the\n",
    "    # if-elif block of code.\n",
    "    else:\n",
    "        task = \"Provide IT Support to employees\"\n",
    "\n",
    "    # This line returns the value of \"task\" to the function call.\n",
    "    return task\n",
    "\n",
    "# This line calls the function and passes a parameter  \n",
    "# (\"10:00 a.m.\") to the function.\n",
    "print(task_reminder(\"10:00 a.m.\"))\n",
    "# Should print \"Provide IT Support to employees\""
   ]
  },
  {
   "cell_type": "code",
   "execution_count": 50,
   "id": "004431d8",
   "metadata": {},
   "outputs": [
    {
     "name": "stdout",
     "output_type": "stream",
     "text": [
      "120\n",
      "-2\n",
      "False\n",
      "This comparison is True\n",
      "0\n"
     ]
    }
   ],
   "source": [
    "# Example 1\n",
    "# Evaluate the output of this print statement\n",
    "\n",
    "def product(a, b):\n",
    "        return(a*b)\n",
    "\n",
    "print(product(product(2,4), product(3,5)))\n",
    " \n",
    "#################################\n",
    "\n",
    "# Example 2 \n",
    "# Evaluate the output of this print statement\n",
    "\n",
    "def difference(a, b):\n",
    "        return(a-b)\n",
    "\n",
    "def sum(a, b):\n",
    "        return(a+b)\n",
    "\n",
    "print(difference(sum(2,2), sum(3,3)))\n",
    "\n",
    "\n",
    "#################################\n",
    "\n",
    "\n",
    "# Example 3\n",
    "# Evaluate the Boolean output of this comparison\n",
    "\n",
    "\n",
    "print((5 >= 2*4) and (5 <= 4*3))\n",
    "\n",
    "\n",
    "#################################\n",
    "\n",
    "\n",
    "# Example 4 \n",
    "# Evaluate the value of the comparison in the if statement \n",
    "\n",
    "\n",
    "x = 3\n",
    "if x+5 > x**2 or x % 4 != 0:\n",
    "        print(\"This comparison is True\")\n",
    "\n",
    "\n",
    "#################################\n",
    "\n",
    "\n",
    "# Example 5 \n",
    "# Evaluate the output of this if-elif-else statement\n",
    "\n",
    "\n",
    "number = 6\n",
    "if number * 2 < 14:\n",
    "        print(number * 6 % 3)\n",
    "elif number > 7:\n",
    "        print(100 / number)\n",
    "else:\n",
    "        print(7 - number)\n",
    "\n",
    "\n",
    "# Click Run to check your answers. If you are having trouble \n",
    "# calculating the correct answers manually, please review the\n",
    "# Practice Quiz Study Guides, videos, and readings in this Module."
   ]
  },
  {
   "cell_type": "code",
   "execution_count": 51,
   "id": "9977be36",
   "metadata": {},
   "outputs": [
    {
     "name": "stdout",
     "output_type": "stream",
     "text": [
      "0.3333333333333333\n"
     ]
    }
   ],
   "source": [
    "def get_remainder(x, y):\n",
    " \n",
    "  if x == 0 or y == 0 or x ==y:\n",
    "    remainder = 0\n",
    "  else:\n",
    "    remainder = (x % y) / y\n",
    "  return remainder\n",
    "\n",
    "\n",
    "print(get_remainder(10, 3))"
   ]
  },
  {
   "cell_type": "code",
   "execution_count": 52,
   "id": "475d199d",
   "metadata": {},
   "outputs": [
    {
     "name": "stdout",
     "output_type": "stream",
     "text": [
      "Not there yet, x=0\n",
      "Not there yet, x=1\n",
      "Not there yet, x=2\n",
      "Not there yet, x=3\n",
      "Not there yet, x=4\n",
      "x=5\n"
     ]
    }
   ],
   "source": [
    "x = 0\n",
    "while x < 5:\n",
    "    print(\"Not there yet, x=\" + str(x))\n",
    "    x = x + 1\n",
    "print(\"x=\" + str(x))"
   ]
  },
  {
   "cell_type": "code",
   "execution_count": 53,
   "id": "09416c80",
   "metadata": {},
   "outputs": [
    {
     "name": "stdout",
     "output_type": "stream",
     "text": [
      "Hello\n",
      "Hello\n",
      "Hello\n",
      "Hello\n",
      "Hello\n"
     ]
    }
   ],
   "source": [
    "# define and initialize variables with the right value\n",
    "\n",
    "my_variable = 5\n",
    "\n",
    "while my_variable < 10:\n",
    "    print(\"Hello\")\n",
    "    my_variable +=1"
   ]
  },
  {
   "cell_type": "code",
   "execution_count": 54,
   "id": "6d81f15e",
   "metadata": {},
   "outputs": [
    {
     "name": "stdout",
     "output_type": "stream",
     "text": [
      "3\n",
      "2\n",
      "1\n",
      "Zero!\n"
     ]
    }
   ],
   "source": [
    "\n",
    "def count_down(start_number):\n",
    "    current = start_number\n",
    "    while (current > 0):\n",
    "        print(current)\n",
    "        current -= 1\n",
    "    print(\"Zero!\")\n",
    "\n",
    "count_down(3)"
   ]
  },
  {
   "cell_type": "markdown",
   "id": "997217af",
   "metadata": {},
   "source": [
    "## Common Pitfalls With Variable Initialization\n",
    "\n",
    "You'll want to watch out for a common mistake: forgetting to initialize variables. If you try to use a variable without first initializing it, you'll run into a NameError. This is the Python interpreter catching the mistake and telling you that you’re using an undefined variable. The fix is pretty simple: initialize the variable by assigning the variable a value before you use it.\n",
    "\n",
    "Another common mistake to watch out for that can be a little trickier to spot is forgetting to initialize variables with the correct value. If you use a variable earlier in your code and then reuse it later in a loop without first setting the value to something you want, your code may wind up doing something you didn't expect. Don't forget to initialize your variables before using them!"
   ]
  },
  {
   "cell_type": "markdown",
   "id": "07b36e94",
   "metadata": {},
   "source": [
    "## Infinite Loops and How to Break Them\n",
    "\n",
    " When you're done laughing at my story, remember, when you're writing loops, it's a good idea to take a moment to consider the different values a variable can take. This helps you make sure your loop won't get stuck. If you see that your program is running forever without finishing, have a second look at your loops to check there's no infinite loop hiding somewhere in the code."
   ]
  },
  {
   "cell_type": "code",
   "execution_count": 55,
   "id": "8fa821dc",
   "metadata": {},
   "outputs": [
    {
     "name": "stdout",
     "output_type": "stream",
     "text": [
      "1\n",
      "2\n",
      "3\n",
      "4\n",
      "5\n"
     ]
    }
   ],
   "source": [
    "#Example exercise: \n",
    "def print_range(start, end): #Loop through the numbers from start to end\n",
    "    n = start\n",
    "    while n <= end:\n",
    "        print(n)\n",
    "        n += 1\n",
    "\n",
    "print_range(1, 5)  # Should print 1 2 3 4 5 (each number on its own line)"
   ]
  },
  {
   "cell_type": "code",
   "execution_count": 56,
   "id": "48a95675",
   "metadata": {},
   "outputs": [
    {
     "name": "stdout",
     "output_type": "stream",
     "text": [
      "5\n",
      "10\n",
      "15\n",
      "20\n",
      "25\n",
      "30\n",
      "35\n",
      "40\n",
      "45\n",
      "50\n",
      "Done\n"
     ]
    }
   ],
   "source": [
    "# Example of While Loop:\n",
    "\n",
    "multiplier = 1\n",
    "result = multiplier*5\n",
    "while result <= 50:\n",
    "  print(result)\n",
    "  multiplier += 1\n",
    "  result = multiplier*5\n",
    "print(\"Done\")\n",
    "\n",
    "# This while loop prints the multiples of 5 between 1 and 50. The\n",
    "# \"multiplier\" variable is initialized with the starting value of 1. \n",
    "# The \"result\" variable is initialized with the value of the \n",
    "# \"multiplier\" variable times 5. \n",
    " \n",
    "# The while loop specifies that the loop must iterate while it is True \n",
    "# that the \"result\" is less than or equal to 50. Within the while loop, \n",
    "# the code tells the Python interpreter to print the value of the \n",
    "# \"result\" variable. Then, the \"multiplier\" is incremented by 1 and the\n",
    "# \"result\" is assigned the new value of the \"multiplier\" times 5. \n",
    " \n",
    "# The end of the while loop is indicated by the indentation of the next \n",
    "# line of code moving one tab to the left. At this point, the Python\n",
    "# interpreter automatically loops back to the beginning of the while\n",
    "# loop to check the condition again with the new value of the \"result\"\n",
    "# variable. When the while loop condition becomes False (meaning\n",
    "# \"result\" is no longer less than or equal to 50), the interpreter exits\n",
    "# the loop and reads the next line of code outside of the loop. In this \n",
    "# case, that next line tells the interpreter to print the string \"Done\". \n",
    " \n",
    "# Click the \"Run\" button to check the result of this while loop."
   ]
  },
  {
   "cell_type": "markdown",
   "id": "108d8e8c",
   "metadata": {},
   "source": [
    "## Common Errors in while Loops\n",
    "If you get an error message on a loop or it appears to hang, your debugging checklist should include the following checks:\n",
    "\n",
    "Failure to initialize variables. Make sure all the variables used in the loop’s condition are initialized before the loop.\n",
    "\n",
    "Unintended infinite loops. Make sure that the body of the loop modifies the variables used in the condition, so that the loop will eventually end for all possible values of the variables. You can often prevent an infinite loop by using the break keyword or by adding end criteria to the condition part of the while loop.\n",
    "\n",
    " \n",
    "\n",
    "while Loop Terms\n",
    "while loop - Tells the computer to execute a set of instructions while a specified condition is True. In other words, while loops keep executing the same group of instructions until the condition becomes False.\n",
    "\n",
    "infinite loop - Missing a method for exiting the loop, causing the loop to run forever.\n",
    "\n",
    "break - A keyword that can be used to end a loop at a specific point."
   ]
  },
  {
   "cell_type": "markdown",
   "id": "21b40c76",
   "metadata": {},
   "source": [
    "## Math Concepts on the Practice Quiz\n",
    "The coding problems on the upcoming practice quiz will involve a few math concepts. Don’t worry if you are rusty on math. You will have plenty of support with these concepts on the quiz. The following is a quick overview of the math terms you will encounter on the quiz:  \n",
    "\n",
    "prime numbers - Integers that have only two factors, which are the number itself multiplied by 1. The lowest prime number is 2.\n",
    "\n",
    "prime factors - Prime numbers that are factors of an integer. For example, the prime numbers 2 and 5 are the prime factors of the number 10 (2x5=10). The prime factors of an integer will not produce a remainder when used to divide that integer. \n",
    "\n",
    "divisor - A number (denominator) that is used to divide another number (numerator). For example, if the number 10 is divided by 5, the number 5 is the divisor.\n",
    "\n",
    "sum of all divisors of a number - The result of adding all of the divisors of a number together.  \n",
    "\n",
    "multiplication table - An integer multiplied by a series of numbers and their results formatted as a table or a list"
   ]
  },
  {
   "cell_type": "code",
   "execution_count": 57,
   "id": "43b84751",
   "metadata": {},
   "outputs": [
    {
     "name": "stdout",
     "output_type": "stream",
     "text": [
      "0\n",
      "2\n",
      "4\n",
      "8\n"
     ]
    }
   ],
   "source": [
    "# This function counts the number of integer factors for a \n",
    "# \"given_number\" variable, passed through the function’s parameters.\n",
    "# The \"count\" return value includes the \"given_number\" itself as a \n",
    "# factor (n*1). \n",
    "def count_factors(given_number):\n",
    "    factor = 1\n",
    "    count = 1\n",
    "  # To include the \"given_number\" variable as a \"factor\", initialize\n",
    "  # the \"factor\" variable with the value 1 (if the \"factor\" variable\n",
    "  # were to start at 2, the \"given_number\" itself would be excluded).\n",
    "  # This \"if\" block will run if the \"given_number\" equals 0.\n",
    "    \n",
    "    if given_number == 0:\n",
    "    # If True, the return value will be 0 factors. \n",
    "        return 0\n",
    " \n",
    "  # The while loop will run while the \"factor\" is still less than\n",
    "  # the \"given_number\" variable.\n",
    "    while factor < given_number:\n",
    "    # This \"if\" block checks if the \"given_number\" can be divided by\n",
    "    # the \"factor\" variable without leaving a remainder. The modulo\n",
    "    # operator % is used to test for a remainder.\n",
    "    \n",
    "        if given_number % factor == 0:\n",
    "      # If True, then the \"factor\" variable is added to the count of\n",
    "      # the \"given_number\"’s integer factors.\n",
    "          count += 1\n",
    "    # When exiting the if block, increment the \"factor\" variable by 1\n",
    "    # to divide the \"given_number\" variable by a new \"factor\" value\n",
    "    # inside the while loop.\n",
    "        factor += 1\n",
    " \n",
    "  # When the interpreter exits either the while loop or the top if\n",
    "  # block, it will return the value of the \"count\" variable.\n",
    "    return count\n",
    " \n",
    "print(count_factors(0)) # Count value will be 0\n",
    "print(count_factors(3)) # Should count 2 factors (1x3)\n",
    "print(count_factors(10)) # Should count 4 factors (1x10, 2x5)\n",
    "print(count_factors(24)) # Should count 8 factors (1x24, 2x12, 3x8, and 4x6)"
   ]
  },
  {
   "cell_type": "code",
   "execution_count": 58,
   "id": "0786e1ed",
   "metadata": {},
   "outputs": [
    {
     "name": "stdout",
     "output_type": "stream",
     "text": [
      "0\n",
      "2\n",
      "4\n",
      "8\n"
     ]
    }
   ],
   "source": [
    "def count_factors(given_number):\n",
    "    factor = 1\n",
    "    count = 1\n",
    "    if given_number == 0:\n",
    "        return 0\n",
    "    while factor < given_number:\n",
    "        if given_number % factor == 0:\n",
    "            count += 1\n",
    "        factor += 1\n",
    "    return count\n",
    "print(count_factors(0)) # Count value will be 0\n",
    "print(count_factors(3)) # Should count 2 factors (1x3)\n",
    "print(count_factors(10)) # Should count 4 factors (1x10, 2x5)\n",
    "print(count_factors(24)) # Should count 8 factors (1x24, 2x12, 3x8, and 4x6)"
   ]
  },
  {
   "cell_type": "code",
   "execution_count": 59,
   "id": "71492c5c",
   "metadata": {},
   "outputs": [
    {
     "name": "stdout",
     "output_type": "stream",
     "text": [
      "5 + 1 = 6\n",
      "5 + 2 = 7\n",
      "5 + 3 = 8\n",
      "5 + 4 = 9\n",
      "5 + 5 = 10\n",
      "17 + 1 = 18\n",
      "17 + 2 = 19\n",
      "17 + 3 = 20\n"
     ]
    }
   ],
   "source": [
    "# This function outputs an addition table. It is written to end after\n",
    "# printing 5 lines of the addition table, but it will break out of the\n",
    "# loop if the \"my_sum\" variable exceeds 20. \n",
    " \n",
    "# The function accepts a \"given_number\" variable through its \n",
    "# parameters.\n",
    "def addition_table(given_number):\n",
    " \n",
    "    # The \"iterated_number\" and \"my_sum\" variables are initialized with\n",
    "    # the value of 1. Although the \"my_sum\" variable does not need any\n",
    "    # specific initial value, it still must be assigned a data type\n",
    "    # before being used in the while loop. By initializing \"my_sum\"\n",
    "    # with any integer, the data type will be set to int.\n",
    "    iterated_number = 1\n",
    "    my_sum = 1\n",
    " \n",
    "    # The while loop will run while it is True that the   \n",
    "    # \"iterated_number\" is less than or equal to 5.\n",
    "    while iterated_number <= 5:\n",
    " \n",
    "        # The \"my_sum\" variable is assigned the value of the\n",
    "        # \"given_number\" plus the \"iterated_number\" variables.\n",
    "        my_sum = given_number + iterated_number\n",
    " \n",
    "        # Test to see if the \"my_sum\" variable is greater than 20.\n",
    "        if my_sum > 20:\n",
    "            # If True, then use the break keyword to exit the loop. \n",
    "            break\n",
    "        # If False, the Python interpreter will move to the next line \n",
    "        # in the while loop after the if-statement has ended.  \n",
    " \n",
    "        # The print function will output the \"given_number\" plus\n",
    "        # the \"iterated_number\" equals \"my_sum\".\n",
    "        print(str(given_number), \"+\", str(iterated_number), \"=\", str(my_sum))\n",
    " \n",
    "        # Increment the \"iterated_number\" before the while loop starts\n",
    "        # over again to print a new \"my_sum\" value.\n",
    "        iterated_number += 1\n",
    " \n",
    " \n",
    "addition_table(5)\n",
    "addition_table(17)\n",
    "addition_table(30)\n",
    "\n",
    "# Expected output:\n",
    "# 5 + 1 = 6\n",
    "# 5 + 2 = 7\n",
    "# 5 + 3 = 8\n",
    "# 5 + 4 = 9\n",
    "# 5 + 5 = 10\n",
    "# 17 + 1 = 18\n",
    "# 17 + 2 = 19"
   ]
  },
  {
   "cell_type": "code",
   "execution_count": 60,
   "id": "203f00d1",
   "metadata": {},
   "outputs": [
    {
     "name": "stdout",
     "output_type": "stream",
     "text": [
      "5 + 1 = 6\n",
      "5 + 2 = 7\n",
      "5 + 3 = 8\n",
      "5 + 4 = 9\n",
      "5 + 5 = 10\n",
      "17 + 1 = 18\n",
      "17 + 2 = 19\n",
      "17 + 3 = 20\n"
     ]
    }
   ],
   "source": [
    "def add_tab(given_num):\n",
    "    iterated_num = 1\n",
    "    my_Sum = 1\n",
    "    while iterated_num <= 5:\n",
    "        my_Sum = given_num + iterated_num\n",
    "        if my_Sum > 20:\n",
    "            break\n",
    "    print(str(given_num), \"+\", str(iterated_num), \"=\", str(my_Sum))\n",
    "    iterated_num += 1\n",
    "\n",
    "addition_table(5)\n",
    "addition_table(17)\n",
    "addition_table(30)"
   ]
  },
  {
   "cell_type": "code",
   "execution_count": 61,
   "id": "a46a7641",
   "metadata": {},
   "outputs": [
    {
     "name": "stdout",
     "output_type": "stream",
     "text": [
      "False\n",
      "True\n",
      "True\n",
      "False\n"
     ]
    }
   ],
   "source": [
    "#Exercise Test 1:\n",
    "\n",
    "def is_power_of_two(number):\n",
    "    if number == 0:\n",
    "        return False\n",
    "  # This while loop checks if the \"number\" can be divided by two\n",
    "  # without leaving a remainder. How can you change the while loop to\n",
    "  # avoid a Python ZeroDivisionError?\n",
    "    while number % 2 == 0:\n",
    "        number = number // 2\n",
    "  # If after dividing by 2 \"number\" equals 1, then \"number\" is a power\n",
    "  # of 2.\n",
    "    if number == 1:\n",
    "        return True\n",
    "    return False\n",
    "  \n",
    "\n",
    "# Calls to the function\n",
    "print(is_power_of_two(0)) # Should be False\n",
    "print(is_power_of_two(1)) # Should be True\n",
    "print(is_power_of_two(8)) # Should be True\n",
    "print(is_power_of_two(9)) # Should be False"
   ]
  },
  {
   "cell_type": "code",
   "execution_count": 62,
   "id": "0794a461",
   "metadata": {},
   "outputs": [
    {
     "name": "stdout",
     "output_type": "stream",
     "text": [
      "0\n",
      "1\n",
      "55\n",
      "114\n"
     ]
    }
   ],
   "source": [
    "def sum_divisors(number):\n",
    "    divisor = 1  # Initialize the divisor variable\n",
    "    total = 0  # Initialize the total variable\n",
    "\n",
    "    if number < 1:\n",
    "        return 0\n",
    "\n",
    "    while divisor < number:  # Complete the condition for the while loop\n",
    "        if number % divisor == 0:\n",
    "            total += divisor\n",
    "        divisor += 1  # Increment the divisor variable\n",
    "\n",
    "    return total  # Return the total variable\n",
    "\n",
    "\n",
    "print(sum_divisors(0))  # Should print 0\n",
    "print(sum_divisors(3))  # Should print 1\n",
    "print(sum_divisors(36))  # Should print 1+2+3+4+6+9+12+18\n",
    "print(sum_divisors(102))  # Should print 1+2+3+6+17+34+51"
   ]
  },
  {
   "cell_type": "code",
   "execution_count": 63,
   "id": "beae3586",
   "metadata": {},
   "outputs": [
    {
     "name": "stdout",
     "output_type": "stream",
     "text": [
      "3x1=3\n",
      "3x2=6\n",
      "3x3=9\n",
      "3x4=12\n",
      "3x5=15\n",
      "5x1=5\n",
      "5x2=10\n",
      "5x3=15\n",
      "5x4=20\n",
      "5x5=25\n",
      "8x1=8\n",
      "8x2=16\n",
      "8x3=24\n"
     ]
    }
   ],
   "source": [
    "def multiplication_table(number):\n",
    "    # Initialize the appropriate variable\n",
    "    multiplier = 1\n",
    "\n",
    "    # Complete the while loop condition.\n",
    "    while multiplier <= 5:\n",
    "        result = number * multiplier \n",
    "        if  result > 25 :\n",
    "            # Enter the action to take if the result is greater than 25\n",
    "            break\n",
    "        print(str(number) + \"x\" + str(multiplier) + \"=\" + str(result))\n",
    "        \n",
    "        # Increment the appropriate variable\n",
    "        multiplier += 1\n",
    "\n",
    "\n",
    "multiplication_table(3) \n",
    "# Should print: \n",
    "# 3x1=3 \n",
    "# 3x2=6 \n",
    "# 3x3=9 \n",
    "# 3x4=12 \n",
    "# 3x5=15\n",
    "\n",
    "multiplication_table(5) \n",
    "# Should print: \n",
    "# 5x1=5\n",
    "# 5x2=10\n",
    "# 5x3=15\n",
    "# 5x4=20\n",
    "# 5x5=25\n",
    "\n",
    "multiplication_table(8) \n",
    "# Should print:\n",
    "# 8x1=8\n",
    "# 8x2=16\n",
    "# 8x3=24"
   ]
  },
  {
   "cell_type": "code",
   "execution_count": 64,
   "id": "e38ba90e",
   "metadata": {},
   "outputs": [
    {
     "name": "stdout",
     "output_type": "stream",
     "text": [
      "0\n",
      "1\n",
      "2\n",
      "3\n",
      "4\n",
      "5\n",
      "6\n",
      "7\n",
      "8\n",
      "9\n"
     ]
    }
   ],
   "source": [
    "for x in range(10):\n",
    "    print(x)"
   ]
  },
  {
   "cell_type": "markdown",
   "id": "6e9a809a",
   "metadata": {},
   "source": [
    "## A Closer Look at the Range() Function\n",
    "\n",
    "The in keyword, when used with the range() function, generates a sequence of integer numbers, which can be used with a for loop to control the start point, the end point, and the incremental values of the loop.  "
   ]
  },
  {
   "cell_type": "code",
   "execution_count": 65,
   "id": "78dc0203",
   "metadata": {},
   "outputs": [
    {
     "name": "stdout",
     "output_type": "stream",
     "text": [
      "0\n",
      "2\n",
      "4\n",
      "6\n",
      "8\n",
      "10\n"
     ]
    }
   ],
   "source": [
    "# This loop iterates on the value of the \"n\" variable in a range\n",
    "# of 0 to 10 (the value of the end-of-range index 11 is excluded).\n",
    "# The incremental value for the loop is 2. The print() function will \n",
    "# output the resulting value of \"n\" as the loop counts from 0 to 10 \n",
    "# (end-of-range index 11) in incremental steps of 2. This is one \n",
    "# method that can be used in Python to print a list of even numbers.\n",
    "\n",
    "\n",
    "for n in range(0,11,2):\n",
    "    print(n)\n",
    "\n",
    "\n",
    "# The loop should print 0, 2, 4, 6, 8, 10"
   ]
  },
  {
   "cell_type": "code",
   "execution_count": 66,
   "id": "6bffc808",
   "metadata": {},
   "outputs": [
    {
     "name": "stdout",
     "output_type": "stream",
     "text": [
      "6\n",
      "9\n",
      "12\n",
      "15\n",
      "18\n",
      "21\n"
     ]
    }
   ],
   "source": [
    "# This loop iterates on the value of the \"number\" variable in a range\n",
    "# of 2 to 7+1 (the value of the end-of-range index 7 is excluded, so \n",
    "# +1 has been added to the parameter to include the numeric value 7 in \n",
    "# the range). The incremental value for the loop is the default of +1.\n",
    "# The print() function will output the resulting value of \"number\" \n",
    "# multiplied by 3.\n",
    "\n",
    "\n",
    "for number in range(2,7+1):\n",
    "    print(number*3)\n",
    "\n",
    "\n",
    "# The loop should print 6, 9, 12, 15, 18, 21"
   ]
  },
  {
   "cell_type": "code",
   "execution_count": 68,
   "id": "2464cc80",
   "metadata": {},
   "outputs": [
    {
     "name": "stdout",
     "output_type": "stream",
     "text": [
      "2\n",
      "1\n",
      "0\n",
      "-1\n"
     ]
    }
   ],
   "source": [
    "# This loop iterates on the value of the \"x\" variable in a range\n",
    "# of 2 to -1 (the end-of-range index -2 is excluded). The third \n",
    "# parameter is also a negative number, making it a decremental value\n",
    "# of -1. The print() function will output the resulting value of\n",
    "# \"x\" as it starts at 2 and counts down to -1 (index -2).\n",
    "\n",
    "\n",
    "for x in range(2, -2, -1):\n",
    "    print(x)\n",
    "\n",
    "\n",
    "# The loop should print 2, 1, 0, -1"
   ]
  },
  {
   "cell_type": "markdown",
   "id": "947552a8",
   "metadata": {},
   "source": [
    "## Key takeaways\n",
    "\n",
    "The roles of the range(start, stop, step) function parameters are:\n",
    "\n",
    "Start - Beginning of range\n",
    "\n",
    "value included in range\n",
    "\n",
    "default = 0\n",
    "\n",
    "Stop - End of range\n",
    "\n",
    "value excluded from range (to include, use stop+1)\n",
    "\n",
    "no default\n",
    "\n",
    "must provide the ending index number \n",
    "\n",
    "Step - Incremental value \n",
    "\n",
    "default = 1"
   ]
  },
  {
   "cell_type": "markdown",
   "id": "bda6886a",
   "metadata": {},
   "source": [
    "## Nested Loops and Common Errors in Loops"
   ]
  },
  {
   "cell_type": "code",
   "execution_count": 69,
   "id": "607b7873",
   "metadata": {},
   "outputs": [
    {
     "name": "stdout",
     "output_type": "stream",
     "text": [
      "[0|0] [0|1] [0|2] [0|3] [0|4] [0|5] [0|6] \n",
      "[1|1] [1|2] [1|3] [1|4] [1|5] [1|6] \n",
      "[2|2] [2|3] [2|4] [2|5] [2|6] \n",
      "[3|3] [3|4] [3|5] [3|6] \n",
      "[4|4] [4|5] [4|6] \n",
      "[5|5] [5|6] \n",
      "[6|6] \n"
     ]
    }
   ],
   "source": [
    "# Example Exercise 1: \n",
    "\n",
    "for left in range(7):\n",
    "    for right in range(left,7):\n",
    "        print(\"[\" + str(left) + \"|\" + str(right) + \"]\", end=\" \")\n",
    "    print()"
   ]
  },
  {
   "cell_type": "code",
   "execution_count": 70,
   "id": "38dbc7f0",
   "metadata": {},
   "outputs": [
    {
     "name": "stdout",
     "output_type": "stream",
     "text": [
      "Dragons vs Wolves\n",
      "Dragons vs Pandas\n",
      "Dragons vs Unicorns\n",
      "Wolves vs Dragons\n",
      "Wolves vs Pandas\n",
      "Wolves vs Unicorns\n",
      "Pandas vs Dragons\n",
      "Pandas vs Wolves\n",
      "Pandas vs Unicorns\n",
      "Unicorns vs Dragons\n",
      "Unicorns vs Wolves\n",
      "Unicorns vs Pandas\n"
     ]
    }
   ],
   "source": [
    "# Example Exercise 2:\n",
    "\n",
    "teams = [ 'Dragons', 'Wolves', 'Pandas', 'Unicorns']\n",
    "\n",
    "for home_team in teams:\n",
    "    for away_team in teams:\n",
    "        if home_team != away_team:\n",
    "            print(home_team + \" vs \" + away_team)"
   ]
  },
  {
   "cell_type": "code",
   "execution_count": 71,
   "id": "95443145",
   "metadata": {},
   "outputs": [
    {
     "name": "stdout",
     "output_type": "stream",
     "text": [
      "Hi Taylor\n",
      "Hi Luisa\n",
      "Hi Jamaal\n",
      "Hi Eli\n"
     ]
    }
   ],
   "source": [
    "# Example Exercise 3: \n",
    "# Step 1: Define a function\n",
    "\n",
    "def greet_friends(friends):\n",
    "    for friend in friends: \n",
    "        print(\"Hi \" + friend)\n",
    "        \n",
    "# Step 2: create the list       \n",
    "greet_friends(['Taylor', 'Luisa', 'Jamaal', 'Eli'])"
   ]
  },
  {
   "cell_type": "markdown",
   "id": "5724d011",
   "metadata": {},
   "source": [
    "## Key take-aways: \n",
    "\n",
    "`for loops` are best when you want to iterate over a known sequence of elements but when you want to operate while a certain condition is true, `while loops` are the best choice. \n",
    "\n",
    "If you get an error that a certain type isn't iterable, you need to make sure the for loop is using a sequence of elements and not just one, and if you find your code iterating through each letter of a string when you want it to do it for the whole string, you probably want to have that string be a part of a list."
   ]
  },
  {
   "cell_type": "markdown",
   "id": "41253e07",
   "metadata": {},
   "source": [
    "## for Loops vs. while Loops\n",
    "\n",
    "for loops and while loops share several characteristics. Both loops can be used with a variety of data types, both can be nested, and both can be used with the keywords break and continue. However, there are important differences between the two types of loops: \n",
    "\n",
    "while loops are used when a segment of code needs to execute repeatedly while a condition is true\n",
    "\n",
    "for loops iterate over a sequence of elements, executing the body of the loop for each element in the sequence"
   ]
  },
  {
   "cell_type": "code",
   "execution_count": 72,
   "id": "c6ae0bdc",
   "metadata": {},
   "outputs": [
    {
     "name": "stdout",
     "output_type": "stream",
     "text": [
      "3\n",
      "9\n",
      "15\n"
     ]
    }
   ],
   "source": [
    "# Example of a for loop with the in keyword and the range() function:\n",
    "\n",
    "# This loop iterates on the value of the \"number\" variable in a range\n",
    "# of 1 to 6+1 (the upper range limit of 6 is excluded, so +1 has\n",
    "# been added to it to include 6 in the range). The incremental value\n",
    "# for the loop is 2 (number+2). The print() function will output the\n",
    "# resulting value of \"number\" multiplied by 3.\n",
    "\n",
    "\n",
    "for number in range(1,6+1,2):\n",
    "    print(number*3)\n",
    "\n",
    "\n",
    "# The loop should print 3, 9, 15"
   ]
  },
  {
   "cell_type": "code",
   "execution_count": 73,
   "id": "e54a3f4d",
   "metadata": {},
   "outputs": [
    {
     "name": "stdout",
     "output_type": "stream",
     "text": [
      "4\n",
      "9\n",
      "16\n",
      "25\n",
      "36\n",
      "49\n"
     ]
    }
   ],
   "source": [
    "# This loop iterates on the value of the \"number\" variable in a range\n",
    "# of 2 to 7 (the upper range limit of 8 is excluded). The print() \n",
    "# function will output the resulting value of \"number\" squared.\n",
    "\n",
    "\n",
    "for number in range(2,8):\n",
    "    print(number**2)\n",
    "\n",
    "\n",
    "# The loop should print 4, 9, 16, 25, 36, 49"
   ]
  },
  {
   "cell_type": "code",
   "execution_count": 74,
   "id": "e0efc28f",
   "metadata": {},
   "outputs": [
    {
     "name": "stdout",
     "output_type": "stream",
     "text": [
      "This is the outer loop iteration number 0\n",
      "Inner loop iteration number 0\n",
      "Inner loop iteration number 1\n",
      "Inner loop iteration number 2\n",
      "Inner loop iteration number 3\n",
      "Exit inner loop\n",
      "This is the outer loop iteration number 1\n",
      "Inner loop iteration number 0\n",
      "Inner loop iteration number 1\n",
      "Inner loop iteration number 2\n",
      "Inner loop iteration number 3\n",
      "Exit inner loop\n"
     ]
    }
   ],
   "source": [
    "# Example of Nested Loops:\n",
    "\n",
    "# This code demonstrates the outer and inner loop iterations of a pair \n",
    "# of nested for loops. Click \"Run\" to see the results. The outer loop\n",
    "# will run twice for the range pointer positions [0, 1] in range(2).\n",
    "# The inner loop will run 4 times for the range pointer positions \n",
    "# [0, 1, 2, 3] in range(3+1) or range(4) each time the outer loop runs.\n",
    "# So, the inner loop will execute 8 times in total.\n",
    "\n",
    "\n",
    "for x in range(2):\n",
    "    print(\"This is the outer loop iteration number \" + str(x))\n",
    "    for y in range(3+1):\n",
    "        print(\"Inner loop iteration number \" + str(y))\n",
    "    print(\"Exit inner loop\")"
   ]
  },
  {
   "cell_type": "code",
   "execution_count": 75,
   "id": "4d9d2e7f",
   "metadata": {},
   "outputs": [
    {
     "name": "stdout",
     "output_type": "stream",
     "text": [
      "0\n",
      "2\n",
      "4\n",
      "6\n"
     ]
    }
   ],
   "source": [
    "#  Example of a for Loop with Nested if Statement:  \n",
    "\n",
    "# This for loop iterates through the numbers 0 to 6. The if statement\n",
    "# uses the modulo operator to test if the \"x\" variable is divisible by\n",
    "# 2. If True, the if statement will print the value of \"x\" and exit\n",
    "# back into the for loop for the next iteration of \"x\". Since no \n",
    "# incremental value is specified in the range() parameters, the default\n",
    "# increment is +1. \n",
    "\n",
    "\n",
    "for x in range(7):\n",
    "    if x % 2 == 0:\n",
    "        print(x)\n",
    "\n",
    "\n",
    "# The loop should print 0, 2, 4, 6"
   ]
  },
  {
   "cell_type": "code",
   "execution_count": 76,
   "id": "0c0f5b0a",
   "metadata": {},
   "outputs": [
    {
     "name": "stdout",
     "output_type": "stream",
     "text": [
      "12\n",
      "18\n",
      "24\n",
      "30\n",
      "36\n"
     ]
    }
   ],
   "source": [
    "for n in range(6,18+1,3):\n",
    "    print(n*2)"
   ]
  },
  {
   "cell_type": "code",
   "execution_count": 77,
   "id": "361a496e",
   "metadata": {},
   "outputs": [
    {
     "name": "stdout",
     "output_type": "stream",
     "text": [
      "0\n",
      "6\n",
      "12\n",
      "18\n",
      "24\n",
      "30\n",
      "36\n"
     ]
    }
   ],
   "source": [
    "for n in range(0,36+1,6):\n",
    "    print(n)"
   ]
  },
  {
   "cell_type": "code",
   "execution_count": 78,
   "id": "246f1e0e",
   "metadata": {},
   "outputs": [
    {
     "name": "stdout",
     "output_type": "stream",
     "text": [
      "0\n",
      "2\n",
      "4\n",
      "6\n",
      "8\n",
      "10\n",
      "12\n",
      "14\n",
      "16\n",
      "18\n"
     ]
    }
   ],
   "source": [
    "for n in range(19):\n",
    "    if n % 2 == 0:\n",
    "        print(n)"
   ]
  },
  {
   "cell_type": "code",
   "execution_count": 79,
   "id": "a8fbd67a",
   "metadata": {},
   "outputs": [
    {
     "name": "stdout",
     "output_type": "stream",
     "text": [
      "0\n",
      "2\n",
      "4\n",
      "6\n",
      "8\n",
      "10\n",
      "12\n",
      "14\n",
      "16\n",
      "18\n"
     ]
    }
   ],
   "source": [
    "for n in range(10):\n",
    "    print(n+n)"
   ]
  },
  {
   "cell_type": "code",
   "execution_count": 80,
   "id": "1d664f92",
   "metadata": {},
   "outputs": [
    {
     "name": "stdout",
     "output_type": "stream",
     "text": [
      "1\n",
      "8\n",
      "27\n",
      "64\n",
      "125\n",
      "216\n",
      "343\n",
      "512\n",
      "729\n",
      "1000\n"
     ]
    }
   ],
   "source": [
    "for x in range(1, 11):\n",
    "    print(x ** 3)"
   ]
  },
  {
   "cell_type": "code",
   "execution_count": 81,
   "id": "c40981cc",
   "metadata": {},
   "outputs": [
    {
     "name": "stdout",
     "output_type": "stream",
     "text": [
      "0\n",
      "7\n",
      "14\n",
      "21\n",
      "28\n",
      "35\n",
      "42\n",
      "49\n",
      "56\n",
      "63\n",
      "70\n",
      "77\n",
      "84\n",
      "91\n",
      "98\n"
     ]
    }
   ],
   "source": [
    "for number in range (0, 101, 7):\n",
    "    print(number)"
   ]
  },
  {
   "cell_type": "markdown",
   "id": "3f922bf2",
   "metadata": {},
   "source": [
    "## Recursion (Optional)\n",
    "\n",
    "\n",
    "Recursion is the repeated application of the same procedure to a smaller problem. Have you ever played with a Russian nesting doll? They are a great visual example of recursion. Each doll has a smaller doll inside it. When you open up the doll to find the smaller one inside, you keep going until you reach the smallest doll which can't be opened. Recursion lets us tackle complex problems by reducing the problem to a simpler one."
   ]
  },
  {
   "cell_type": "code",
   "execution_count": 82,
   "id": "af4b06b3",
   "metadata": {},
   "outputs": [
    {
     "name": "stdout",
     "output_type": "stream",
     "text": [
      "Factorial called with 4\n",
      "Factorial called with 3\n",
      "Factorial called with 2\n",
      "Factorial called with 1\n",
      "Returning 1\n",
      "Returning 2 for factorial of 2\n",
      "Returning 6 for factorial of 3\n",
      "Returning 24 for factorial of 4\n"
     ]
    },
    {
     "data": {
      "text/plain": [
       "24"
      ]
     },
     "execution_count": 82,
     "metadata": {},
     "output_type": "execute_result"
    }
   ],
   "source": [
    "# Example exercise: factorial\n",
    "\n",
    "\n",
    "def factorial(n):\n",
    "    print(\"Factorial called with \" + str(n))\n",
    "    if n < 2:\n",
    "        print(\"Returning 1\")\n",
    "        return 1\n",
    "    result = n* factorial(n-1) # This is the recursive case where the funtion calls itself\n",
    "    print(\"Returning \" + str(result) + \" for factorial of \" + str(n))\n",
    "    return result\n",
    "\n",
    "factorial(4)"
   ]
  },
  {
   "cell_type": "markdown",
   "id": "c945787a",
   "metadata": {},
   "source": [
    "## Illustrative Example:\n",
    "\n",
    "The function sum_positive_numbers should return the sum of all positive numbers between the number n received and 1. For example, when n is 3 it should return 1+2+3=6, and when n is 5 it should return 1+2+3+4+5=15. Fill in the gaps to make this work:"
   ]
  },
  {
   "cell_type": "code",
   "execution_count": 84,
   "id": "2f6e85f0",
   "metadata": {},
   "outputs": [
    {
     "name": "stdout",
     "output_type": "stream",
     "text": [
      "6\n",
      "15\n"
     ]
    }
   ],
   "source": [
    "def sum_positive_numbers(n):\n",
    "    # The base case is n being smaller than 1\n",
    "    if n < 1:\n",
    "        return 0\n",
    "\n",
    "    # The recursive case is adding this number to \n",
    "    # the sum of the numbers smaller than this one.\n",
    "    return n + sum_positive_numbers(n-1)\n",
    "\n",
    "print(sum_positive_numbers(3)) # Should be 6\n",
    "print(sum_positive_numbers(5)) # Should be 15"
   ]
  },
  {
   "cell_type": "markdown",
   "id": "ddd5d95b",
   "metadata": {},
   "source": [
    "A recursive function must include a recursive case and base case. The recursive case calls the function again, with a different value. The base case returns a value without calling the same function."
   ]
  },
  {
   "cell_type": "code",
   "execution_count": 85,
   "id": "4176ad9d",
   "metadata": {},
   "outputs": [],
   "source": [
    "## What a recursive function will look like: \n",
    "def recursive_function(parameters):\n",
    "    if base_case_condition(parameters):\n",
    "        return base_case_value\n",
    "    recursive_function(modified_parameters)"
   ]
  },
  {
   "cell_type": "code",
   "execution_count": 86,
   "id": "0ff7039b",
   "metadata": {},
   "outputs": [
    {
     "name": "stdout",
     "output_type": "stream",
     "text": [
      "True\n",
      "True\n",
      "False\n"
     ]
    }
   ],
   "source": [
    "# Example exercise 1: \n",
    "\n",
    "def is_power_of(number, base):\n",
    "  # Base case: when number is smaller than base.\n",
    "  if number < base:\n",
    "    # If number is equal to 1, it's a power (base**0).\n",
    "    return number == 1\n",
    "\n",
    "  # Recursive case: keep dividing number by base.\n",
    "  return is_power_of(number // base, base)\n",
    "\n",
    "print(is_power_of(8,2)) # Should be True\n",
    "print(is_power_of(64,4)) # Should be True\n",
    "print(is_power_of(70,10)) # Should be False"
   ]
  },
  {
   "cell_type": "code",
   "execution_count": 87,
   "id": "9c5a244f",
   "metadata": {},
   "outputs": [
    {
     "name": "stdout",
     "output_type": "stream",
     "text": [
      "3\n",
      "8\n",
      "18\n"
     ]
    }
   ],
   "source": [
    "def get_members(group):\n",
    "  if group == \"sales\":\n",
    "    return ['John', 'Jane', 'Mike']\n",
    "  elif group == \"engineering\":\n",
    "    return ['Alex', 'Ben', 'Cindy', 'Dave', 'Eva', 'Frank', 'George', 'Henry']\n",
    "  elif group == \"accounting\":\n",
    "    return ['Kevin', 'Laura', 'Marvin', 'Nancy']\n",
    "  elif group == \"everyone\":\n",
    "    return [\"sales\", \"engineering\", \"accounting\"]\n",
    "  else:\n",
    "    return []\n",
    "\n",
    "def is_group(member):\n",
    "  return member in [\"sales\", \"engineering\", \"accounting\", \"everyone\"]\n",
    "\n",
    "\n",
    "def count_users(group):\n",
    "  count = 0\n",
    "  for member in get_members(group):\n",
    "    count += 1\n",
    "    if is_group(member):\n",
    "      count += count_users(member)\n",
    "  return count\n",
    "\n",
    "print(count_users(\"sales\")) # Should be 3\n",
    "print(count_users(\"engineering\")) # Should be 8\n",
    "print(count_users(\"everyone\")) # Should be 18"
   ]
  },
  {
   "cell_type": "code",
   "execution_count": 88,
   "id": "b2139f1b",
   "metadata": {},
   "outputs": [
    {
     "name": "stdout",
     "output_type": "stream",
     "text": [
      "6\n",
      "15\n"
     ]
    }
   ],
   "source": [
    "#Example Exercise: \n",
    "\n",
    "def sum_positive_numbers(n):\n",
    "  if n == 0:\n",
    "    return 0\n",
    "  return n + sum_positive_numbers(n-1)\n",
    "\n",
    "print(sum_positive_numbers(3)) # Should be 6\n",
    "print(sum_positive_numbers(5)) # Should be 15"
   ]
  },
  {
   "cell_type": "markdown",
   "id": "44e577ca",
   "metadata": {},
   "source": [
    "## Skill 1: Using for loops with the range() function\n",
    "\n",
    "### 1.1 Use a for loop with the range() function with the end-of-range value included in the range."
   ]
  },
  {
   "cell_type": "code",
   "execution_count": 89,
   "id": "a91967e7",
   "metadata": {},
   "outputs": [
    {
     "name": "stdout",
     "output_type": "stream",
     "text": [
      "0 10 20 30 40 50 60 70 80 90 100\n"
     ]
    }
   ],
   "source": [
    "# This function will accept an integer variable \"end\" and count by 10\n",
    "# from 0 to the \"end\" value.\n",
    "def count_by_10(end):\n",
    "    # Initializeq the \"count\" variable as a string.\n",
    "    count = \"\"\n",
    "\n",
    "    # The range function parameters instruct Python to start the count  \n",
    "    # at 0 and stop at the variable given as the upper end of the range. \n",
    "    # Since the value of the high end of a range is excluded by default,  \n",
    "    # you can make Python include the \"end\" value by adding +1 to it. \n",
    "    # The third parameter tells Python to increment the count by 10.\n",
    "    for number in range(0,end+1,10):\n",
    "\n",
    "        # Although the variable \"count\" will hold a count of integers,  \n",
    "        # this example will be converted to a string using \"str(number)\" \n",
    "        # in order to display the incremental count from 0 to the \"end\" \n",
    "        # value on the same line with a space \" \" separating each \n",
    "        # number.  \n",
    "        count += str(number) + \" \"\n",
    "        \n",
    "    # The .strip() method will trim the final space \" \" from the end of \n",
    "    # the string \"count\"  \n",
    "    return count.strip()\n",
    "\n",
    "\n",
    "# Call the function with 1 integer parameter.\n",
    "print(count_by_10(100))\n",
    "# Should print 0 10 20 30 40 50 60 70 80 90 100"
   ]
  },
  {
   "cell_type": "markdown",
   "id": "49f11d1c",
   "metadata": {},
   "source": [
    "### 1.2 Use a set of nested for loops with the range() function to create a matrix of numbers. \n",
    "\n",
    "Include the upper range value in the range() function using end+1."
   ]
  },
  {
   "cell_type": "code",
   "execution_count": 90,
   "id": "a8127ccd",
   "metadata": {},
   "outputs": [
    {
     "name": "stdout",
     "output_type": "stream",
     "text": [
      "1 2 3 4 \n",
      "2 4 6 8 \n",
      "3 6 9 12 \n",
      "4 8 12 16 \n"
     ]
    }
   ],
   "source": [
    "# This function uses a set of nested for loops with the range() function \n",
    "# to create a matrix of numbers. The upper range value in the range() \n",
    "# function should be included in the matrix. The matrix should consist \n",
    "# of a set of numbers that fill both rows and columns.\n",
    "def matrix(initial_number, end_of_first_row):\n",
    "\n",
    "\n",
    "    # It is an optional code style to assign the long variable names in the\n",
    "    # function parameters to shorter variable names. \n",
    "    n1 = initial_number \n",
    "    n2 = end_of_first_row+1  # include the upper range value with +1\n",
    "\n",
    "    # The first for loop will create the columns.\n",
    "    for column in range(n1, n2):\n",
    "\n",
    "        # The nested for loop will create the rows.\n",
    "        for row in range(n1, n2):\n",
    "\n",
    "            # To make the matrix of numbers easier to read, include a space\n",
    "            # between each number in the rows until the loop reaches the \n",
    "            # end of the row. You can override the default behavior of the \n",
    "            # print() function (which inserts a new line character after \n",
    "            # the print command runs) by using the \"end=\" \"\" parameter \n",
    "            # inside the print() function.  \n",
    "              print(column*row, end=\" \")\n",
    "\n",
    "        # The row ends when the upper range value is encountered within the \n",
    "        # nested for loop. The outer (column) for loop should insert a new line\n",
    "        # to create the next row. Use the print() function new line default \n",
    "        # behavior with an empty print() function:\n",
    "        print()\n",
    "\n",
    "\n",
    "# Call the function with 2 integer parameters. \n",
    "matrix(1, 4)\n",
    "# Should print:\n",
    "# 1 2 3 4 \n",
    "# 2 4 6 8 \n",
    "# 3 6 9 12 \n",
    "# 4 8 12 16 "
   ]
  },
  {
   "cell_type": "markdown",
   "id": "eac60b3a",
   "metadata": {},
   "source": [
    "### 1.3 Predict the final value of a nested for loop with range() functions."
   ]
  },
  {
   "cell_type": "code",
   "execution_count": 91,
   "id": "627919a6",
   "metadata": {},
   "outputs": [
    {
     "name": "stdout",
     "output_type": "stream",
     "text": [
      "0\n",
      "0\n",
      "1\n",
      "0\n",
      "1\n",
      "2\n",
      "0\n",
      "1\n",
      "2\n",
      "3\n",
      "0\n",
      "1\n",
      "2\n",
      "3\n",
      "4\n",
      "0\n",
      "1\n",
      "2\n",
      "3\n",
      "4\n",
      "5\n",
      "0\n",
      "1\n",
      "2\n",
      "3\n",
      "4\n",
      "5\n",
      "6\n",
      "0\n",
      "1\n",
      "2\n",
      "3\n",
      "4\n",
      "5\n",
      "6\n",
      "7\n",
      "0\n",
      "1\n",
      "2\n",
      "3\n",
      "4\n",
      "5\n",
      "6\n",
      "7\n",
      "8\n"
     ]
    }
   ],
   "source": [
    "# For this example, the outer for loop uses an end of range index of \n",
    "# 10. The value of index 10 will be 10-1, or 9.  \n",
    "for outer_loop in range(10):\n",
    "\n",
    "    # Using the \"outer_loop\" variable as the end of range for the  \n",
    "    # inner loop, means the end of range index will be 9. The value \n",
    "    # of index 9 will be 9-1, or 8.\n",
    "    for inner_loop in range(outer_loop):\n",
    "\n",
    "        # The printed result is the value of \"inner_loop\". Since  \n",
    "        # there aren’t any calculations in this loop, there is a \n",
    "        # simple shortcut for solving what the final value printed \n",
    "        # by the \"inner_loop\" will be. The solution is to simply use \n",
    "        # the value of the \"inner_loop\" index, which is 8.\n",
    "        print(inner_loop)"
   ]
  },
  {
   "cell_type": "markdown",
   "id": "c9272e80",
   "metadata": {},
   "source": [
    "### 1.4 Find and fix an error in a for loop with range() function.  "
   ]
  },
  {
   "cell_type": "code",
   "execution_count": 92,
   "id": "5a4b5a0a",
   "metadata": {},
   "outputs": [
    {
     "name": "stdout",
     "output_type": "stream",
     "text": [
      "11 9 7 5 3 1 "
     ]
    }
   ],
   "source": [
    "# This function should count down by -2 from 11 to 1, so that it only\n",
    "# prints odd numbers. \n",
    "\n",
    "# This range(11, -2) tells the for loop to start at 11 and end at index\n",
    "# position -2 (which corresponds to the numeric value of -1). Since the\n",
    "# third incremental or decremental value is missing, the loop will \n",
    "# increment by the default of +1 instead of the intended -2 decrement.\n",
    "# Starting at index position 11 and incrementing by +1 will end the loop \n",
    "# automatically, because the index is not counting down towards -2 as \n",
    "# the end of the range. \n",
    "\n",
    "# To fix this problem, the range() needs three parameters:\n",
    "# First parameter should be the starting index position of 11.\n",
    "# Second parameter should be the ending index position of 0 (value 1).\n",
    "# Third parameter should be decrementing by -2.\n",
    "# So, the range should be configured as range(11, 0, -2).\n",
    "\n",
    "# Fix this loop with the corrected range parameters and click Run.\n",
    "for n in range(11,0,-2):\n",
    "    if n % 2 != 0:\n",
    "        print(n, end=\" \")\n",
    "\n",
    "# Should print: 11, 9, 7, 5, 3, 1 once the problem is fixed."
   ]
  },
  {
   "cell_type": "markdown",
   "id": "24565536",
   "metadata": {},
   "source": [
    "## Skill 2: Using while loops\n",
    "\n",
    "### 2.1 Use a while loop to print a sequence of numbers."
   ]
  },
  {
   "cell_type": "code",
   "execution_count": 93,
   "id": "2f881216",
   "metadata": {},
   "outputs": [
    {
     "name": "stdout",
     "output_type": "stream",
     "text": [
      "18 15 12 9 6 3 0 "
     ]
    }
   ],
   "source": [
    "# For this example, the while loop will count down by threes starting \n",
    "# from 18 and ending at 0.\n",
    "starting_number = 18\n",
    "\n",
    "# The while loop will continue to loop until it reaches 0.\n",
    "while starting_number >= 0:\n",
    "\n",
    "    # To make the sequence of numbers easier to read, include a space\n",
    "    # between each number in the sequence. You can override the default \n",
    "    # behavior of the print() function by using the \"end=\" parameter with\n",
    "    # the print() function. The syntax for adding a space is: end=\" \" \n",
    "    print(starting_number, end=\" \")\n",
    "    \n",
    "    # Decrement the \"starting_number\" variable by -3.\n",
    "    starting_number -= 3\n",
    "\n",
    "# Should print 18 15 12 9 6 3 0 "
   ]
  },
  {
   "cell_type": "markdown",
   "id": "5001a58d",
   "metadata": {},
   "source": [
    "### 2.2 Use a while loop to count the number of digits in a numerical value ."
   ]
  },
  {
   "cell_type": "code",
   "execution_count": 94,
   "id": "54d9e310",
   "metadata": {},
   "outputs": [
    {
     "name": "stdout",
     "output_type": "stream",
     "text": [
      "The CEO has a 7-figure salary.\n"
     ]
    }
   ],
   "source": [
    "# This function accepts a CEO's salary as a variable. \n",
    "# It counts the number of digits in the salary and \n",
    "# returns the sentence like:\n",
    "# \"The CEO has a 6-figure salary.\"\n",
    "def X_figure(salary):\n",
    "    \n",
    "    # Initializes the counter as an integer.\n",
    "    tally = 0\n",
    "\n",
    "    # The if-statement checks if the variable \"salary\" \n",
    "    # is equal to 0.\n",
    "    if salary == 0:\n",
    "        # If true, then it increments the counter to \n",
    "        # show there is 1 digit in 0.\n",
    "        tally += 1\n",
    "\n",
    "    # The while loop starts to run while the \"salary\"\n",
    "    # is greater than or equal to 1 (the loop will \n",
    "    # not run if the \"salary\" is 0).\n",
    "    while salary >= 1:\n",
    "\n",
    "        # The body of the while loop counts the digits \n",
    "        # in \"salary\" by counting the number of times \n",
    "        # \"salary\" can be divided by 10 until \"salary\" \n",
    "        # is no longer >= 1.\n",
    "        salary = salary/10\n",
    "\n",
    "        # Add 1 to the counter to tally the number of \n",
    "        # times the loop runs.\n",
    "        tally += 1\n",
    "\n",
    "    # Return the results of the \"tally\" of the number\n",
    "    # of digits in \"salary\".\n",
    "    return tally\n",
    " \n",
    "# Call the X_figure function with 1 parameter, converted to a string,\n",
    "# inside a print function with additional strings.\n",
    "print(\"The CEO has a \" + str(X_figure(2300000)) + \"-figure salary.\")\n",
    "\n",
    "# Should print\"The CEO has a 7-figure salary.\""
   ]
  },
  {
   "cell_type": "markdown",
   "id": "1df14fc5",
   "metadata": {},
   "source": [
    "## Skill 3: Using while loops with if-else statements\n",
    "\n",
    "### 3.1.1 Use a function to accept two variable integers. \n",
    "\n",
    "### 3.1.2 Use nested if-else statements and while loops to count up or count down from the first variable to the second variable.  "
   ]
  },
  {
   "cell_type": "code",
   "execution_count": 95,
   "id": "19eb0582",
   "metadata": {},
   "outputs": [
    {
     "name": "stdout",
     "output_type": "stream",
     "text": [
      "Going up: 1 | 2 | 3 | 4\n",
      "Going down: 6 | 5 | 4 | 3 | 2\n"
     ]
    }
   ],
   "source": [
    "# This function will accept two integer variables: the floor\n",
    "# number that a passenger \"enter\"s an elevator and the floor\n",
    "# number the passenger is going to \"exit\". Then, the function\n",
    "# counts up or down from the two floor numbers.\n",
    "def elevator_floor(enter, exit):\n",
    "    # The \"floor\" variable will be used as a counter and to  \n",
    "    # print the floor numbers. The \"elevator_direction\"\n",
    "    # variable will hold the string \"Going up: \" or \n",
    "    # \"Going down: \" plus the count up or down of the \n",
    "    # \"floor\" numbers.\n",
    "    floor = enter\n",
    "    elevator_direction = \"\"\n",
    "\n",
    "    # If the passenger enters the elevator on a floor that  \n",
    "    # is higher than the destination floor:\n",
    "    if enter > exit:\n",
    "        \n",
    "        # Then the \"elevator_direction\" string will be \n",
    "        # initialized with the string \"Going down: \".\n",
    "        elevator_direction = \"Going down: \"\n",
    "\n",
    "        # While the \"floor\" number is greater than or  \n",
    "        # equal to the exit floor number:\n",
    "        while floor >= exit:\n",
    "            # The \"floor\" number is converted to a string \n",
    "            # and is appended to the string variable \n",
    "            # \"elevator_direction\".\n",
    "            elevator_direction += str(floor)\n",
    "\n",
    "            # If the \"floor\" number is still greater than  \n",
    "            # the exit floor number:\n",
    "            if floor > exit:\n",
    "\n",
    "                # A pipe | character is added between each  \n",
    "                # floor number in the string variable  \n",
    "                # \"elevator_direction\" to provide a visual  \n",
    "                # divider between numbers. The if-statement \n",
    "                # above (if floor > exit) prevents the pipe \n",
    "                # character from appearing after the \"floor\" \n",
    "                # number is no longer greater than the \"exit\" \n",
    "                # variable. \n",
    "                elevator_direction += \" | \"\n",
    "                \n",
    "                # Decrement the \"floor\" number as the elevator \n",
    "                # goes down.\n",
    "            floor -= 1\n",
    "\n",
    "    # Else, it is implied that the passenger is entering the  \n",
    "    # elevator on a floor that is lower than the destination \n",
    "    # floor.\n",
    "    else:\n",
    "\n",
    "        # The \"elevator_direction\" string will be initialized \n",
    "        # with the string \"Going up: \".\n",
    "        elevator_direction = \"Going up: \"\n",
    "        \n",
    "        # While the \"floor\" number is less than or equal to the \n",
    "        # \"exit\" floor number:\n",
    "        while floor <= exit:\n",
    "\n",
    "            # Convert the the \"floor\" number to a string and append \n",
    "            # it to the string variable \"elevator_direction\".\n",
    "            elevator_direction += str(floor)\n",
    "\n",
    "            # If the entry floor number is still less than the exit \n",
    "            # floor number:\n",
    "            if floor < exit:\n",
    "\n",
    "                # The pipe | character is added between each  \n",
    "                # floor number in the string variable  \n",
    "                # \"elevator_direction\" to provide a visual  \n",
    "                # divider between numbers. The if-statement \n",
    "                # above (if floor < exit) prevents the pipe \n",
    "                # character from appearing after the \"floor\" \n",
    "                # number is no longer less than the \"exit\" \n",
    "                # variable. \n",
    "                elevator_direction += \" | \"\n",
    "\n",
    "            # Increments the \"floor\" number as the elevator goes up.\n",
    "            floor += 1\n",
    "\n",
    "    # Returns the string holding the elevator direction (Going down or \n",
    "    # Going up) along with the floor countdown or count up.\n",
    "    return elevator_direction\n",
    "\n",
    "\n",
    "# Call the function with 2 integer parameters. \n",
    "print(elevator_floor(1,4)) # Should print Going up: 1 | 2 | 3 | 4\n",
    "print(elevator_floor(6,2)) # Should print Going down: 6 | 5 | 4 | 3 | 2"
   ]
  },
  {
   "cell_type": "markdown",
   "id": "0b584919",
   "metadata": {},
   "source": [
    "## Reminder: Correct syntax is critical\n",
    "\n",
    "Using precise syntax is critical when writing code in any programming language, including Python. Even a small typo can cause a syntax error and the automated Python-coded quiz grader will mark your code as incorrect. This reflects real life coding errors in the sense that a single error in spelling, case, punctuation, etc. can cause your code to fail. Coding problems caused by imprecise syntax will always be an issue whether you are learning a programming language or you are using programming skills on the job. So, it is critical to start the habit of being precise in your code now. \n",
    "\n",
    "No credit will be given if there are any coding errors on the automated graded quizzes - including minor errors. Fortunately, you have 3 optional retake opportunities on the graded quizzes in this course. Additionally, you have unlimited retakes on practice quizzes and can review the videos and readings as many times as you need to master the concepts in this course.  \n",
    "\n",
    "Now, before starting the graded quiz, please review this list of common syntax errors coders make when writing code.\n",
    "\n",
    "## Common syntax errors:\n",
    "Misspellings\n",
    "\n",
    "Incorrect indentations\n",
    "\n",
    "Missing or incorrect key characters:\n",
    "\n",
    "Parenthetical types - ( curved ), [ square ], { curly }\n",
    "\n",
    "Quote types - \"straight-double\" or 'straight-single', “curly-double” or ‘curly-single’\n",
    "\n",
    "Block introduction characters, like colons - :\n",
    "\n",
    "Data type mismatches\n",
    "\n",
    "Missing, incorrectly used, or misplaced Python reserved words\n",
    "\n",
    "Using the wrong case (uppercase/lowercase) - Python is a case-sensitive language"
   ]
  },
  {
   "cell_type": "code",
   "execution_count": 96,
   "id": "64452c5b",
   "metadata": {},
   "outputs": [
    {
     "name": "stdout",
     "output_type": "stream",
     "text": [
      "odd\n",
      "even\n",
      "odd\n",
      "even\n",
      "odd\n"
     ]
    }
   ],
   "source": [
    "# Exercise 1: Find and correct the error in the python for loop function below. \n",
    "#The loop should  check each number from 1 to 5  and identify if the number is odd or even.\n",
    "\n",
    "for number in range(1, 6):\n",
    "    if number % 2 == 0:\n",
    "        print(\"even\")\n",
    "    else:\n",
    "        print(\"odd\")\n",
    "\n",
    "\n",
    "# Should print:\n",
    "# odd\n",
    "# even\n",
    "# odd\n",
    "# even\n",
    "# odd"
   ]
  },
  {
   "cell_type": "code",
   "execution_count": 97,
   "id": "9180e539",
   "metadata": {},
   "outputs": [
    {
     "name": "stdout",
     "output_type": "stream",
     "text": [
      "2\n",
      "3\n",
      "4\n",
      "1\n"
     ]
    }
   ],
   "source": [
    "def digits(n):\n",
    "    count = 0\n",
    "    if n == 0:\n",
    "        count += 1\n",
    "    while n != 0:\n",
    "        count += 1\n",
    "        n //= 10\n",
    "    return count\n",
    "    \n",
    "print(digits(25))   # Should print 2\n",
    "print(digits(144))  # Should print 3\n",
    "print(digits(1000)) # Should print 4\n",
    "print(digits(0))    # Should print 1"
   ]
  },
  {
   "cell_type": "code",
   "execution_count": 98,
   "id": "85f2b63a",
   "metadata": {},
   "outputs": [
    {
     "name": "stdout",
     "output_type": "stream",
     "text": [
      "* \n",
      "* * \n",
      "* * * \n",
      "* * * * \n",
      "* * * * * \n"
     ]
    }
   ],
   "source": [
    "def rows_asterisks(rows):\n",
    "    # Complete the outer loop range to control the number of rows\n",
    "    for x in range(rows): \n",
    "        # Complete the inner loop range to control the number of \n",
    "        # asterisks per row\n",
    "        for y in range(x + 1): \n",
    "            # Prints one asterisk and one space\n",
    "            print(\"*\", end=\" \")\n",
    "        # An empty print() function inserts a line break at the \n",
    "        # end of the row \n",
    "        print()\n",
    "\n",
    "\n",
    "rows_asterisks(5)"
   ]
  },
  {
   "cell_type": "code",
   "execution_count": 99,
   "id": "2e8fd4ca",
   "metadata": {},
   "outputs": [
    {
     "name": "stdout",
     "output_type": "stream",
     "text": [
      "Counting up: 1,2,3,4,5,6,7,8,9,10\n",
      "Counting down: 2,1\n",
      "Counting up: 5\n"
     ]
    }
   ],
   "source": [
    "def counter(start, stop):\n",
    "    if start > stop:\n",
    "        return_string = \"Counting down: \"\n",
    "        while start >= stop: # Complete the while loop\n",
    "            return_string += str(start) # Add the numbers to the \"return_string\"\n",
    "            if start > stop:\n",
    "                return_string += \",\"\n",
    "            start -= 1 # Increment the appropriate variable\n",
    "    else:\n",
    "        return_string = \"Counting up: \"\n",
    "        while start <= stop: # Complete the while loop\n",
    "            return_string += str(start) # Add the numbers to the \"return_string\"\n",
    "            if start < stop:\n",
    "                return_string += \",\"\n",
    "            start += 1 # Increment the appropriate variable\n",
    "    return return_string\n",
    "\n",
    "\n",
    "print(counter(1, 10)) # Should be \"Counting up: 1,2,3,4,5,6,7,8,9,10\"\n",
    "print(counter(2, 1)) # Should be \"Counting down: 2,1\"\n",
    "print(counter(5, 5)) # Should be \"Counting up: 5\""
   ]
  },
  {
   "cell_type": "code",
   "execution_count": 100,
   "id": "cc945461",
   "metadata": {},
   "outputs": [
    {
     "name": "stdout",
     "output_type": "stream",
     "text": [
      "2 3 4 5 6\n",
      "3 4 5 6 7 8 9 10\n",
      "-1 0 1\n",
      "0 1 2 3 4 5\n",
      "0\n"
     ]
    }
   ],
   "source": [
    "def all_numbers(minimum, maximum):\n",
    "\n",
    "    return_string = \"\" # Initializes variable as a string\n",
    "\n",
    "    # Complete the for loop with a range that includes all \n",
    "    # numbers up to and including the \"maximum\" value.\n",
    "    for number in range(minimum,maximum + 1): \n",
    "\n",
    "        # Complete the body of the loop by appending the number\n",
    "        # followed by a space to the \"return_string\" variable.\n",
    "        return_string += str(number) + \" \" \n",
    "\n",
    "    # This .strip command will remove the final \" \" space \n",
    "    # at the end of the \"return_string\".\n",
    "    return return_string.strip()\n",
    "\n",
    "\n",
    "print(all_numbers(2,6))  # Should be 2 3 4 5 6\n",
    "print(all_numbers(3,10)) # Should be 3 4 5 6 7 8 9 10\n",
    "print(all_numbers(-1,1)) # Should be -1 0 1\n",
    "print(all_numbers(0,5))  # Should be 0 1 2 3 4 5\n",
    "print(all_numbers(0,0))  # Should be 0"
   ]
  },
  {
   "cell_type": "code",
   "execution_count": 101,
   "id": "825330eb",
   "metadata": {},
   "outputs": [
    {
     "name": "stdout",
     "output_type": "stream",
     "text": [
      "2\n",
      "3\n",
      "4\n",
      "5\n",
      "6\n"
     ]
    }
   ],
   "source": [
    "for count in range(1, 6):\n",
    "    print(count+1)"
   ]
  },
  {
   "cell_type": "code",
   "execution_count": 102,
   "id": "96e76cc9",
   "metadata": {},
   "outputs": [
    {
     "name": "stdout",
     "output_type": "stream",
     "text": [
      "0\n",
      "0\n",
      "2\n",
      "0\n",
      "2\n",
      "0\n",
      "2\n",
      "4\n",
      "0\n",
      "2\n",
      "4\n"
     ]
    }
   ],
   "source": [
    "for outer_loop in range(2, 6+1):\n",
    "    for inner_loop in range(outer_loop):\n",
    "        if inner_loop % 2 == 0:\n",
    "            print(inner_loop)"
   ]
  },
  {
   "cell_type": "code",
   "execution_count": 103,
   "id": "fa8537f1",
   "metadata": {},
   "outputs": [
    {
     "name": "stdout",
     "output_type": "stream",
     "text": [
      "a\n",
      ".\n",
      "ran\n",
      "Pine\n",
      "apple\n"
     ]
    }
   ],
   "source": [
    "# String Indexing: \n",
    "\n",
    "name = \"Jane\"\n",
    "print(name[1])\n",
    "\n",
    "\n",
    "text = \"Random string with a lot if characters.\"\n",
    "print(text[-1])\n",
    "\n",
    "\n",
    "color = \"Orange\"\n",
    "print(color[1:4])\n",
    "\n",
    "fruit = \"Pineapple\"\n",
    "print(fruit[:4])\n",
    "print(fruit[4:])"
   ]
  },
  {
   "cell_type": "markdown",
   "id": "1a654925",
   "metadata": {},
   "source": [
    "## String Indexing and Slicing\n",
    "\n",
    "String indexing allows you to access individual characters in a string. You can do this by using square brackets and the location, or index, of the character you want to access. It's important to remember that Python starts indexes at 0. So to access the first character in a string, you would use the index [0]. If you try to access an index that’s larger than the length of your string, you’ll get an IndexError. This is because you’re trying to access something that doesn't exist! You can also access indexes from the end of the string going towards the start of the string by using negative values. The index [-1] would access the last character of the string, and the index [-2] would access the second-to-last character.\n",
    "\n",
    "You can also access a portion of a string, called a slice or a substring. This allows you to access multiple characters of a string. You can do this by creating a range, using a colon as a separator between the start and end of the range, like [2:5]. "
   ]
  },
  {
   "cell_type": "code",
   "execution_count": 104,
   "id": "d7efa319",
   "metadata": {},
   "outputs": [
    {
     "name": "stdout",
     "output_type": "stream",
     "text": [
      "5\n",
      "0\n",
      "7\n"
     ]
    }
   ],
   "source": [
    "# Another example: \n",
    "\n",
    "pets = \"Cats & Dogs\"\n",
    "\n",
    "print(pets.index(\"&\"))\n",
    "print(pets.index(\"C\"))\n",
    "print(pets.index(\"Dog\"))"
   ]
  },
  {
   "cell_type": "code",
   "execution_count": 105,
   "id": "8c167c1d",
   "metadata": {},
   "outputs": [
    {
     "data": {
      "text/plain": [
       "False"
      ]
     },
     "execution_count": 105,
     "metadata": {},
     "output_type": "execute_result"
    }
   ],
   "source": [
    "\"Dragons\" in pets"
   ]
  },
  {
   "cell_type": "code",
   "execution_count": 106,
   "id": "0c3dfbdf",
   "metadata": {},
   "outputs": [
    {
     "data": {
      "text/plain": [
       "True"
      ]
     },
     "execution_count": 106,
     "metadata": {},
     "output_type": "execute_result"
    }
   ],
   "source": [
    "\"Cats\" in pets"
   ]
  },
  {
   "cell_type": "code",
   "execution_count": 107,
   "id": "cb079588",
   "metadata": {},
   "outputs": [],
   "source": [
    "# Example Exercise: \n",
    "\n",
    "def replace_domain(email, old_domain, new_domain): #define the new function with 3 parameters\n",
    "    if \"@\" + old_domain in email:\n",
    "        index = email.index(\"@\" + old_domain)\n",
    "        new_email = email[:index] + \"@\" + new_domain\n",
    "        return new_email\n",
    "    return email"
   ]
  },
  {
   "cell_type": "code",
   "execution_count": 108,
   "id": "7f45187b",
   "metadata": {},
   "outputs": [
    {
     "data": {
      "text/plain": [
       "'MOUNTAINS'"
      ]
     },
     "execution_count": 108,
     "metadata": {},
     "output_type": "execute_result"
    }
   ],
   "source": [
    "\"Mountains\".upper()"
   ]
  },
  {
   "cell_type": "code",
   "execution_count": 109,
   "id": "35a1ece2",
   "metadata": {},
   "outputs": [
    {
     "data": {
      "text/plain": [
       "'mountains'"
      ]
     },
     "execution_count": 109,
     "metadata": {},
     "output_type": "execute_result"
    }
   ],
   "source": [
    "\"Mountains\".lower()"
   ]
  },
  {
   "cell_type": "code",
   "execution_count": 110,
   "id": "bd2ddbb8",
   "metadata": {},
   "outputs": [
    {
     "data": {
      "text/plain": [
       "'yes'"
      ]
     },
     "execution_count": 110,
     "metadata": {},
     "output_type": "execute_result"
    }
   ],
   "source": [
    "\"yes \".strip()\n",
    "\n",
    "# you can use also .lstrip() and .rstrip()"
   ]
  },
  {
   "cell_type": "markdown",
   "id": "2b36b13e",
   "metadata": {},
   "source": [
    "## Advanced String Methods\n",
    "\n",
    "We've covered a bunch of String class methods already, so let's keep building on those and run down some more advanced methods.\n",
    "\n",
    "The string method lower will return the string with all characters changed to lowercase. The inverse of this is the upper method, which will return the string all in uppercase. Just like with previous methods, we call these on a string using dot notation, like \"this is a string\".upper(). This would return the string \"THIS IS A STRING\". This can be super handy when checking user input, since someone might type in all lowercase, all uppercase, or even a mixture of cases.\n",
    "\n",
    "You can use the strip method to remove surrounding whitespace from a string. Whitespace includes spaces, tabs, and newline characters. You can also use the methods  lstrip and rstrip to remove whitespace only from the left or the right side of the string, respectively.\n",
    "\n",
    "The method count can be used to return the number of times a substring appears in a string. This can be handy for finding out how many characters appear in a string, or counting the number of times a certain word appears in a sentence or paragraph.\n",
    "\n",
    "If you wanted to check if a string ends with a given substring, you can use the method endswith. This will return True if the substring is found at the end of the string, and False if not.\n",
    "\n",
    "The isnumeric method can check if a string is composed of only numbers. If the string contains only numbers, this method will return True. We can use this to check if a string contains numbers before passing the string to the int() function to convert it to an integer, avoiding an error. Useful!\n",
    "\n",
    "We took a look at string concatenation using the plus sign, earlier. We can also use the join method to concatenate strings. This method is called on a string that will be used to join a list of strings. The method takes a list of strings to be joined as a parameter, and returns a new string composed of each of the strings from our list joined using the initial string. For example, \" \".join([\"This\",\"is\",\"a\",\"sentence\"]) would return the string \"This is a sentence\".\n",
    "\n",
    "The inverse of the join method is the split method. This allows us to split a string into a list of strings. By default, it splits by any whitespace characters. You can also split by any other characters by passing a parameter."
   ]
  },
  {
   "cell_type": "code",
   "execution_count": 111,
   "id": "daa9845d",
   "metadata": {},
   "outputs": [
    {
     "name": "stdout",
     "output_type": "stream",
     "text": [
      "Hello Manny, your lucky number is 15.\n"
     ]
    }
   ],
   "source": [
    "name = \"Manny\"\n",
    "number = len(name) * 3\n",
    "\n",
    "print(\"Hello {}, your lucky number is {}.\".format(name, number))"
   ]
  },
  {
   "cell_type": "code",
   "execution_count": 112,
   "id": "504b4084",
   "metadata": {},
   "outputs": [
    {
     "name": "stdout",
     "output_type": "stream",
     "text": [
      "Reed received 80 % on the exam\n",
      "Paige received 92 % on the exam\n",
      "Jesse received 85 % on the exam\n"
     ]
    }
   ],
   "source": [
    "#Expected output: \"Reed received 80% on the exam\".\n",
    "\n",
    "def student_grade(name, grade):\n",
    "    return \"{} received {} % on the exam\".format(name,grade)\n",
    "\n",
    "print(student_grade(\"Reed\", 80))\n",
    "print(student_grade(\"Paige\", 92))\n",
    "print(student_grade(\"Jesse\", 85))"
   ]
  },
  {
   "cell_type": "code",
   "execution_count": 113,
   "id": "b4b47a8a",
   "metadata": {},
   "outputs": [
    {
     "name": "stdout",
     "output_type": "stream",
     "text": [
      "Base price is $7.50 with Tax of $8.18\n"
     ]
    }
   ],
   "source": [
    "#Another example\n",
    "\n",
    "price = 7.50\n",
    "with_tax = price * 1.09\n",
    "\n",
    "print(\"Base price is ${:.2f} with Tax of ${:.2f}\".format(price, with_tax))"
   ]
  },
  {
   "cell_type": "code",
   "execution_count": 114,
   "id": "46486946",
   "metadata": {},
   "outputs": [
    {
     "name": "stdout",
     "output_type": "stream",
     "text": [
      "  0 F | -17.78 C\n",
      " 10 F | -12.22 C\n",
      " 20 F |  -6.67 C\n",
      " 30 F |  -1.11 C\n",
      " 40 F |   4.44 C\n",
      " 50 F |  10.00 C\n",
      " 60 F |  15.56 C\n",
      " 70 F |  21.11 C\n",
      " 80 F |  26.67 C\n",
      " 90 F |  32.22 C\n",
      "100 F |  37.78 C\n"
     ]
    }
   ],
   "source": [
    "# Exercise: convert celsius to farenheit\n",
    "\n",
    "def to_celcius(x):\n",
    "    return (x-32)*5/9\n",
    "\n",
    "for x in range(0,101,10):\n",
    "    print(\"{:>3} F | {:>6.2f} C\".format(x,to_celcius(x)))"
   ]
  },
  {
   "cell_type": "markdown",
   "id": "369869d5",
   "metadata": {},
   "source": [
    "## String Formatting\n",
    "\n",
    "\n",
    "You can use the format method on strings to concatenate and format strings in all kinds of powerful ways. To do this, create a string containing curly brackets, {}, as a placeholder, to be replaced. Then call the format method on the string using .format() and pass variables as parameters. The variables passed to the method will then be used to replace the curly bracket placeholders. This method automatically handles any conversion between data types for us. \n",
    "\n",
    "If the curly brackets are empty, they’ll be populated with the variables passed in the order in which they're passed. However, you can put certain expressions inside the curly brackets to do even more powerful string formatting operations. You can put the name of a variable into the curly brackets, then use the names in the parameters. This allows for more easily readable code, and for more flexibility with the order of variables.\n",
    "\n",
    "You can also put a formatting expression inside the curly brackets, which lets you alter the way the string is formatted. For example, the formatting expression {:.2f} means that you’d format this as a float number, with two digits after the decimal dot. The colon acts as a separator from the field name, if you had specified one. You can also specify text alignment using the greater than operator: >. For example, the expression {:>3.2f} would align the text three spaces to the right, as well as specify a float number with two decimal places. String formatting can be very handy for outputting easy-to-read textual output."
   ]
  },
  {
   "cell_type": "markdown",
   "id": "983cb157",
   "metadata": {},
   "source": [
    "## String Reference Guide\n",
    "\n",
    "In Python, there are a lot of things you can do with strings. In this guide, you’ll find the most common string operations and string methods.\n",
    "\n",
    "### String operations\n",
    "len(string) - Returns the length of the string\n",
    "\n",
    "for character in string - Iterates over each character in the string\n",
    "\n",
    "if substring in string - Checks whether the substring is part of the string\n",
    "\n",
    "string[i] - Accesses the character at index i of the string, starting at zero\n",
    "\n",
    "string[i:j] - Accesses the substring starting at index i, ending at index j minus 1. If i is omitted, its value defaults to 0. If j is omitted, the value will default to len(string).\n",
    "\n",
    "String methods\n",
    "string.lower() - Returns a copy of the string with all lowercase characters\n",
    "\n",
    "string.upper() - Returns a copy of the string with all uppercase characters\n",
    "\n",
    "string.lstrip() - Returns a copy of the string with the left-side whitespace removed\n",
    "\n",
    "string.rstrip() - Returns a copy of the string with the right-side whitespace removed\n",
    "\n",
    "string.strip() - Returns a copy of the string with both the left and right-side whitespace removed\n",
    "\n",
    "string.count(substring) - Returns the number of times substring is present in the string\n",
    "\n",
    "string.isnumeric() - Returns True if there are only numeric characters in the string. If not, returns False.\n",
    "\n",
    "string.isalpha() - Returns True if there are only alphabetic characters in the string. If not, returns False.\n",
    "\n",
    "string.split() - Returns a list of substrings that were separated by whitespace (whitespace can be a space, tab, or new line)\n",
    "\n",
    "string.split(delimiter) - Returns a list of substrings that were separated by whitespace or a delimiter\n",
    "\n",
    "string.replace(old, new) - Returns a new string where all occurrences of old have been replaced by new.\n",
    "\n",
    "delimiter.join(list of strings) - Returns a new string with all the strings joined by the delimiter"
   ]
  },
  {
   "cell_type": "markdown",
   "id": "b24f4213",
   "metadata": {},
   "source": [
    "### String Operations and Methods\n",
    ".format() - String method that can be used to concatenate and format strings. \n",
    "\n",
    "{:.2f} - Within the .format() method, limits a floating point variable to 2 decimal places. The number of decimal places can be customized.\n",
    "\n",
    "len(string) - String operation that returns the length of the string.\n",
    "\n",
    "string[x] - String operation that accesses the character at index [x] of the string, where indexing starts at zero.\n",
    "\n",
    "string[x:y] - String operation that accesses a substring starting at index [x] and ending at index [y-1]. If x is omitted, its value defaults to 0. If y is omitted, the value will default to len(string).\n",
    "\n",
    "string.replace(old, new) - String method that returns a new string where all occurrences of an old substring have been replaced by a new substring.\n",
    "\n",
    "string.lower() - String method that returns a copy of the string with all lowercase characters."
   ]
  },
  {
   "cell_type": "markdown",
   "id": "98e6aa06",
   "metadata": {},
   "source": [
    "### Coding Skill \n",
    "1.1. Use a for loop to iterate through each letter of a string.\\\n",
    "1.2 Add a character to the front of a string.\\\n",
    "1.3 Add a character to the end of a string.\n",
    "\n",
    "Use the .lower() string method to convert the case (uppercase/lowercase) of the letters within a string variable. This method is often used to eliminate cases as a factor when comparing two strings. For example, all lowercase “cat” is not equal to “Cat” because “Cat” contains an uppercase letter. To be able to compare the two strings to see if they are the same word, you can use the .lower() string method to remove capitalization as a factor in the string comparison."
   ]
  },
  {
   "cell_type": "code",
   "execution_count": 115,
   "id": "13d7423d",
   "metadata": {},
   "outputs": [
    {
     "name": "stdout",
     "output_type": "stream",
     "text": [
      "True\n",
      "False\n",
      "True\n"
     ]
    }
   ],
   "source": [
    "# This function accepts a given string and checks each character of \n",
    "# the string to see if it is a letter or not. If the character is a\n",
    "# letter, that letter is added to the end of the string variable\n",
    "# \"forwards\" and to the beginning of the string variable \"backwards\".\n",
    "def mirrored_string(my_string):\n",
    "\n",
    "    # Two variables are initialized as string data types using empty \n",
    "    # quotes. The variable \"forwards\" will hold the \"my_string\"\n",
    "    # minus any character that is not a letter. The \"backwards\" \n",
    "    # variable will hold the same letters as \"forwards\", but in  \n",
    "    # in reverse order.\n",
    "    forwards = \"\"\n",
    "    backwards = \"\"\n",
    "\n",
    "    # The for loop iterates through each character of the \"my_string\"\n",
    "    for character in my_string:\n",
    "\n",
    "        # The if-statement checks if the character is not a space.\n",
    "        if character.isalpha():\n",
    "\n",
    "            # If True, the body of the loop adds the character to the\n",
    "            # to the end of \"forwards\" and to the front of\n",
    "            # \"backwards\". \n",
    "            forwards += character\n",
    "            backwards = character + backwards\n",
    "\n",
    "        # If False (meaning the character is not a letter), no action\n",
    "        # is needed. This coding approach results prevents any \n",
    "        # non-alphabetical characters from being written to the\n",
    "        # \"forwards\" and \"backwards\" variables. The for loop will \n",
    "        # restart until all characters in \"my_string\" have been\n",
    "        # processed.\n",
    "        \n",
    "    # The final if-statement compares the \"forwards\" and \"backwards\"\n",
    "    # strings to see if the letters are the same both forwards and\n",
    "    # backwards. Since Python is case sensitive, the two strings will \n",
    "    # need to be converted to use the same case for this comparison. \n",
    "    if forwards.lower() == backwards.lower():\n",
    "        return True\n",
    "    return False\n",
    " \n",
    "print(mirrored_string(\"12 Noon\")) # Should be True\n",
    "print(mirrored_string(\"Was it a car or cat I saw\")) # Should be False\n",
    "print(mirrored_string(\"'eve, Madam Eve\")) # Should be True\n"
   ]
  },
  {
   "cell_type": "markdown",
   "id": "d361d644",
   "metadata": {},
   "source": [
    "2.1 Use the format() method, with {} placeholders for variable data, to create a new string.\n",
    "\n",
    "2.2 Use a formatting expression, like {:.2f}, to format a float variable and configure the number of decimal places to display for the float. "
   ]
  },
  {
   "cell_type": "code",
   "execution_count": 116,
   "id": "14c01532",
   "metadata": {},
   "outputs": [
    {
     "name": "stdout",
     "output_type": "stream",
     "text": [
      "12 ounces equals 0.75 pounds\n",
      "50.5 ounces equals 3.16 pounds\n",
      "16 ounces equals 1.00 pounds\n"
     ]
    }
   ],
   "source": [
    "# This function converts measurement equivalents. Output is formatted \n",
    "# as, \"x ounces equals y pounds\", with y limited to 2 decimal places. \n",
    "def convert_weight(ounces):\n",
    "\n",
    "    # Conversion formula: 1 pound = 16 ounces\n",
    "    pounds = ounces/16 \n",
    "    \n",
    "    # The result is composed using the .format() method. There are two\n",
    "    # placeholders in the string: the first is for the \"ounces\" \n",
    "    # variable and the second is for the \"pounds\" variable. The second\n",
    "    # placeholder formats the float result of the conversion \n",
    "    # calculation to be limited to 2 decimal places.\n",
    "    result = \"{} ounces equals {:.2f} pounds\".format(ounces,pounds)\n",
    "    return result\n",
    "\n",
    "\n",
    "print(convert_weight(12)) # Should be: 12 ounces equals 0.75 pounds\n",
    "print(convert_weight(50.5)) # Should be: 50.5 ounces equals 3.16 pounds\n",
    "print(convert_weight(16)) # Should be: 16 ounces equals 1.00 pounds"
   ]
  },
  {
   "cell_type": "markdown",
   "id": "52e926df",
   "metadata": {},
   "source": [
    "3.1 Within the format() parameters, select characters at specific index [ ] positions from a variable string.  \n",
    "\n",
    "3.2 Use the format() method, with {} placeholders for variable data, to create a new string."
   ]
  },
  {
   "cell_type": "code",
   "execution_count": 117,
   "id": "0b74f8b7",
   "metadata": {},
   "outputs": [
    {
     "name": "stdout",
     "output_type": "stream",
     "text": [
      "Iva1985\n",
      "Rod2000\n",
      "Den1991\n"
     ]
    }
   ],
   "source": [
    "# This function generates a username using the first 3 letters of a\n",
    "# user’s last name plus their birth year. \n",
    "def username(last_name, birth_year):\n",
    "    \n",
    "    # The .format() method will use the first 3 letters at index \n",
    "    # positions [0,1,2] of the \"last_name\" variable for the first\n",
    "    # {} placeholder. The second {} placeholder concatenates the user’s\n",
    "    #  \"birth_year\" to that string to form a new string username.\n",
    "    return(\"{}{}\".format(last_name[0:3],birth_year))\n",
    "\n",
    "\n",
    "print(username(\"Ivanov\", \"1985\")) \n",
    "# Should display \"Iva1985\" \n",
    "print(username(\"Rodríguez\", \"2000\")) \n",
    "# Should display \"Rod2000\" \n",
    "print(username(\"Deng\", \"1991\")) \n",
    "# Should display \"Den1991\""
   ]
  },
  {
   "cell_type": "markdown",
   "id": "516c7f82",
   "metadata": {},
   "source": [
    "4.1 Use the .replace() method to replace part of a string.  \n",
    "\n",
    "4.2 Use the len() function to get the number of index positions in a string.\n",
    "\n",
    "4.3 Slice a string at a specific index position."
   ]
  },
  {
   "cell_type": "code",
   "execution_count": 118,
   "id": "9883b2d9",
   "metadata": {},
   "outputs": [
    {
     "name": "stdout",
     "output_type": "stream",
     "text": [
      "Last year’s annual report will be released in March 2024\n",
      "In April, the CEO will hold a conference\n",
      "The convention is scheduled for June\n"
     ]
    }
   ],
   "source": [
    "# This function checks a given schedule entry for an old date and, if \n",
    "# found, the function replaces it with a new date. \n",
    "def replace_date(schedule, old_date, new_date):\n",
    "\n",
    "    # Check if the given \"old_date\" appears at the end of the given \n",
    "    # string variable \"schedule\". \n",
    "    if schedule.endswith(old_date):\n",
    "\n",
    "        # If True, the body of the if-block will run. The variable \"n\" is\n",
    "        # used to hold the slicing index position. The len() function\n",
    "        # is used to measure the length of the string \"new_date\".\n",
    "        p = len(old_date)\n",
    "\n",
    "        # The \"new_schedule\" string holds the updated string with the \n",
    "        # old date replaced by the new date. The schedule[:-p] part of \n",
    "        # the code trims the \"old_date\" substring from \"schedule\" \n",
    "        # starting at the final index position (or right-side) counting\n",
    "        # towards the left the same number of index positions as \n",
    "        # calculated from len(old_date). Then, the code schedule[-p:]\n",
    "        # starts the indexing position at the slot where the first\n",
    "        # character of the \"old_date\" used to be positioned. The \n",
    "        # .replace(old_date, new_date) code inserts the \"new_date\" into\n",
    "        # the position where the \"old_date\" used to exist.  \n",
    "        new_schedule = schedule[:-p] + schedule[-p:].replace(old_date, new_date)\n",
    "\n",
    "        # Returns the schedule with the new date.\n",
    "        return new_schedule\n",
    "        \n",
    "    # If the schedule does not end with the old date, then return the\n",
    "    # original sentence without any modifications.\n",
    "    return schedule\n",
    " \n",
    " \n",
    "print(replace_date(\"Last year’s annual report will be released in March 2023\", \"2023\", \"2024\")) \n",
    "# Should display \"Last year’s annual report will be released in March 2024\"\n",
    "print(replace_date(\"In April, the CEO will hold a conference\", \"April\", \"May\")) \n",
    "# Should display \"In April, the CEO will hold a conference\"\n",
    "print(replace_date(\"The convention is scheduled for October\", \"October\", \"June\")) \n",
    "# Should display \"The convention is scheduled for June\"\n"
   ]
  },
  {
   "cell_type": "code",
   "execution_count": 119,
   "id": "358e62ce",
   "metadata": {},
   "outputs": [
    {
     "name": "stdout",
     "output_type": "stream",
     "text": [
      "True\n",
      "False\n",
      "True\n"
     ]
    }
   ],
   "source": [
    "# Test exercise:\n",
    "\n",
    "def is_palindrome(input_string):\n",
    "    # Two variables are initialized as string date types using empty \n",
    "    # quotes: \"reverse_string\" to hold the \"input_string\" in reverse\n",
    "    # order and \"new_string\" to hold the \"input_string\" minus the \n",
    "    # spaces between words, if any are found.\n",
    "    new_string = \"\"\n",
    "    reverse_string = \"\"\n",
    "\n",
    "    # Complete the for loop to iterate through each letter of the\n",
    "    # \"input_string\"\n",
    "    for letter in input_string:\n",
    "\n",
    "        # The if-statement checks if the \"letter\" is not a space.\n",
    "        if letter != \" \":\n",
    "\n",
    "            # If True, add the \"letter\" to the end of \"new_string\" and\n",
    "            # to the front of \"reverse_string\". If False (if a space\n",
    "            # is detected), no action is needed. Exit the if-block.\n",
    "            new_string += letter\n",
    "            reverse_string = letter + reverse_string\n",
    "\n",
    "    # Complete the if-statement to compare the \"new_string\" to the\n",
    "    # \"reverse_string\". Remember that Python is case-sensitive when\n",
    "    # creating the string comparison code. \n",
    "    if new_string.lower() == reverse_string.lower():\n",
    "\n",
    "        # If True, the \"input_string\" contains a palindrome.\n",
    "        return True\n",
    "\t\t\n",
    "    # Otherwise, return False.\n",
    "    return False\n",
    "\n",
    "\n",
    "print(is_palindrome(\"Never Odd or Even\")) # Should be True\n",
    "print(is_palindrome(\"abc\")) # Should be False\n",
    "print(is_palindrome(\"kayak\")) # Should be True"
   ]
  },
  {
   "cell_type": "code",
   "execution_count": 120,
   "id": "fb48fc75",
   "metadata": {},
   "outputs": [
    {
     "name": "stdout",
     "output_type": "stream",
     "text": [
      "12 miles equals 19.2 km\n",
      "5.5 miles equals 8.8 km\n",
      "11 miles equals 17.6 km\n"
     ]
    }
   ],
   "source": [
    "def convert_distance(miles):\n",
    "    km = miles * 1.6 \n",
    "    result = \"{} miles equals {:.1f} km\".format(miles,km)\n",
    "    return result\n",
    "\n",
    "\n",
    "print(convert_distance(12)) # Should be: 12 miles equals 19.2 km\n",
    "print(convert_distance(5.5)) # Should be: 5.5 miles equals 8.8 km\n",
    "print(convert_distance(11)) # Should be: 11 miles equals 17.6 km"
   ]
  },
  {
   "cell_type": "code",
   "execution_count": 121,
   "id": "55f7d196",
   "metadata": {},
   "outputs": [
    {
     "name": "stdout",
     "output_type": "stream",
     "text": [
      "Rain\n"
     ]
    }
   ],
   "source": [
    "weather = \"Rainfall\"\n",
    "\n",
    "print(weather[:4])"
   ]
  },
  {
   "cell_type": "code",
   "execution_count": 122,
   "id": "e1590185",
   "metadata": {},
   "outputs": [
    {
     "name": "stdout",
     "output_type": "stream",
     "text": [
      "Jane S.\n",
      "Francesco R.\n",
      "Jean-Luc G.\n"
     ]
    }
   ],
   "source": [
    "def nametag(first_name, last_name):\n",
    "    return(\"{} {}.\".format(first_name, last_name[0]))\n",
    "\n",
    "\n",
    "print(nametag(\"Jane\", \"Smith\")) \n",
    "# Should display \"Jane S.\" \n",
    "print(nametag(\"Francesco\", \"Rinaldi\")) \n",
    "# Should display \"Francesco R.\" \n",
    "print(nametag(\"Jean-Luc\", \"Grand-Pierre\")) \n",
    "# Should display \"Jean-Luc G.\""
   ]
  },
  {
   "cell_type": "code",
   "execution_count": 123,
   "id": "61558040",
   "metadata": {},
   "outputs": [
    {
     "name": "stdout",
     "output_type": "stream",
     "text": [
      "It's raining cats and dogs\n",
      "She sells seashells by the seashore\n",
      "The weather is nice in May\n",
      "The weather is nice in April\n"
     ]
    }
   ],
   "source": [
    "def replace_ending(sentence, old, new):\n",
    "    # Check if the old substring is at the end of the sentence \n",
    "    if sentence.endswith(old):\n",
    "        # Using i as the slicing index, combine the part\n",
    "        # of the sentence up to the matched string at the \n",
    "        # end with the new string\n",
    "        i = len(sentence) - len(old)\n",
    "        new_sentence = sentence[:i] + new\n",
    "        return new_sentence\n",
    "    return sentence\n",
    "\n",
    "print(replace_ending(\"It's raining cats and cats\", \"cats\", \"dogs\")) \n",
    "# Should display \"It's raining cats and dogs\"\n",
    "print(replace_ending(\"She sells seashells by the seashore\", \"seashells\", \"donuts\")) \n",
    "# Should display \"She sells seashells by the seashore\"\n",
    "print(replace_ending(\"The weather is nice in May\", \"may\", \"april\")) \n",
    "# Should display \"The weather is nice in May\"\n",
    "print(replace_ending(\"The weather is nice in May\", \"May\", \"April\")) \n",
    "# Should display \"The weather is nice in April\""
   ]
  },
  {
   "cell_type": "markdown",
   "id": "543f5be1",
   "metadata": {},
   "source": [
    "## Lists Defined\n",
    "\n",
    "Lists in Python are defined using square brackets, with the elements stored in the list separated by commas: list = [\"This\", \"is\", \"a\", \"list\"]. You can use the len() function to return the number of elements in a list: len(list) would return 4. You can also use the in keyword to check if a list contains a certain element. If the element is present, it will return a True boolean. If the element is not found in the list, it will return False. For example, \"This\" in list would return True in our example. Similar to strings, lists can also use indexing to access specific elements in a list based on their position. You can access the first element in a list by doing list[0], which would allow you to access the string \"This\".\n",
    "\n",
    "In Python, lists and strings are quite similar. They’re both examples of sequences of data. Sequences have similar properties, like (1) being able to iterate over them using for loops; (2) support indexing; (3) using the len function to find the length of the sequence; (4) using the plus operator + in order to concatenate; and (5) using the in keyword to check if the sequence contains a value. Understanding these concepts allows you to apply them to other sequence types as well."
   ]
  },
  {
   "cell_type": "code",
   "execution_count": 124,
   "id": "7cbdc302",
   "metadata": {},
   "outputs": [
    {
     "name": "stdout",
     "output_type": "stream",
     "text": [
      "['This', 'is', 'a', 'list']\n",
      "4\n",
      "This\n",
      "True\n"
     ]
    }
   ],
   "source": [
    "#Example Exercise:\n",
    "\n",
    "list = ['This', 'is', 'a', 'list']\n",
    "\n",
    "print(list)\n",
    "print(len(list))\n",
    "print(list[0])\n",
    "print(\"This\" in list)\n"
   ]
  },
  {
   "cell_type": "markdown",
   "id": "ea1c8692",
   "metadata": {},
   "source": [
    "## Tuples\n",
    "\n",
    "Strings and lists are both examples of sequences. Strings are sequences of characters, and are immutable. Lists are sequences of elements of any data type, and are mutable. The third sequence type is the tuple. Tuples are like lists, since they can contain elements of any data type. But unlike lists, tuples are immutable. They’re specified using parentheses instead of square brackets.\n",
    "\n",
    "You might be wondering why tuples are a thing, given how similar they are to lists. Tuples can be useful when we need to ensure that an element is in a certain position and will not change. Since lists are mutable, the order of the elements can be changed on us. Since the order of the elements in a tuple can't be changed, the position of the element in a tuple can have meaning. A good example of this is when a function returns multiple values. In this case, what gets returned is a tuple, with the return values as elements in the tuple. The order of the returned values is important, and a tuple ensures that the order isn’t going to change. Storing the elements of a tuple in separate variables is called unpacking. This allows you to take multiple returned values from a function and store each value in its own variable."
   ]
  },
  {
   "cell_type": "code",
   "execution_count": 125,
   "id": "900673c3",
   "metadata": {},
   "outputs": [
    {
     "data": {
      "text/plain": [
       "tuple"
      ]
     },
     "execution_count": 125,
     "metadata": {},
     "output_type": "execute_result"
    }
   ],
   "source": [
    "# Tuples and Lists\n",
    "\n",
    "def convert_seconds(seconds):\n",
    "    hours = seconds // 3600\n",
    "    minutes = (seconds - hours * 3600) // 60\n",
    "    remaining_seconds = seconds - hours * 3600 - minutes * 60\n",
    "    return hours, minutes, remaining_seconds\n",
    "\n",
    "result = convert_seconds(5000)\n",
    "type(result)"
   ]
  },
  {
   "cell_type": "code",
   "execution_count": 126,
   "id": "e12a1ead",
   "metadata": {},
   "outputs": [
    {
     "name": "stdout",
     "output_type": "stream",
     "text": [
      "(1, 23, 20)\n"
     ]
    }
   ],
   "source": [
    "# In Tuples, order matters\n",
    "print(result)"
   ]
  },
  {
   "cell_type": "code",
   "execution_count": 127,
   "id": "88bd312f",
   "metadata": {},
   "outputs": [
    {
     "name": "stdout",
     "output_type": "stream",
     "text": [
      "17.46\n",
      "0.48\n",
      "1.21\n"
     ]
    }
   ],
   "source": [
    "# Example Exercise: \n",
    "\n",
    "def file_size(file_info):\n",
    "    file_name, file_extension, size = file_info\n",
    "    return(\"{:.2f}\".format(size/ 1024))\n",
    "\n",
    "print(file_size(('Class Assignment', 'docx', 17875))) # Should print 17.46\n",
    "print(file_size(('Notes', 'txt', 496))) # Should print 0.48\n",
    "print(file_size(('Program', 'py', 1239))) # Should print 1.21"
   ]
  },
  {
   "cell_type": "code",
   "execution_count": 128,
   "id": "6afddf53",
   "metadata": {},
   "outputs": [
    {
     "name": "stdout",
     "output_type": "stream",
     "text": [
      "Total characters: 22, Average Length: 5.5\n"
     ]
    }
   ],
   "source": [
    "# Example Exercise:\n",
    "\n",
    "animals = [\"Lion\", \"Zebra\", \"Dolphin\", \"Monkey\"]\n",
    "chars = 0\n",
    "\n",
    "for animal in animals:\n",
    "    chars += len(animal)\n",
    "    \n",
    "print(\"Total characters: {}, Average Length: {}\".format(chars, chars/len(animals)))"
   ]
  },
  {
   "cell_type": "code",
   "execution_count": 129,
   "id": "2ab0bb1d",
   "metadata": {},
   "outputs": [
    {
     "name": "stdout",
     "output_type": "stream",
     "text": [
      "1 - Ashley\n",
      "2 - Dylan\n",
      "3 - Reese\n"
     ]
    }
   ],
   "source": [
    "# Example Exercise: \n",
    "\n",
    "winners = [\"Ashley\", \"Dylan\", \"Reese\"]\n",
    "\n",
    "for index, person in enumerate(winners):\n",
    "    print(\"{} - {}\".format(index + 1, person))"
   ]
  },
  {
   "cell_type": "code",
   "execution_count": 130,
   "id": "f2babb97",
   "metadata": {},
   "outputs": [
    {
     "name": "stdout",
     "output_type": "stream",
     "text": [
      "['Alex Diego <alex@example.com>', 'Shay Brandt <shay@example.com>']\n"
     ]
    }
   ],
   "source": [
    "# Example Exercise: \n",
    "\n",
    "def full_emails(people):\n",
    "    result = []\n",
    "    for email, name in people:\n",
    "        result.append(\"{} <{}>\".format(name, email))\n",
    "    return result\n",
    "\n",
    "print(full_emails([(\"alex@example.com\", \"Alex Diego\"), (\"shay@example.com\", \"Shay Brandt\")]))"
   ]
  },
  {
   "cell_type": "code",
   "execution_count": 131,
   "id": "7dfe3d03",
   "metadata": {},
   "outputs": [
    {
     "name": "stdout",
     "output_type": "stream",
     "text": [
      "['a', 'c', 'e', 'g']\n",
      "['Orange', 'Strawberry', 'Peach']\n"
     ]
    }
   ],
   "source": [
    "# Example Exercise: Try out the enumerate function for yourself in this quick exercise. Complete the skip_elements function to return every other element from the list, this time using the enumerate function to check if an element is in an even position or an odd position.\n",
    "\n",
    "def skip_elements(elements):\n",
    "    return [element for i, element in enumerate(elements)if i % 2 == 0]\n",
    "\n",
    "print(skip_elements([\"a\", \"b\", \"c\", \"d\", \"e\", \"f\", \"g\"])) # Should be ['a', 'c', 'e', 'g']\n",
    "print(skip_elements(['Orange', 'Pineapple', 'Strawberry', 'Kiwi', 'Peach'])) # Should be ['Orange', 'Strawberry', 'Peach']"
   ]
  },
  {
   "cell_type": "markdown",
   "id": "06adb851",
   "metadata": {},
   "source": [
    "## Iterating Over Lists Using Enumerate\n",
    "\n",
    "When we covered for loops, we showed the example of iterating over a list. This lets you iterate over each element in the list, exposing the element to the for loop as a variable. But what if you want to access the elements in a list, along with the index of the element in question? You can do this using the enumerate() function. The enumerate() function takes a list as a parameter and returns a tuple for each element in the list. The first value of the tuple is the index and the second value is the element itself."
   ]
  },
  {
   "cell_type": "code",
   "execution_count": 132,
   "id": "c88e321c",
   "metadata": {},
   "outputs": [
    {
     "name": "stdout",
     "output_type": "stream",
     "text": [
      "[7, 14, 21, 28, 35, 42, 49, 56, 63, 70]\n",
      "[6, 4, 4, 2, 4, 1]\n",
      "[0, 3, 6, 9, 12, 15, 18, 21, 24, 27, 30, 33, 36, 39, 42, 45, 48, 51, 54, 57, 60, 63, 66, 69, 72, 75, 78, 81, 84, 87, 90, 93, 96, 99]\n"
     ]
    }
   ],
   "source": [
    "# List Comprehensions:\n",
    "\n",
    "multiples = [ x*7 for x in range(1,11)]\n",
    "print(multiples)\n",
    "\n",
    "languages = [\"Python\", \"Perl\", \"Ruby\", \"Go\", \"Java\", \"C\"]\n",
    "lengths = [len(language) for language in languages]\n",
    "print(lengths)\n",
    "\n",
    "z = [x for x in range(0,101) if x % 3 == 0]\n",
    "print(z)"
   ]
  },
  {
   "cell_type": "code",
   "execution_count": 133,
   "id": "e05e5540",
   "metadata": {},
   "outputs": [
    {
     "name": "stdout",
     "output_type": "stream",
     "text": [
      "[1, 3, 5]\n",
      "[1, 3, 5, 7, 9]\n",
      "[1, 3, 5, 7, 9, 11]\n",
      "[1]\n",
      "[]\n"
     ]
    }
   ],
   "source": [
    "#Example Exercise:\n",
    "def odd_numbers(n):\n",
    "    return [x for x in range(1,n + 1) if x % 2 != 0]\n",
    "\n",
    "print(odd_numbers(5))  # Should print [1, 3, 5]\n",
    "print(odd_numbers(10)) # Should print [1, 3, 5, 7, 9]\n",
    "print(odd_numbers(11)) # Should print [1, 3, 5, 7, 9, 11]\n",
    "print(odd_numbers(1))  # Should print [1]\n",
    "print(odd_numbers(-1)) # Should print []"
   ]
  },
  {
   "cell_type": "markdown",
   "id": "841eaa84",
   "metadata": {},
   "source": [
    "## List Comprehension Examples\n",
    "\n",
    "You can create a list from a sequence using a for loop, but there’s a more streamlined way to do this by using a list comprehension. List comprehensions allow you to create a new list from a sequence or a range in a single line."
   ]
  },
  {
   "cell_type": "markdown",
   "id": "8cb79746",
   "metadata": {},
   "source": [
    "### Simple List Comprehension\n",
    "\n",
    "For example, [ x*2 for x in range(1,11) ] is a simple list comprehension. This single line of code iterates over a range from 1 to 10, multiplies each element in the range by 2, and creates a new list from all multiples of 2 from 2 to 20."
   ]
  },
  {
   "cell_type": "code",
   "execution_count": 134,
   "id": "77e8fd76",
   "metadata": {},
   "outputs": [
    {
     "name": "stdout",
     "output_type": "stream",
     "text": [
      "List comprehension result:\n",
      "[2, 4, 6, 8, 10, 12, 14, 16, 18, 20]\n",
      "Long form code result:\n",
      "[2, 4, 6, 8, 10, 12, 14, 16, 18, 20]\n"
     ]
    }
   ],
   "source": [
    "### Simple List Comprehension\n",
    "print(\"List comprehension result:\")\n",
    "\n",
    "# The following list comprehension compacts several lines \n",
    "# of code into one line:\n",
    "print([x*2 for x in range(1,11)]) \n",
    "\n",
    "\n",
    "\n",
    "### Long form for loop\n",
    "print(\"Long form code result:\")\n",
    "\n",
    "# The list comprehension above accomplishes the same result as\n",
    "# the long form version of the code:\n",
    "my_list = []\n",
    "for x in range(1,11):\n",
    "   my_list.append(x*2)\n",
    "print(my_list)"
   ]
  },
  {
   "cell_type": "markdown",
   "id": "3a978f23",
   "metadata": {},
   "source": [
    "### List Comprehension with Conditional Statement\n",
    "\n",
    "You can also use conditionals with list comprehensions to build even more complex and powerful statements. You can do this by appending an if statement to the end of the list comprehension. For example, [ x for x in range(1,101) if x % 10 == 0 ] generates a new list containing all the integers divisible by 10 from 1 to 100. The if statement evaluates each value in the range from 1 to 100 to check if it’s evenly divisible by 10. If it is, the number is added to a new list."
   ]
  },
  {
   "cell_type": "code",
   "execution_count": 135,
   "id": "6185a610",
   "metadata": {},
   "outputs": [
    {
     "name": "stdout",
     "output_type": "stream",
     "text": [
      "List comprehension result:\n",
      "[10, 20, 30, 40, 50, 60, 70, 80, 90, 100]\n",
      "Long form code result:\n",
      "[10, 20, 30, 40, 50, 60, 70, 80, 90, 100]\n"
     ]
    }
   ],
   "source": [
    "### List Comprehension with Conditional Statement\n",
    "print(\"List comprehension result:\")\n",
    "\n",
    "# The following list comprehension compacts multiple lines \n",
    "# of code into one line:\n",
    "print([ x for x in range(1,101) if x % 10 == 0 ])\n",
    "\n",
    "### Long form for loop with nested if-statement\n",
    "print(\"Long form code result:\")\n",
    "\n",
    "# The list comprehension above accomplishes the same result as\n",
    "# the long form version of the code:\n",
    "my_list = []\n",
    "for x in range(1,101):\n",
    "  if x % 10 == 0:\n",
    "    my_list.append(x)\n",
    "print(my_list)"
   ]
  },
  {
   "cell_type": "markdown",
   "id": "1a91b9ab",
   "metadata": {},
   "source": [
    "List comprehensions can be really powerful, but they can also be complex, resulting in code that’s hard to read. Be careful when using them, since it might make it more difficult for someone else looking at your code to easily understand what the code is doing. It is a best practice to add descriptive comments about any list comprehensions used in your code. This helps to communicate the purpose of list comprehensions to other coders. Comments will also help you remember the goal of the code when performing future code additions and maintenance.   "
   ]
  },
  {
   "cell_type": "markdown",
   "id": "d8323368",
   "metadata": {},
   "source": [
    "## Practice exercise\n",
    "\n",
    "This exercise will walk you through how to write a list comprehension to create a list of squared numbers (n*n). It needs to return a list of squares of consecutive numbers between “start” and “end” inclusively. For example, squares(2, 3) should return a list containing [4, 9].\n",
    "\n",
    "The function receives the variables “start” and “end” through the function parameters. \n",
    "\n",
    "In the return line, start by entering the list brackets [ ]\n",
    "\n",
    "Between the brackets [ ], enter the arithmetic expression to square a variable “n”. \n",
    "\n",
    "To the right of the square expression, write a for loop that iterates over “n” in a range from the “start” to “end” variables.\n",
    "\n",
    "Ensure the “end” range value is included in the range() by adding 1 to it.\n",
    "\n",
    "Run your code to see if it works! "
   ]
  },
  {
   "cell_type": "code",
   "execution_count": 136,
   "id": "daae896d",
   "metadata": {},
   "outputs": [
    {
     "name": "stdout",
     "output_type": "stream",
     "text": [
      "[4, 9]\n",
      "[1, 4, 9, 16, 25]\n",
      "[0, 1, 4, 9, 16, 25, 36, 49, 64, 81, 100]\n"
     ]
    }
   ],
   "source": [
    "def squares(start, end):\n",
    "    return [n ** 2 for n in range(start,end + 1)]\n",
    "\n",
    "\n",
    "print(squares(2, 3))  # Should print [4, 9]\n",
    "print(squares(1, 5))  # Should print [1, 4, 9, 16, 25]\n",
    "print(squares(0, 10)) # Should print [0, 1, 4, 9, 16, 25, 36, 49, 64, 81, 100]"
   ]
  },
  {
   "cell_type": "markdown",
   "id": "762f7638",
   "metadata": {},
   "source": [
    "### Common sequence operations\n",
    "\n",
    "Lists and tuples are both sequences and they share a number of sequence operations. The following common sequence operations are used by both lists and tuples:\n",
    "\n",
    "len(sequence) - Returns the length of the sequence.\n",
    "\n",
    "for element in sequence - Iterates over each element in the sequence.\n",
    "\n",
    "if element in sequence - Checks whether the element is part of the sequence.\n",
    "\n",
    "sequence[x] - Accesses the element at index [x] of the sequence, starting at zero\n",
    "\n",
    "sequence[x:y] - Accesses a slice starting at index [x], ending at index [y-1]. If [x] is omitted, the index will start at 0 by default. If [y] is omitted, the len(sequence) will set the ending index position by default.\n",
    "\n",
    "for index, element in enumerate(sequence) - Iterates over both the indices and the elements in the sequence at the same time.\n",
    "\n",
    "### List-specific operations and methods\n",
    "\n",
    "One major difference between lists and tuples is that lists are mutable (changeable) and tuples are immutable (not changeable). There are a few operations and methods that are specific to changing data within lists:\n",
    "\n",
    "list[index] = x - Replaces the element at index [n] with x.\n",
    "\n",
    "list.append(x) - Appends x to the end of the list.\n",
    "\n",
    "list.insert(index, x) - Inserts x at index position [index].\n",
    "\n",
    "list.pop(index) - Returns the element at [index] and removes it from the list. If [index] position is not in the list, the last element in the list is returned and removed.\n",
    "\n",
    "list.remove(x) - Removes the first occurrence of x in the list.\n",
    "\n",
    "list.sort() - Sorts the items in the list.\n",
    "\n",
    "list.reverse() - Reverses the order of items of the list.\n",
    "\n",
    "list.clear() - Deletes all items in the list.\n",
    "\n",
    "list.copy() - Creates a copy of the list.\n",
    "\n",
    "list.extend(other_list) - Appends all the elements of other_list at the end of list\n",
    "\n",
    "### List comprehensions\n",
    "\n",
    "A list comprehension is an efficient method for creating a new list from a sequence or a range in a single line of code. It is a best practice to add descriptive comments about any list comprehensions used in your code, as their purpose can be difficult to interpret by other coders.\n",
    "\n",
    "[expression for variable in sequence] - Creates a new list based on the given sequence. Each element in the new list is the result of the given expression.\n",
    "\n",
    "Example: my_list = [ x*2 for x in range(1,11) ]\n",
    "\n",
    "[expression for variable in sequence if condition] - Creates a new list based on a specified sequence. Each element is the result of the given expression; elements are added only if the specified condition is true. \n",
    "\n",
    "Example: my_list = [ x for x in range(1,101) if x % 10 == 0 ]"
   ]
  },
  {
   "cell_type": "markdown",
   "id": "485296d5",
   "metadata": {},
   "source": [
    "### Coding Skill 1.0\n",
    "\n",
    "Use a for loop to modify elements of a list.\n",
    "\n",
    "Use the list.append(old,new) method.\n",
    "\n",
    "Use the string.endswith() and string.replace() methods to modify the elements within a list."
   ]
  },
  {
   "cell_type": "code",
   "execution_count": 137,
   "id": "f07095a6",
   "metadata": {},
   "outputs": [
    {
     "name": "stdout",
     "output_type": "stream",
     "text": [
      "['January 2024', 'May 2025', 'April 2024', 'August 2024', 'September 2025', 'December 2024']\n"
     ]
    }
   ],
   "source": [
    "# This block of code changes the year on a list of dates.\n",
    "# The \"years\" list is given with existing elements. \n",
    "years = [\"January 2023\", \"May 2025\", \"April 2023\", \"August 2024\", \"September 2025\", \"December 2023\"]\n",
    "\n",
    "\n",
    "# The variable \"updated_years\" is initialized as a list data type \n",
    "# using empty square brackets []. This list will hold the new list\n",
    "# with the updated years. \n",
    "updated_years = []\n",
    "\n",
    "# The for loop checks each \"year\" element in the list \"years\".\n",
    "for year in years:\n",
    "\n",
    "    # The if-statement checks if the \"year\" element ends with the \n",
    "    # substring \"2023\". \n",
    "    if year.endswith(\"2023\"):\n",
    "\n",
    "        # If True, then a temporary variable \"new\" will hold the \n",
    "        # modified \"year\" element where the \"2023\" substring is \n",
    "        # replaced with the substring \"2024\".\n",
    "        new = year.replace(\"2023\",\"2024\")\n",
    "\n",
    "        # Then, the list \"updated_years\" is appended with the changed\n",
    "        # element held in the temporary variable \"new\".\n",
    "        updated_years.append(new)\n",
    "        \n",
    "    # If False, the original \"year\" element will be appended to the \n",
    "    # the \"updated_years\" list unchanged.\n",
    "    else:\n",
    "        updated_years.append(year)\n",
    "\n",
    "\n",
    "print(updated_years)"
   ]
  },
  {
   "cell_type": "markdown",
   "id": "2554d018",
   "metadata": {},
   "source": [
    "### Coding Skill 2.0\n",
    "\n",
    "Use a list comprehension to return values"
   ]
  },
  {
   "cell_type": "code",
   "execution_count": 138,
   "id": "0c74f81e",
   "metadata": {},
   "outputs": [
    {
     "name": "stdout",
     "output_type": "stream",
     "text": [
      "[4, 9]\n",
      "[1, 4, 9, 16, 25]\n",
      "[0, 1, 4, 9, 16, 25, 36, 49, 64, 81, 100]\n"
     ]
    }
   ],
   "source": [
    "# This list comprehension creates a list of squared numbers (n*n). It\n",
    "# accepts two integer variables through the function’s parameters.\n",
    "def squares(start, end):\n",
    "    \n",
    "# The list comprehension calculates the square of a variable integer \n",
    "# \"n\", where \"n\" ranges from the \"start\" to \"end\" variables inclusively.\n",
    "# To be inclusive in a range(), add +1 to the end of range variable.\n",
    "    return [n*n for n in range(start,end+1)] \n",
    "\n",
    "\n",
    "print(squares(2, 3))  # Should print [4, 9]\n",
    "print(squares(1, 5))  # Should print [1, 4, 9, 16, 25]\n",
    "print(squares(0, 10)) # Should print [0, 1, 4, 9, 16, 25, 36, 49, 64, 81, 100]"
   ]
  },
  {
   "cell_type": "markdown",
   "id": "9a13bf99",
   "metadata": {},
   "source": [
    "### Coding Skill 3.0\n",
    "\n",
    "Use the string[index] method within a list comprehension.  \n",
    "\n",
    "Use a list comprehension to modify elements of a list.\n",
    "\n",
    "Use the string.replace() method within a list comprehension."
   ]
  },
  {
   "cell_type": "code",
   "execution_count": 139,
   "id": "a4e6dde2",
   "metadata": {},
   "outputs": [
    {
     "name": "stdout",
     "output_type": "stream",
     "text": [
      "['January 2024', 'May 2025', 'April 2024', 'August 2024', 'September 2025', 'December 2024']\n"
     ]
    }
   ],
   "source": [
    "# This block of code also changes the year on a list of dates using a different approach than demonstrated in Skill Group 1. \n",
    "#By using a list comprehension, you can see how it is possible to refactor the code to a shorter, more efficient code block. \n",
    "\n",
    "# The \"years\" list is given with existing elements.\n",
    "years = [\"January 2023\", \"May 2025\", \"April 2023\", \"August 2024\", \"September 2025\", \"December 2023\"]\n",
    "\n",
    "# The list comprehension below creates a new list \"updated_years\" to\n",
    "# hold the command to replace the \"2023\" substring of the \"year\"\n",
    "# element with the substring \"2024\". This action will be executed if\n",
    "# the last 4 indices of the \"year\" string is equal to the substring\n",
    "# \"2023\". If false (else), the \"year\" element will be included in the\n",
    "# new list \"updated_years\" unchanged.\n",
    "updated_years = [year.replace(\"2023\",\"2024\") if year[-4:] == \"2023\" else year for year in years]\n",
    "\n",
    "\n",
    "print(updated_years)"
   ]
  },
  {
   "cell_type": "markdown",
   "id": "86b9d2ed",
   "metadata": {},
   "source": [
    "### Coding Skill 4.0\n",
    "\n",
    "Use the string.split() method to separate a string into a list of individual words.\n",
    "\n",
    "Iterate over the new list using a for loop.\n",
    "\n",
    "Modify each element in the list by slicing the element’s string at a given [1:] index position and appending the substring to the end of the element.\n",
    "\n",
    "Convert a list back into a string."
   ]
  },
  {
   "cell_type": "code",
   "execution_count": 140,
   "id": "a13b730b",
   "metadata": {},
   "outputs": [
    {
     "name": "stdout",
     "output_type": "stream",
     "text": [
      "one-1 two-2 three-3 four-4 five-5 \n"
     ]
    }
   ],
   "source": [
    "# This function splits a given string into a list of elements. Then, it modifies each element by moving the first character to the end of the \n",
    "# element and adds a dash between the element and the moved character. \n",
    "# For example, the element \"2two\" will be changed to \"two-2\". Finally, the function converts the list back to a string, and returns thenew string.\n",
    "\n",
    "def change_string(given_string):\n",
    "\n",
    "# Initialize \"new_string\" as a string data type by using empty quotes.\n",
    "    new_string = \"\"\n",
    "    # Split the \"given_string\" into a \"new_list\", with each \"element\"\n",
    "    # holding an individual word from the string.\n",
    "    new_list = given_string.split()\n",
    "\n",
    "    # The for loop iterates over each \"element\" in the \"new_list\".\n",
    "    for element in new_list:\n",
    "\n",
    "        # Convert the list into a \"new_string\" by using the assignment\n",
    "        # operator += to concatenate the following items: \n",
    "        # + Each list \"element\" (starting at index position [1:]), \n",
    "        # + a dash \"-\", \n",
    "        # + append the first character of the \"element\" (using the index \n",
    "        # [0]) to the end of the \"element\", and finally,\n",
    "        # + a space \" \" to separate each \"element\" in the \"new_string\".\n",
    "        new_string += element[1:] + \"-\"  + element[0] + \" \"\n",
    "\n",
    "    # Return the list that has been converted back into a string.\n",
    "    return new_string\n",
    "\n",
    "\n",
    "print(change_string(\"1one 2two 3three 4four 5five\"))"
   ]
  },
  {
   "cell_type": "markdown",
   "id": "48ce90c9",
   "metadata": {},
   "source": [
    "###  Coding Skill 5.0\n",
    "\n",
    " Use the string.join() method to concatenate a string that provides a list name and its elements  "
   ]
  },
  {
   "cell_type": "code",
   "execution_count": 141,
   "id": "ea049a4d",
   "metadata": {},
   "outputs": [
    {
     "name": "stdout",
     "output_type": "stream",
     "text": [
      "The Printers list includes: Color Printer, Black and White Printer, 3-D Printer\n"
     ]
    }
   ],
   "source": [
    "# This function accepts a list name and a list of elements, and returns a string with the format: \n",
    "#\"The \"list_name\" list includes: element1, element2, element3\". \n",
    "\n",
    "def list_elements(list_name, elements):\n",
    "\n",
    "    # This task can be completed in a single line of code. The \n",
    "    # concatenation of strings, \"list_name\", and the list \"elements\" can\n",
    "    # occur on the return line. In this case, the string \"The \" is added \n",
    "    # to the \"list_name\", plus the string \" list includes: \", then the\n",
    "    # \"elements\" are joined using a comma to separate each element of the \n",
    "    # list.\n",
    "    return \"The \" + list_name + \" list includes: \" + \", \".join(elements)\n",
    "\n",
    "\n",
    "print(list_elements(\"Printers\", [\"Color Printer\", \"Black and White Printer\", \"3-D Printer\"]))"
   ]
  },
  {
   "cell_type": "code",
   "execution_count": 142,
   "id": "5ae1a9a3",
   "metadata": {},
   "outputs": [
    {
     "name": "stdout",
     "output_type": "stream",
     "text": [
      "{'jpg': 10, 'txt': 14, 'csv': 2, 'py': 23}\n",
      "<class 'dict'>\n",
      "True\n",
      "False\n",
      "{'jpg': 10, 'txt': 14, 'csv': 2, 'py': 23, 'png': 8}\n",
      "{'jpg': 10, 'txt': 14, 'csv': 17, 'py': 23, 'png': 8}\n",
      "{'jpg': 10, 'txt': 14, 'csv': 17, 'py': 23}\n"
     ]
    }
   ],
   "source": [
    "# Dictionary and its examples\n",
    "#Dictionary are mutable (can be edit and added)\n",
    "\n",
    "file_counts = {\"jpg\":10, \"txt\":14, \"csv\":2, \"py\":23}\n",
    "print(file_counts)\n",
    "print(type(file_counts))\n",
    "print(\"jpg\" in file_counts)\n",
    "print(\"html\" in file_counts)\n",
    "file_counts[\"png\"] = 8\n",
    "print(file_counts)\n",
    "file_counts[\"csv\"] = 17\n",
    "print(file_counts)\n",
    "del file_counts[\"png\"]\n",
    "print(file_counts)"
   ]
  },
  {
   "cell_type": "markdown",
   "id": "56553504",
   "metadata": {},
   "source": [
    "## Dictionaries Defined\n",
    "\n",
    "Dictionaries are another data structure in Python. They’re similar to a list in that they can be used to organize data into collections. However, data in a dictionary isn't accessed based on its position. Data in a dictionary is organized into pairs of keys and values. You use the key to access the corresponding value. Where a list index is always a number, a dictionary key can be a different data type, like a string, integer, float, or even tuples.\n",
    "\n",
    "When creating a dictionary, you use curly brackets: {}. When storing values in a dictionary, the key is specified first, followed by the corresponding value, separated by a colon. For example, animals = { \"bears\":10, \"lions\":1, \"tigers\":2 } creates a dictionary with three key value pairs, stored in the variable animals. The key \"bears\" points to the integer value 10, while the key \"lions\" points to the integer value 1, and \"tigers\" points to the integer 2. You can access the values by referencing the key, like this: animals[\"bears\"]. This would return the integer 10, since that’s the corresponding value for this key.\n",
    "\n",
    "You can also check if a key is contained in a dictionary using the in keyword. Just like other uses of this keyword, it will return True if the key is found in the dictionary; otherwise it will return False.\n",
    "\n",
    "Dictionaries are mutable, meaning they can be modified by adding, removing, and replacing elements in a dictionary, similar to lists. You can add a new key value pair to a dictionary by assigning a value to the key, like this: animals[\"zebras\"] = 2. This creates the new key in the animal dictionary called zebras, and stores the value 2. You can modify the value of an existing key by doing the same thing. So animals[\"bears\"] = 11 would change the value stored in the bears key from 10 to 11. Lastly, you can remove elements from a dictionary by using the del keyword. By doing del animals[\"lions\"] you would remove the key value pair from the animals dictionary."
   ]
  },
  {
   "cell_type": "code",
   "execution_count": 143,
   "id": "715f9cac",
   "metadata": {},
   "outputs": [
    {
     "name": "stdout",
     "output_type": "stream",
     "text": [
      "jpg\n",
      "txt\n",
      "csv\n",
      "py\n",
      " \n",
      "There are 10 files with the .jpg extension\n",
      "There are 14 files with the .txt extension\n",
      "There are 2 files with the .csv extension\n",
      "There are 23 files with the .py extension\n",
      " \n",
      "dict_keys(['jpg', 'txt', 'csv', 'py'])\n",
      "dict_values([10, 14, 2, 23])\n"
     ]
    }
   ],
   "source": [
    "file_counts = {\"jpg\":10, \"txt\":14, \"csv\":2, \"py\":23}\n",
    "for extension  in file_counts:\n",
    "    print(extension)\n",
    "\n",
    "print(\" \")\n",
    "\n",
    "for ext,amount in file_counts.items():\n",
    "    print(\"There are {} files with the .{} extension\".format(amount,ext))\n",
    "\n",
    "print(\" \")\n",
    "    \n",
    "print(file_counts.keys())\n",
    "print(file_counts.values())"
   ]
  },
  {
   "cell_type": "code",
   "execution_count": 144,
   "id": "524640b2",
   "metadata": {},
   "outputs": [
    {
     "name": "stdout",
     "output_type": "stream",
     "text": [
      "dict_keys(['octopuses', 'dolphins', 'rhinos'])\n",
      "dict_values(['tentacles', 'fins', 'horns'])\n",
      " \n",
      "octopuses have tentacles\n",
      "dolphins have fins\n",
      "rhinos have horns\n"
     ]
    }
   ],
   "source": [
    "cool_beasts = {\"octopuses\":\"tentacles\", \"dolphins\":\"fins\", \"rhinos\":\"horns\"}\n",
    "print(cool_beasts.keys())\n",
    "print(cool_beasts.values())\n",
    "\n",
    "print(\" \")\n",
    "\n",
    "for keys,values in cool_beasts.items():\n",
    "    print(\"{} have {}\".format(keys,values))"
   ]
  },
  {
   "cell_type": "code",
   "execution_count": 145,
   "id": "1baf4af9",
   "metadata": {},
   "outputs": [
    {
     "name": "stdout",
     "output_type": "stream",
     "text": [
      "{'a': 6}\n",
      "{'t': 2, 'e': 1, 'n': 2, 'a': 1}\n",
      "{'T': 1, 'h': 1, 'i': 2, 's': 3, ' ': 5, 'a': 1, 'l': 1, 'o': 2, 'n': 3, 'g': 1, 'w': 1, 'r': 1, 'd': 2, 'e': 4, 't': 1, 'c': 1}\n"
     ]
    }
   ],
   "source": [
    "# Exercise example:\n",
    "\n",
    "def count_letters(text):\n",
    "    result = {}\n",
    "    for letter in text:\n",
    "        if letter not in result:\n",
    "            result[letter] = 0\n",
    "        result[letter] += 1\n",
    "    return result\n",
    "\n",
    "print(count_letters(\"aaaaaa\"))\n",
    "print(count_letters(\"tenant\"))\n",
    "print(count_letters(\"This is a long worded sentence\"))"
   ]
  },
  {
   "cell_type": "markdown",
   "id": "db7faedd",
   "metadata": {},
   "source": [
    "##  Dictionary Methods\n",
    "\n",
    "In the Dictionary segment, you learned about the properties of the Python dictionary data type, how dictionaries differ from lists, how to iterate over the contents of a dictionary, and how to use dictionaries with lists and strings.\n",
    "\n",
    "### Operations\n",
    "len(dictionary) - Returns the number of items in a dictionary.\n",
    "\n",
    "for key, in dictionary - Iterates over each key in a dictionary.\n",
    "\n",
    "for key, value in dictionary.items() - Iterates over each key,value pair in a dictionary.\n",
    "\n",
    "if key in dictionary - Checks whether a key is in a dictionary.\n",
    "\n",
    "dictionary[key] - Accesses a value using the associated key from a dictionary.\n",
    "\n",
    "dictionary[key] = value - Sets a value associated with a key.\n",
    "\n",
    "del dictionary[key] - Removes a value using the associated key from a dictionary.\n",
    "\n",
    "\n",
    "### Methods\n",
    "dictionary.get(key, default) - Returns the value corresponding to a key, or the default value if the specified key is not present.\n",
    "\n",
    "dictionary.keys() - Returns a sequence containing the keys in a dictionary.\n",
    "\n",
    "dictionary.values() - Returns a sequence containing the values in a dictionary.\n",
    "\n",
    "dictionary[key].append(value) - Appends a new value for an existing key.\n",
    "\n",
    "dictionary.update(other_dictionary) - Updates a dictionary with the items from another dictionary. Existing entries are updated; new entries are added.\n",
    "\n",
    "dictionary.clear() - Deletes all items from a dictionary.\n",
    "\n",
    "dictionary.copy() - Makes a copy of a dictionary.\n",
    "\n",
    "\n",
    "### Dictionaries versus Lists \n",
    "Dictionaries are similar to lists, but there are a few differences:\n",
    "\n",
    "Both dictionaries and lists:\n",
    "are used to organize elements into collections;\n",
    "\n",
    "are used to initialize a new dictionary or list, use empty brackets;\n",
    "\n",
    "can iterate through the items or elements in the collection; and\n",
    "\n",
    "can use a variety of methods and operations to create and change the collections, like removing and inserting items or elements.\n",
    "\n",
    "### Dictionaries only:\n",
    "are unordered sets;\n",
    "\n",
    "have keys that can be a variety of data types, including strings, integers, floats, tuples;.\n",
    "\n",
    "can access dictionary values by keys;\n",
    "\n",
    "use square brackets inside curly brackets { [ ] };\n",
    "\n",
    "use colons between the key and the value(s);\n",
    "\n",
    "use commas to separate each key group and each value within a key group;\n",
    "\n",
    "make it quicker and easier for a Python interpreter to find specific elements, as compared to a list.\n",
    "\n",
    "### Lists only:\n",
    "are ordered sets;\n",
    "\n",
    "access list elements by index positions;\n",
    "\n",
    "require that these indices be integers;\n",
    "\n",
    "use square brackets [ ];\n",
    "\n",
    "use commas to separate each list element."
   ]
  },
  {
   "cell_type": "code",
   "execution_count": 146,
   "id": "23adbc10",
   "metadata": {},
   "outputs": [
    {
     "name": "stdout",
     "output_type": "stream",
     "text": [
      "['Yorkie', 'Collie', 'Bulldog']\n",
      "['Yorkie', 'Collie', 'Bulldog']\n"
     ]
    }
   ],
   "source": [
    "pet_dictionary = {\"dogs\": [\"Yorkie\", \"Collie\", \"Bulldog\"], \"cats\": [\"Persian\", \"Scottish Fold\", \"Siberian\"], \"rabbits\": [\"Angora\", \"Holland Lop\", \"Harlequin\"]}  \n",
    "\n",
    "\n",
    "print(pet_dictionary.get(\"dogs\", 0))\n",
    "\n",
    "\n",
    "pet_list  = [\"Yorkie\", \"Collie\", \"Bulldog\", \"Persian\", \"Scottish Fold\", \"Siberian\", \"Angora\", \"Holland Lop\", \"Harlequin\"]\n",
    "\n",
    "\n",
    "print(pet_list[0:3])"
   ]
  },
  {
   "cell_type": "markdown",
   "id": "9c71418d",
   "metadata": {},
   "source": [
    "### Coding Skill 1\n",
    "\n",
    "Iterate over the key and value pairs of a dictionary using a for loop with the dictionary.items() method to calculate the sum of the values in a dictionary. "
   ]
  },
  {
   "cell_type": "code",
   "execution_count": 147,
   "id": "caa8b105",
   "metadata": {},
   "outputs": [
    {
     "name": "stdout",
     "output_type": "stream",
     "text": [
      "20.1\n"
     ]
    }
   ],
   "source": [
    "# This function returns the total time, with minutes represented as decimals (example: 1 hour 30 minutes = 1.5), for all end user timespent accessing a server in a given day. \n",
    "\n",
    "def sum_server_use_time(Server):\n",
    "\n",
    "    # Initialize the variable as a float data type, which will be used\n",
    "    # to hold the sum of the total hours and minutes of server usage by\n",
    "    # end users in a day.\n",
    "    total_use_time = 0.0\n",
    "\n",
    "    # Iterate through the \"Server\" dictionary’s key and value items \n",
    "    # using a for loop.\n",
    "    for key,value in Server.items():\n",
    "\n",
    "        # For each end user key, add the associated time value to the\n",
    "        # total sum of all end user use time.\n",
    "        total_use_time += Server[key]\n",
    "        \n",
    "    # Round the return value and limit to 2 decimal places.\n",
    "    return round(total_use_time, 2)  \n",
    "\n",
    "FileServer = {\"EndUser1\": 2.25, \"EndUser2\": 4.5, \"EndUser3\": 1, \"EndUser4\": 3.75, \"EndUser5\": 0.6, \"EndUser6\": 8}\n",
    "\n",
    "print(sum_server_use_time(FileServer))"
   ]
  },
  {
   "cell_type": "markdown",
   "id": "dfee9793",
   "metadata": {},
   "source": [
    "### Coding Skill 2\n",
    "\n",
    "Concatenate a value, a string, and the key for each item in the dictionary and append to the end of a new list[ ] using the list.append(x) method.  \n",
    "\n",
    "Iterate over keys with multiple values from a dictionary using nested for loops with the dictionary.items() method."
   ]
  },
  {
   "cell_type": "code",
   "execution_count": 148,
   "id": "62323aad",
   "metadata": {},
   "outputs": [
    {
     "name": "stdout",
     "output_type": "stream",
     "text": [
      "['Muhammad Ali', 'Amir Ali', 'Malik Ali', 'Ram Devi', 'Amaira Devi', 'Feng Chen', 'Li Chen']\n"
     ]
    }
   ],
   "source": [
    "# This function receives a dictionary, which contains common employee \n",
    "# last names as keys, and a list of employee first names as values. \n",
    "# The function generates a new list that contains each employees’ full\n",
    "# name (First_name Last_Name). For example, the key \"Garcia\" with the \n",
    "# values [\"Maria\", \"Hugo\", \"Lucia\"] should be converted to a list \n",
    "# that contains [\"Maria Garcia\", \"Hugo Garcia\", \"Lucia Garcia\"].\n",
    "\n",
    "\n",
    "def list_full_names(employee_dictionary):\n",
    "    # Initialize the \"full_names\" variable as a list data type using\n",
    "    # empty [] square brackets.  \n",
    "    full_names = []\n",
    "\n",
    "    # The outer for loop iterates through each \"last_name\" key and \n",
    "    # associated \"first_name\" values, in the \"employee_dictionary\" items.\n",
    "    for last_name, first_names in employee_dictionary.items():\n",
    "\n",
    "        # The inner for loop iterates over each \"first_name\" value in \n",
    "        # the list of \"first_names\" for one \"last_name\" key at a time.\n",
    "        for first_name in first_names:\n",
    "\n",
    "            # Append the new \"full_names\" list with the \"first_name\" value\n",
    "            # concatenated with a space \" \", and the key \"last_name\". \n",
    "            full_names.append(first_name+\" \"+last_name)\n",
    "            \n",
    "    # Return the new \"full_names\" list once the outer for loop has \n",
    "    # completed all iterations. \n",
    "    return(full_names)\n",
    "\n",
    "\n",
    "print(list_full_names({\"Ali\": [\"Muhammad\", \"Amir\", \"Malik\"], \"Devi\": [\"Ram\", \"Amaira\"], \"Chen\": [\"Feng\", \"Li\"]}))"
   ]
  },
  {
   "cell_type": "markdown",
   "id": "9e7ed1de",
   "metadata": {},
   "source": [
    "### Coding Skill 3\n",
    "\n",
    "Use the dictionary[key] = value operation to associate a value with a key in a dictionary.   \n",
    "\n",
    "Iterate over keys with multiple values from a dictionary, using nested for loops and an if-statement, and the dictionary.items() method.\n",
    "\n",
    "Use the dictionary[key].append(value) method to add the key, a string, and the key for each item in the dictionary."
   ]
  },
  {
   "cell_type": "code",
   "execution_count": 149,
   "id": "74d0a77f",
   "metadata": {},
   "outputs": [
    {
     "name": "stdout",
     "output_type": "stream",
     "text": [
      "{'IDE HDDs': ['Hard Drives', 'PC Parts'], 'SCSI HDDs': ['Hard Drives', 'PC Parts'], 'High-end video cards': ['PC Parts', 'Video Cards'], 'Basic video cards': ['PC Parts', 'Video Cards']}\n"
     ]
    }
   ],
   "source": [
    "# This function receives a dictionary, which contains resource \n",
    "# categories (keys) with a list of available resources (values) for a \n",
    "# company’s IT Department. The resources belong to multiple categories.\n",
    "# The function should reverse the keys and values to show which \n",
    "# categories (values) each resource (key) belongs to. \n",
    "\n",
    "\n",
    "def invert_resource_dict(resource_dictionary):\n",
    "  # Initialize a \"new_dictionary\" variable as a dict data type using\n",
    "  # empty {} curly brackets. \n",
    "    new_dictionary = {}\n",
    "    # The outer for loop iterates through each \"resource_group\" and \n",
    "    # associated \"resources\" in the \"resource_dictionary\" items.\n",
    "    for resource_group, resources in resource_dictionary.items():\n",
    "        # The inner for loop iterates over each \"resource\" value in \n",
    "        # the list of \"resources\" for one \"resource_group\" key at a time.\n",
    "        for resource in resources:\n",
    "            # The if-statement checks if the current \"resource\" value has \n",
    "            # been appended as a key to the \"new_dictionary\" yet.\n",
    "            if resource in new_dictionary:\n",
    "                # If True, then append the \"resource_group\" as a value to the\n",
    "                # \"resource\", which is now the key.\n",
    "                new_dictionary[resource].append(resource_group)\n",
    "            # If False (else), then add the \"resource\" as a new key with the \n",
    "            # \"resource_group\" as a value for that key.\n",
    "            else:\n",
    "                new_dictionary[resource] = [resource_group]\n",
    "    # Return the new dictionary once the outer for loop has completed  \n",
    "    # all iterations.\n",
    "    return(new_dictionary)\n",
    "\n",
    "\n",
    "print(invert_resource_dict({\"Hard Drives\": [\"IDE HDDs\", \"SCSI HDDs\"],\n",
    "        \"PC Parts\":  [\"IDE HDDs\", \"SCSI HDDs\", \"High-end video cards\", \"Basic video cards\"], \"Video Cards\": [\"High-end video cards\", \"Basic video cards\"]}))"
   ]
  },
  {
   "cell_type": "code",
   "execution_count": 150,
   "id": "173f82fe",
   "metadata": {},
   "outputs": [
    {
     "name": "stdout",
     "output_type": "stream",
     "text": [
      "['clark.kent@gmail.com', 'diana.prince@gmail.com', 'peter.parker@gmail.com', 'barbara.gordon@yahoo.com', 'jean.grey@yahoo.com', 'bruce.wayne@hotmail.com']\n"
     ]
    }
   ],
   "source": [
    "def email_list(domains):\n",
    "    emails = []\n",
    "    for domain, users in domains.items():\n",
    "        for user in users:\n",
    "            emails.append(user + \"@\" + domain)\n",
    "    return(emails)\n",
    "\n",
    "print(email_list({\"gmail.com\": [\"clark.kent\", \"diana.prince\", \"peter.parker\"], \"yahoo.com\": [\"barbara.gordon\", \"jean.grey\"], \"hotmail.com\": [\"bruce.wayne\"]}))"
   ]
  },
  {
   "cell_type": "code",
   "execution_count": 151,
   "id": "2bcd17fe",
   "metadata": {},
   "outputs": [
    {
     "name": "stdout",
     "output_type": "stream",
     "text": [
      "28.44\n"
     ]
    }
   ],
   "source": [
    "def add_prices(basket):\n",
    "    # Initialize the variable that will be used for the calculation\n",
    "    total = 0\n",
    "    # Iterate through the dictionary items\n",
    "    for price in basket.values():\n",
    "        # Add each price to the total calculation Hint: how do you access the values of dictionary items?\n",
    "        total += price\n",
    "    # Limit the return value to 2 decimal places\n",
    "    return round(total, 2)  \n",
    "\n",
    "groceries = {\"bananas\": 1.56, \"apples\": 2.50, \"oranges\": 0.99, \"bread\": 4.59, \"coffee\": 6.99, \"milk\": 3.39, \"eggs\": 2.98, \"cheese\": 5.44}\n",
    "\n",
    "print(add_prices(groceries))"
   ]
  },
  {
   "cell_type": "markdown",
   "id": "859586c0",
   "metadata": {},
   "source": [
    "## Coding Skills\n",
    "\n",
    "### Skill 1.1 : Using string methods\n",
    "\n",
    "Separate numerical values from text values in a string using .split(). \n",
    "\n",
    "Iterate over the elements in a string.\n",
    "\n",
    "Test if the element contains letters with .isalpha().\n",
    "\n",
    "Assign the elements of the split string to new variables.\n",
    "\n",
    "Trim any extra white space using .strip().\n",
    "\n",
    "Format a string using .format() and { } variable placeholders."
   ]
  },
  {
   "cell_type": "code",
   "execution_count": 152,
   "id": "ea352141",
   "metadata": {},
   "outputs": [
    {
     "name": "stdout",
     "output_type": "stream",
     "text": [
      "Winter fleece jackets are on sale for $49.99\n"
     ]
    }
   ],
   "source": [
    "def sales_prices(item_and_price):\n",
    "    # Initialize variables \"item\" and \"price\" as strings\n",
    "    item = \"\"\n",
    "    price = \"\"\n",
    "    # Create a variable \"item_or_price\" to hold the result of the split. \n",
    "    item_or_price = item_and_price.split()\n",
    "\n",
    "    # For each element \"x\" in the split variable \"item_or_price\" \n",
    "    for x in item_or_price:\n",
    "\n",
    "        # Check if the element is a number\n",
    "        if x.isalpha():\n",
    "\n",
    "            # If true, assign the element to the \"item\" string variable and add a space \n",
    "            # for any item names containing multiple words, like \"Winter fleece jacket\".\n",
    "            item += x + \" \"\n",
    "\n",
    "        # Else, if x is a number (if x.isalpha() is false): \n",
    "        else:\n",
    "            # Assign the element to the \"price\" string variable. \n",
    "            price = x\n",
    "\n",
    "    # Strip the extra space to the right of the last \"item\" word\n",
    "    item = item.strip()\n",
    "\n",
    "    # Return the item name and price formatted in a sentence \n",
    "    return \"{} are on sale for ${}\".format(item,price)\n",
    "\n",
    "\n",
    "# Call to the function \n",
    "print(sales_prices(\"Winter fleece jackets 49.99\"))"
   ]
  },
  {
   "cell_type": "markdown",
   "id": "4842de50",
   "metadata": {},
   "source": [
    "### Skill 1.2 : Use the len() function to measure a string."
   ]
  },
  {
   "cell_type": "code",
   "execution_count": 153,
   "id": "85f9903c",
   "metadata": {},
   "outputs": [
    {
     "name": "stdout",
     "output_type": "stream",
     "text": [
      "9\n"
     ]
    }
   ],
   "source": [
    "# This function accepts a string variable \"data_field\".  \n",
    "def count_words(data_field):\n",
    "\n",
    "    # Splits the string into individual words. \n",
    "    split_data = data_field.split()\n",
    "  \n",
    "    # Then returns the number of words in the string using the len()\n",
    "    # function. \n",
    "    return len(split_data)\n",
    "    \n",
    "    # Note that it is possible to combine the len() function and the \n",
    "    # .split() method into the same line of code by inserting the \n",
    "    # data_field.split() command into the the len() function parameters.\n",
    "\n",
    "# Call to the function\n",
    "print(count_words(\"Catalog item 3523: Organic raw pumpkin seeds in shell\"))"
   ]
  },
  {
   "cell_type": "markdown",
   "id": "be493017",
   "metadata": {},
   "source": [
    "### Skill 2: Using list methods\n",
    "\n",
    "Reverse the order of a list using the .reverse() method.\n",
    "\n",
    "Combine two lists using the .extend() method."
   ]
  },
  {
   "cell_type": "code",
   "execution_count": 154,
   "id": "2e2e07d5",
   "metadata": {},
   "outputs": [
    {
     "name": "stdout",
     "output_type": "stream",
     "text": [
      "[1989, 1992, 1997, 2001, 2006, 2011, 2018, 2022]\n"
     ]
    }
   ],
   "source": [
    "# This function accepts two variables, each containing a list of years.\n",
    "# A current \"recent_first\" list contains [2022, 2018, 2011, 2006].\n",
    "# An older \"recent_last\" list contains [1989, 1992, 1997, 2001].\n",
    "# The lists need to be combined with the years in chronological order.\n",
    "def record_profit_years(recent_first, recent_last):\n",
    "\n",
    "    # Reverse the order of the \"recent_first\" list so that it is in \n",
    "    # chronological order.\n",
    "    recent_first.reverse()\n",
    "\n",
    "    # Extend the \"recent_last\" list by appending the newly reversed \n",
    "    # \"recent_first\" list.\n",
    "    recent_last.extend(recent_first)\n",
    "\n",
    "    # Return the \"recent_last\", which now contains the two lists \n",
    "    # combined in chronological order. \n",
    "    return recent_last\n",
    "\n",
    "# Assign the two lists to the two variables to be passed to the \n",
    "# record_profit_years() function.\n",
    "recent_first = [2022, 2018, 2011, 2006]\n",
    "recent_last = [1989, 1992, 1997, 2001]\n",
    "\n",
    "\n",
    "\n",
    "# Call the record_profit_years() function and pass the two lists as \n",
    "# parameters. \n",
    "print(record_profit_years(recent_first, recent_last))"
   ]
  },
  {
   "cell_type": "markdown",
   "id": "ca96dc14",
   "metadata": {},
   "source": [
    "### Skill 3.1 : Using a list comprehension \n",
    "\n",
    "Use a list comprehension [ ] as a shortcut for creating a new list from a range.\n",
    "\n",
    "Include a calculation with a for loop in a range with 2 parameters (lower, upper+1)."
   ]
  },
  {
   "cell_type": "code",
   "execution_count": 155,
   "id": "a6ab2e43",
   "metadata": {},
   "outputs": [
    {
     "name": "stdout",
     "output_type": "stream",
     "text": [
      "[1972, 1973, 1974, 1975]\n"
     ]
    }
   ],
   "source": [
    "# The function accepts two parameters: a start year and an end year.\n",
    "def list_years(start, end):\n",
    "\n",
    "    # It returns a list comprehension that creates a list of years in a for\n",
    "    # loop using a range from the start year to the end year (inclusive of \n",
    "    # the upper range year, using end+1).\n",
    "    return [year for year in range(start, end+1)]\n",
    "\n",
    "\n",
    "# Call the years() function with two parameters.\n",
    "print(list_years(1972, 1975)) \n",
    "# Should print [1972, 1973, 1974, 1975]"
   ]
  },
  {
   "cell_type": "markdown",
   "id": "bd299215",
   "metadata": {},
   "source": [
    "### Skill 3.2 :  Use a list comprehension [ ] with a for loop and an if condition.   "
   ]
  },
  {
   "cell_type": "code",
   "execution_count": 156,
   "id": "75e00b2d",
   "metadata": {},
   "outputs": [
    {
     "name": "stdout",
     "output_type": "stream",
     "text": [
      "[5, 7, 9, 11, 13]\n"
     ]
    }
   ],
   "source": [
    "# The function accepts two variable integers through the parameters and returns all odd numbers between x and y-1.\n",
    "def odd_numbers(x, y):\n",
    "\n",
    "\n",
    "# This list comprehension uses a for loop to iterate through values \n",
    "# of n in a range from x to y, with the value of y excluded (meaning\n",
    "# keep the default range() function behavior to exclude the\n",
    "# end-of-range value from the range). Since an incremental value is not \n",
    "# specified, the range function uses the default increment of +1.\n",
    "# The if condition checks n to test if the number is odd using the\n",
    "# modulo operator. This condition is written to check if n is divided \n",
    "# by 2, that the remainder is not 0. \n",
    "    return [n for n in range(x, y) if n % 2 != 0]\n",
    "\n",
    "\n",
    "# Call the years() function with two parameters.\n",
    "print(odd_numbers(5, 15))"
   ]
  },
  {
   "cell_type": "markdown",
   "id": "af1f5201",
   "metadata": {},
   "source": [
    "### Skill 4.1 : Using dictionary methods\n",
    "Iterate through the keys and values of a dictionary.\n",
    "\n",
    "Return the keys and values in a formatted string using the .format() function."
   ]
  },
  {
   "cell_type": "code",
   "execution_count": 157,
   "id": "7feba6a2",
   "metadata": {},
   "outputs": [
    {
     "name": "stdout",
     "output_type": "stream",
     "text": [
      "The IP address of the Domain Name Server server is 8.8.8.8\n",
      "The IP address of the Gateway Server server is 192.168.1.1\n",
      "The IP address of the Print Server server is 192.168.1.33\n",
      "The IP address of the Mail Server server is 192.168.1.190\n",
      "\n"
     ]
    }
   ],
   "source": [
    "# The network() function accepts a dictionary \"servers\" as a parameter.\n",
    "def network(servers):\n",
    "\n",
    "    # A string variable is initialized to hold the \"result\". \n",
    "    result = \"\"\n",
    "\n",
    "    # For each \"hostname\" (key) and \"IP address\" (value) in the \"server\" dictionary items...\n",
    "    for hostname, IP_address in servers.items():\n",
    "\n",
    "        # A string identifying the hostname and IP address for each server is added\n",
    "        # to the \"result\" variable. The string .format() function and is used to plug\n",
    "        # the hostname and IP_address variables into the designated {} placeholders\n",
    "        # within the string.\n",
    "        result += \"The IP address of the {} server is {}\".format(hostname, IP_address) + \"\\n\"\n",
    "    \n",
    "    # Return the \"result\" variable string.\n",
    "    return result \n",
    "\n",
    "# Call the \"network\" function with the dictionary. \n",
    "print(network({\"Domain Name Server\":\"8.8.8.8\", \"Gateway Server\":\"192.168.1.1\", \"Print Server\":\"192.168.1.33\", \"Mail Server\":\"192.168.1.190\"}))\n"
   ]
  },
  {
   "cell_type": "markdown",
   "id": "964cc733",
   "metadata": {},
   "source": [
    "### Skill 4.2: Create a copy of a dictionary.\n",
    "\n",
    "Iterate through the values of the new dictionary.\n",
    "\n",
    "Change each value in the new dictionary, while keeping the same keys. "
   ]
  },
  {
   "cell_type": "code",
   "execution_count": 158,
   "id": "329d7dbd",
   "metadata": {},
   "outputs": [
    {
     "name": "stdout",
     "output_type": "stream",
     "text": [
      "{'Arshi': 0, 'Catalina': 0, 'Diego': 0}\n"
     ]
    }
   ],
   "source": [
    "# The scores() function accepts a dictionary \"game_scores\" as a parameter.\n",
    "def reset_scores(game_scores):\n",
    "\n",
    "    # The .copy() dictionary method is used to create a new copy of the \"game_scores\".\n",
    "    new_game_scores = game_scores.copy() \n",
    "\n",
    "    # The for loop iterates over new_game_scores items, with the player as the key\n",
    "    # and the score as the value. \n",
    "    for player, score in new_game_scores.items():\n",
    "    \n",
    "        # The dictionary operation to assign a new value to a key is used\n",
    "        # to reset the grade values to 0.\n",
    "        new_game_scores[player] = 0\n",
    "  \n",
    "    return new_game_scores\n",
    " \n",
    "# The dictionary is defined.\n",
    "game1_scores = {\"Arshi\": 3, \"Catalina\": 7, \"Diego\": 6}\n",
    " \n",
    "# Call the \"reset_scores\" function with the \"game1_scores\" dictionary. \n",
    "print(reset_scores(game1_scores))"
   ]
  },
  {
   "cell_type": "markdown",
   "id": "07b356fe",
   "metadata": {},
   "source": [
    "### Common syntax errors:\n",
    "\n",
    "Misspellings\n",
    "\n",
    "Incorrect indentations\n",
    "\n",
    "Missing or incorrect key characters:\n",
    "\n",
    "Parenthetical types - ( curved ), [ square ], { curly }\n",
    "\n",
    "Quote types - \"straight-double\" or 'straight-single', “curly-double” or ‘curly-single’\n",
    "\n",
    "Block introduction characters, like colons - :\n",
    "\n",
    "Data type mismatches\n",
    "\n",
    "Missing, incorrectly used, or misplaced Python reserved words\n",
    "\n",
    "Using the wrong case (uppercase/lowercase) - Python is a case-sensitive language "
   ]
  },
  {
   "cell_type": "code",
   "execution_count": 159,
   "id": "b23af8fa",
   "metadata": {},
   "outputs": [
    {
     "name": "stdout",
     "output_type": "stream",
     "text": [
      "Have a NICE day\n",
      "Shhh, don't be so LOUD!\n",
      "Automating with Python is FUN\n"
     ]
    }
   ],
   "source": [
    "def highlight_word(sentence, word):\n",
    "    # Complete the return statement using a string method.\n",
    "    return sentence.replace(word,word.upper())\n",
    "\n",
    "\n",
    "print(highlight_word(\"Have a nice day\", \"nice\"))\n",
    "# Should print: \"Have a NICE day\"\n",
    "print(highlight_word(\"Shhh, don't be so loud!\", \"loud\"))\n",
    "# Should print: \"Shhh, don't be so LOUD!\"\n",
    "print(highlight_word(\"Automating with Python is fun\", \"fun\"))\n",
    "# Should print: \"Automating with Python is FUN\""
   ]
  },
  {
   "cell_type": "code",
   "execution_count": 160,
   "id": "67189022",
   "metadata": {},
   "outputs": [
    {
     "name": "stdout",
     "output_type": "stream",
     "text": [
      "0\n",
      "21\n",
      "6\n",
      "0\n"
     ]
    }
   ],
   "source": [
    "def confirm_length(word):\n",
    "\n",
    "    # Complete the condition statement using a string operation. \n",
    "    if len(word) > 1: \n",
    "        # Complete the return statement using a string operation.\n",
    "        return len(word)\n",
    "    else:\n",
    "        return 0\n",
    "\n",
    "\n",
    "print(confirm_length(\"a\")) # Should print 1\n",
    "print(confirm_length(\"This is a long string\")) # Should print 21\n",
    "print(confirm_length(\"Monday\")) # Should print 6\n",
    "print(confirm_length(\"\")) # Should print 0"
   ]
  },
  {
   "cell_type": "code",
   "execution_count": 161,
   "id": "37552089",
   "metadata": {},
   "outputs": [
    {
     "name": "stdout",
     "output_type": "stream",
     "text": [
      "[15, 9, 8, 4, 2, 0]\n"
     ]
    }
   ],
   "source": [
    "def sort_distance(distances):\n",
    "    distances.sort() # Sort the list\n",
    "    distances.reverse() # Reverse the order of the list\n",
    "    return distances\n",
    "\n",
    "\n",
    "print(sort_distance([2,4,0,15,8,9]))"
   ]
  },
  {
   "cell_type": "code",
   "execution_count": 162,
   "id": "4f4e75ee",
   "metadata": {},
   "outputs": [
    {
     "name": "stdout",
     "output_type": "stream",
     "text": [
      "A Kia Soul costs 19000 dollars\n",
      "A Lamborghini Diablo costs 55000 dollars\n",
      "A Ford Fiesta costs 13000 dollars\n",
      "A Toyota Prius costs 24000 dollars\n",
      "\n"
     ]
    }
   ],
   "source": [
    "def car_listing(car_prices):\n",
    "    result = \"\"\n",
    "  # Complete the for loop to iterate through the key and value items \n",
    "  # in the dictionary.\n",
    "    for car, price in car_prices.items(): \n",
    "        result += \"A {} costs {} dollars\\n\".format(car,price) # Use a string method to format the required string. \n",
    "    return result\n",
    "\n",
    "print(car_listing({\"Kia Soul\":19000, \"Lamborghini Diablo\":55000, \"Ford Fiesta\":13000, \"Toyota Prius\":24000}))\n"
   ]
  },
  {
   "cell_type": "code",
   "execution_count": 163,
   "id": "673b9bab",
   "metadata": {},
   "outputs": [
    {
     "name": "stdout",
     "output_type": "stream",
     "text": [
      "bour\n",
      "hini\n",
      "Lambour\n"
     ]
    }
   ],
   "source": [
    "car_make = \"Lambourghini\"\n",
    "\n",
    "print(car_make[3:-5])\n",
    "print(car_make[-4:])\n",
    "print(car_make[:7])"
   ]
  },
  {
   "cell_type": "code",
   "execution_count": 164,
   "id": "f2d09597",
   "metadata": {},
   "outputs": [
    {
     "name": "stdout",
     "output_type": "stream",
     "text": [
      "['red', 'white', 'yellow', 'blue']\n"
     ]
    }
   ],
   "source": [
    "colors = [\"red\", \"white\", \"blue\"]\n",
    "colors.insert(2, \"yellow\")\n",
    "print(colors)"
   ]
  },
  {
   "cell_type": "code",
   "execution_count": 165,
   "id": "bd042efb",
   "metadata": {},
   "outputs": [
    {
     "data": {
      "text/plain": [
       "dict_values(['Aniyah Cook', 'Ines Bisset', 'Wayne Branon'])"
      ]
     },
     "execution_count": 165,
     "metadata": {},
     "output_type": "execute_result"
    }
   ],
   "source": [
    "teacher_names = {\"Math\": \"Aniyah Cook\", \"Science\": \"Ines Bisset\", \"Engineering\": \"Wayne Branon\"}\n",
    "teacher_names.values()"
   ]
  },
  {
   "cell_type": "markdown",
   "id": "d697f8cb",
   "metadata": {},
   "source": [
    "## Obejct Oriented Programming\n",
    "\n",
    "In object-oriented programming, concepts are modeled as classes and objects. An idea is defined using a class, and an instance of this class is called an object. Almost everything in Python is an object, including strings, lists, dictionaries, and numbers. When we create a list in Python, we’re creating an object which is an instance of the list class, which represents the concept of a list. Classes also have attributes and methods associated with them. Attributes are the characteristics of the class, while methods are functions that are part of the class."
   ]
  },
  {
   "cell_type": "code",
   "execution_count": 166,
   "id": "cd375f0b",
   "metadata": {},
   "outputs": [
    {
     "data": {
      "text/plain": [
       "['__add__',\n",
       " '__class__',\n",
       " '__contains__',\n",
       " '__delattr__',\n",
       " '__dir__',\n",
       " '__doc__',\n",
       " '__eq__',\n",
       " '__format__',\n",
       " '__ge__',\n",
       " '__getattribute__',\n",
       " '__getitem__',\n",
       " '__getnewargs__',\n",
       " '__gt__',\n",
       " '__hash__',\n",
       " '__init__',\n",
       " '__init_subclass__',\n",
       " '__iter__',\n",
       " '__le__',\n",
       " '__len__',\n",
       " '__lt__',\n",
       " '__mod__',\n",
       " '__mul__',\n",
       " '__ne__',\n",
       " '__new__',\n",
       " '__reduce__',\n",
       " '__reduce_ex__',\n",
       " '__repr__',\n",
       " '__rmod__',\n",
       " '__rmul__',\n",
       " '__setattr__',\n",
       " '__sizeof__',\n",
       " '__str__',\n",
       " '__subclasshook__',\n",
       " 'capitalize',\n",
       " 'casefold',\n",
       " 'center',\n",
       " 'count',\n",
       " 'encode',\n",
       " 'endswith',\n",
       " 'expandtabs',\n",
       " 'find',\n",
       " 'format',\n",
       " 'format_map',\n",
       " 'index',\n",
       " 'isalnum',\n",
       " 'isalpha',\n",
       " 'isascii',\n",
       " 'isdecimal',\n",
       " 'isdigit',\n",
       " 'isidentifier',\n",
       " 'islower',\n",
       " 'isnumeric',\n",
       " 'isprintable',\n",
       " 'isspace',\n",
       " 'istitle',\n",
       " 'isupper',\n",
       " 'join',\n",
       " 'ljust',\n",
       " 'lower',\n",
       " 'lstrip',\n",
       " 'maketrans',\n",
       " 'partition',\n",
       " 'removeprefix',\n",
       " 'removesuffix',\n",
       " 'replace',\n",
       " 'rfind',\n",
       " 'rindex',\n",
       " 'rjust',\n",
       " 'rpartition',\n",
       " 'rsplit',\n",
       " 'rstrip',\n",
       " 'split',\n",
       " 'splitlines',\n",
       " 'startswith',\n",
       " 'strip',\n",
       " 'swapcase',\n",
       " 'title',\n",
       " 'translate',\n",
       " 'upper',\n",
       " 'zfill']"
      ]
     },
     "execution_count": 166,
     "metadata": {},
     "output_type": "execute_result"
    }
   ],
   "source": [
    "dir(\"\")"
   ]
  },
  {
   "cell_type": "code",
   "execution_count": 167,
   "id": "99545a42",
   "metadata": {},
   "outputs": [
    {
     "name": "stdout",
     "output_type": "stream",
     "text": [
      "Help on class str in module builtins:\n",
      "\n",
      "class str(object)\n",
      " |  str(object='') -> str\n",
      " |  str(bytes_or_buffer[, encoding[, errors]]) -> str\n",
      " |  \n",
      " |  Create a new string object from the given object. If encoding or\n",
      " |  errors is specified, then the object must expose a data buffer\n",
      " |  that will be decoded using the given encoding and error handler.\n",
      " |  Otherwise, returns the result of object.__str__() (if defined)\n",
      " |  or repr(object).\n",
      " |  encoding defaults to sys.getdefaultencoding().\n",
      " |  errors defaults to 'strict'.\n",
      " |  \n",
      " |  Methods defined here:\n",
      " |  \n",
      " |  __add__(self, value, /)\n",
      " |      Return self+value.\n",
      " |  \n",
      " |  __contains__(self, key, /)\n",
      " |      Return key in self.\n",
      " |  \n",
      " |  __eq__(self, value, /)\n",
      " |      Return self==value.\n",
      " |  \n",
      " |  __format__(self, format_spec, /)\n",
      " |      Return a formatted version of the string as described by format_spec.\n",
      " |  \n",
      " |  __ge__(self, value, /)\n",
      " |      Return self>=value.\n",
      " |  \n",
      " |  __getattribute__(self, name, /)\n",
      " |      Return getattr(self, name).\n",
      " |  \n",
      " |  __getitem__(self, key, /)\n",
      " |      Return self[key].\n",
      " |  \n",
      " |  __getnewargs__(...)\n",
      " |  \n",
      " |  __gt__(self, value, /)\n",
      " |      Return self>value.\n",
      " |  \n",
      " |  __hash__(self, /)\n",
      " |      Return hash(self).\n",
      " |  \n",
      " |  __iter__(self, /)\n",
      " |      Implement iter(self).\n",
      " |  \n",
      " |  __le__(self, value, /)\n",
      " |      Return self<=value.\n",
      " |  \n",
      " |  __len__(self, /)\n",
      " |      Return len(self).\n",
      " |  \n",
      " |  __lt__(self, value, /)\n",
      " |      Return self<value.\n",
      " |  \n",
      " |  __mod__(self, value, /)\n",
      " |      Return self%value.\n",
      " |  \n",
      " |  __mul__(self, value, /)\n",
      " |      Return self*value.\n",
      " |  \n",
      " |  __ne__(self, value, /)\n",
      " |      Return self!=value.\n",
      " |  \n",
      " |  __repr__(self, /)\n",
      " |      Return repr(self).\n",
      " |  \n",
      " |  __rmod__(self, value, /)\n",
      " |      Return value%self.\n",
      " |  \n",
      " |  __rmul__(self, value, /)\n",
      " |      Return value*self.\n",
      " |  \n",
      " |  __sizeof__(self, /)\n",
      " |      Return the size of the string in memory, in bytes.\n",
      " |  \n",
      " |  __str__(self, /)\n",
      " |      Return str(self).\n",
      " |  \n",
      " |  capitalize(self, /)\n",
      " |      Return a capitalized version of the string.\n",
      " |      \n",
      " |      More specifically, make the first character have upper case and the rest lower\n",
      " |      case.\n",
      " |  \n",
      " |  casefold(self, /)\n",
      " |      Return a version of the string suitable for caseless comparisons.\n",
      " |  \n",
      " |  center(self, width, fillchar=' ', /)\n",
      " |      Return a centered string of length width.\n",
      " |      \n",
      " |      Padding is done using the specified fill character (default is a space).\n",
      " |  \n",
      " |  count(...)\n",
      " |      S.count(sub[, start[, end]]) -> int\n",
      " |      \n",
      " |      Return the number of non-overlapping occurrences of substring sub in\n",
      " |      string S[start:end].  Optional arguments start and end are\n",
      " |      interpreted as in slice notation.\n",
      " |  \n",
      " |  encode(self, /, encoding='utf-8', errors='strict')\n",
      " |      Encode the string using the codec registered for encoding.\n",
      " |      \n",
      " |      encoding\n",
      " |        The encoding in which to encode the string.\n",
      " |      errors\n",
      " |        The error handling scheme to use for encoding errors.\n",
      " |        The default is 'strict' meaning that encoding errors raise a\n",
      " |        UnicodeEncodeError.  Other possible values are 'ignore', 'replace' and\n",
      " |        'xmlcharrefreplace' as well as any other name registered with\n",
      " |        codecs.register_error that can handle UnicodeEncodeErrors.\n",
      " |  \n",
      " |  endswith(...)\n",
      " |      S.endswith(suffix[, start[, end]]) -> bool\n",
      " |      \n",
      " |      Return True if S ends with the specified suffix, False otherwise.\n",
      " |      With optional start, test S beginning at that position.\n",
      " |      With optional end, stop comparing S at that position.\n",
      " |      suffix can also be a tuple of strings to try.\n",
      " |  \n",
      " |  expandtabs(self, /, tabsize=8)\n",
      " |      Return a copy where all tab characters are expanded using spaces.\n",
      " |      \n",
      " |      If tabsize is not given, a tab size of 8 characters is assumed.\n",
      " |  \n",
      " |  find(...)\n",
      " |      S.find(sub[, start[, end]]) -> int\n",
      " |      \n",
      " |      Return the lowest index in S where substring sub is found,\n",
      " |      such that sub is contained within S[start:end].  Optional\n",
      " |      arguments start and end are interpreted as in slice notation.\n",
      " |      \n",
      " |      Return -1 on failure.\n",
      " |  \n",
      " |  format(...)\n",
      " |      S.format(*args, **kwargs) -> str\n",
      " |      \n",
      " |      Return a formatted version of S, using substitutions from args and kwargs.\n",
      " |      The substitutions are identified by braces ('{' and '}').\n",
      " |  \n",
      " |  format_map(...)\n",
      " |      S.format_map(mapping) -> str\n",
      " |      \n",
      " |      Return a formatted version of S, using substitutions from mapping.\n",
      " |      The substitutions are identified by braces ('{' and '}').\n",
      " |  \n",
      " |  index(...)\n",
      " |      S.index(sub[, start[, end]]) -> int\n",
      " |      \n",
      " |      Return the lowest index in S where substring sub is found,\n",
      " |      such that sub is contained within S[start:end].  Optional\n",
      " |      arguments start and end are interpreted as in slice notation.\n",
      " |      \n",
      " |      Raises ValueError when the substring is not found.\n",
      " |  \n",
      " |  isalnum(self, /)\n",
      " |      Return True if the string is an alpha-numeric string, False otherwise.\n",
      " |      \n",
      " |      A string is alpha-numeric if all characters in the string are alpha-numeric and\n",
      " |      there is at least one character in the string.\n",
      " |  \n",
      " |  isalpha(self, /)\n",
      " |      Return True if the string is an alphabetic string, False otherwise.\n",
      " |      \n",
      " |      A string is alphabetic if all characters in the string are alphabetic and there\n",
      " |      is at least one character in the string.\n",
      " |  \n",
      " |  isascii(self, /)\n",
      " |      Return True if all characters in the string are ASCII, False otherwise.\n",
      " |      \n",
      " |      ASCII characters have code points in the range U+0000-U+007F.\n",
      " |      Empty string is ASCII too.\n",
      " |  \n",
      " |  isdecimal(self, /)\n",
      " |      Return True if the string is a decimal string, False otherwise.\n",
      " |      \n",
      " |      A string is a decimal string if all characters in the string are decimal and\n",
      " |      there is at least one character in the string.\n",
      " |  \n",
      " |  isdigit(self, /)\n",
      " |      Return True if the string is a digit string, False otherwise.\n",
      " |      \n",
      " |      A string is a digit string if all characters in the string are digits and there\n",
      " |      is at least one character in the string.\n",
      " |  \n",
      " |  isidentifier(self, /)\n",
      " |      Return True if the string is a valid Python identifier, False otherwise.\n",
      " |      \n",
      " |      Call keyword.iskeyword(s) to test whether string s is a reserved identifier,\n",
      " |      such as \"def\" or \"class\".\n",
      " |  \n",
      " |  islower(self, /)\n",
      " |      Return True if the string is a lowercase string, False otherwise.\n",
      " |      \n",
      " |      A string is lowercase if all cased characters in the string are lowercase and\n",
      " |      there is at least one cased character in the string.\n",
      " |  \n",
      " |  isnumeric(self, /)\n",
      " |      Return True if the string is a numeric string, False otherwise.\n",
      " |      \n",
      " |      A string is numeric if all characters in the string are numeric and there is at\n",
      " |      least one character in the string.\n",
      " |  \n",
      " |  isprintable(self, /)\n",
      " |      Return True if the string is printable, False otherwise.\n",
      " |      \n",
      " |      A string is printable if all of its characters are considered printable in\n",
      " |      repr() or if it is empty.\n",
      " |  \n",
      " |  isspace(self, /)\n",
      " |      Return True if the string is a whitespace string, False otherwise.\n",
      " |      \n",
      " |      A string is whitespace if all characters in the string are whitespace and there\n",
      " |      is at least one character in the string.\n",
      " |  \n",
      " |  istitle(self, /)\n",
      " |      Return True if the string is a title-cased string, False otherwise.\n",
      " |      \n",
      " |      In a title-cased string, upper- and title-case characters may only\n",
      " |      follow uncased characters and lowercase characters only cased ones.\n",
      " |  \n",
      " |  isupper(self, /)\n",
      " |      Return True if the string is an uppercase string, False otherwise.\n",
      " |      \n",
      " |      A string is uppercase if all cased characters in the string are uppercase and\n",
      " |      there is at least one cased character in the string.\n",
      " |  \n",
      " |  join(self, iterable, /)\n",
      " |      Concatenate any number of strings.\n",
      " |      \n",
      " |      The string whose method is called is inserted in between each given string.\n",
      " |      The result is returned as a new string.\n",
      " |      \n",
      " |      Example: '.'.join(['ab', 'pq', 'rs']) -> 'ab.pq.rs'\n",
      " |  \n",
      " |  ljust(self, width, fillchar=' ', /)\n",
      " |      Return a left-justified string of length width.\n",
      " |      \n",
      " |      Padding is done using the specified fill character (default is a space).\n",
      " |  \n",
      " |  lower(self, /)\n",
      " |      Return a copy of the string converted to lowercase.\n",
      " |  \n",
      " |  lstrip(self, chars=None, /)\n",
      " |      Return a copy of the string with leading whitespace removed.\n",
      " |      \n",
      " |      If chars is given and not None, remove characters in chars instead.\n",
      " |  \n",
      " |  partition(self, sep, /)\n",
      " |      Partition the string into three parts using the given separator.\n",
      " |      \n",
      " |      This will search for the separator in the string.  If the separator is found,\n",
      " |      returns a 3-tuple containing the part before the separator, the separator\n",
      " |      itself, and the part after it.\n",
      " |      \n",
      " |      If the separator is not found, returns a 3-tuple containing the original string\n",
      " |      and two empty strings.\n",
      " |  \n",
      " |  removeprefix(self, prefix, /)\n",
      " |      Return a str with the given prefix string removed if present.\n",
      " |      \n",
      " |      If the string starts with the prefix string, return string[len(prefix):].\n",
      " |      Otherwise, return a copy of the original string.\n",
      " |  \n",
      " |  removesuffix(self, suffix, /)\n",
      " |      Return a str with the given suffix string removed if present.\n",
      " |      \n",
      " |      If the string ends with the suffix string and that suffix is not empty,\n",
      " |      return string[:-len(suffix)]. Otherwise, return a copy of the original\n",
      " |      string.\n",
      " |  \n",
      " |  replace(self, old, new, count=-1, /)\n",
      " |      Return a copy with all occurrences of substring old replaced by new.\n",
      " |      \n",
      " |        count\n",
      " |          Maximum number of occurrences to replace.\n",
      " |          -1 (the default value) means replace all occurrences.\n",
      " |      \n",
      " |      If the optional argument count is given, only the first count occurrences are\n",
      " |      replaced.\n",
      " |  \n",
      " |  rfind(...)\n",
      " |      S.rfind(sub[, start[, end]]) -> int\n",
      " |      \n",
      " |      Return the highest index in S where substring sub is found,\n",
      " |      such that sub is contained within S[start:end].  Optional\n",
      " |      arguments start and end are interpreted as in slice notation.\n",
      " |      \n",
      " |      Return -1 on failure.\n",
      " |  \n",
      " |  rindex(...)\n",
      " |      S.rindex(sub[, start[, end]]) -> int\n",
      " |      \n",
      " |      Return the highest index in S where substring sub is found,\n",
      " |      such that sub is contained within S[start:end].  Optional\n",
      " |      arguments start and end are interpreted as in slice notation.\n",
      " |      \n",
      " |      Raises ValueError when the substring is not found.\n",
      " |  \n",
      " |  rjust(self, width, fillchar=' ', /)\n",
      " |      Return a right-justified string of length width.\n",
      " |      \n",
      " |      Padding is done using the specified fill character (default is a space).\n",
      " |  \n",
      " |  rpartition(self, sep, /)\n",
      " |      Partition the string into three parts using the given separator.\n",
      " |      \n",
      " |      This will search for the separator in the string, starting at the end. If\n",
      " |      the separator is found, returns a 3-tuple containing the part before the\n",
      " |      separator, the separator itself, and the part after it.\n",
      " |      \n",
      " |      If the separator is not found, returns a 3-tuple containing two empty strings\n",
      " |      and the original string.\n",
      " |  \n",
      " |  rsplit(self, /, sep=None, maxsplit=-1)\n",
      " |      Return a list of the words in the string, using sep as the delimiter string.\n",
      " |      \n",
      " |        sep\n",
      " |          The delimiter according which to split the string.\n",
      " |          None (the default value) means split according to any whitespace,\n",
      " |          and discard empty strings from the result.\n",
      " |        maxsplit\n",
      " |          Maximum number of splits to do.\n",
      " |          -1 (the default value) means no limit.\n",
      " |      \n",
      " |      Splits are done starting at the end of the string and working to the front.\n",
      " |  \n",
      " |  rstrip(self, chars=None, /)\n",
      " |      Return a copy of the string with trailing whitespace removed.\n",
      " |      \n",
      " |      If chars is given and not None, remove characters in chars instead.\n",
      " |  \n",
      " |  split(self, /, sep=None, maxsplit=-1)\n",
      " |      Return a list of the words in the string, using sep as the delimiter string.\n",
      " |      \n",
      " |      sep\n",
      " |        The delimiter according which to split the string.\n",
      " |        None (the default value) means split according to any whitespace,\n",
      " |        and discard empty strings from the result.\n",
      " |      maxsplit\n",
      " |        Maximum number of splits to do.\n",
      " |        -1 (the default value) means no limit.\n",
      " |  \n",
      " |  splitlines(self, /, keepends=False)\n",
      " |      Return a list of the lines in the string, breaking at line boundaries.\n",
      " |      \n",
      " |      Line breaks are not included in the resulting list unless keepends is given and\n",
      " |      true.\n",
      " |  \n",
      " |  startswith(...)\n",
      " |      S.startswith(prefix[, start[, end]]) -> bool\n",
      " |      \n",
      " |      Return True if S starts with the specified prefix, False otherwise.\n",
      " |      With optional start, test S beginning at that position.\n",
      " |      With optional end, stop comparing S at that position.\n",
      " |      prefix can also be a tuple of strings to try.\n",
      " |  \n",
      " |  strip(self, chars=None, /)\n",
      " |      Return a copy of the string with leading and trailing whitespace removed.\n",
      " |      \n",
      " |      If chars is given and not None, remove characters in chars instead.\n",
      " |  \n",
      " |  swapcase(self, /)\n",
      " |      Convert uppercase characters to lowercase and lowercase characters to uppercase.\n",
      " |  \n",
      " |  title(self, /)\n",
      " |      Return a version of the string where each word is titlecased.\n",
      " |      \n",
      " |      More specifically, words start with uppercased characters and all remaining\n",
      " |      cased characters have lower case.\n",
      " |  \n",
      " |  translate(self, table, /)\n",
      " |      Replace each character in the string using the given translation table.\n",
      " |      \n",
      " |        table\n",
      " |          Translation table, which must be a mapping of Unicode ordinals to\n",
      " |          Unicode ordinals, strings, or None.\n",
      " |      \n",
      " |      The table must implement lookup/indexing via __getitem__, for instance a\n",
      " |      dictionary or list.  If this operation raises LookupError, the character is\n",
      " |      left untouched.  Characters mapped to None are deleted.\n",
      " |  \n",
      " |  upper(self, /)\n",
      " |      Return a copy of the string converted to uppercase.\n",
      " |  \n",
      " |  zfill(self, width, /)\n",
      " |      Pad a numeric string with zeros on the left, to fill a field of the given width.\n",
      " |      \n",
      " |      The string is never truncated.\n",
      " |  \n",
      " |  ----------------------------------------------------------------------\n",
      " |  Static methods defined here:\n",
      " |  \n",
      " |  __new__(*args, **kwargs) from builtins.type\n",
      " |      Create and return a new object.  See help(type) for accurate signature.\n",
      " |  \n",
      " |  maketrans(...)\n",
      " |      Return a translation table usable for str.translate().\n",
      " |      \n",
      " |      If there is only one argument, it must be a dictionary mapping Unicode\n",
      " |      ordinals (integers) or characters to Unicode ordinals, strings or None.\n",
      " |      Character keys will be then converted to ordinals.\n",
      " |      If there are two arguments, they must be strings of equal length, and\n",
      " |      in the resulting dictionary, each character in x will be mapped to the\n",
      " |      character at the same position in y. If there is a third argument, it\n",
      " |      must be a string, whose characters will be mapped to None in the result.\n",
      "\n"
     ]
    }
   ],
   "source": [
    "help(\"\")"
   ]
  },
  {
   "cell_type": "markdown",
   "id": "3fe40b54",
   "metadata": {},
   "source": [
    "## Classes and Objects in Detail\n",
    "\n",
    "We can use the type() function to figure out what class a variable or value belongs to. For example, type(\" \") tells us that this is a string class. The only attribute in this case is the string value, but there are a bunch of methods associated with the class. We've seen the upper() method, which returns the string in all uppercase, as well as isnumeric() which returns a boolean telling us whether or not the string is a number. You can use the dir() function to print all the attributes and methods of an object. Each string is an instance of the string class, having the same methods of the parent class. Since the content of the string is different, the methods will return different values. You can also use the help() function on an object, which will return the documentation for the corresponding class. This will show all the methods for the class, along with parameters the methods receive, types of return values, and a description of the methods."
   ]
  },
  {
   "cell_type": "code",
   "execution_count": 168,
   "id": "1dde1527",
   "metadata": {},
   "outputs": [
    {
     "name": "stdout",
     "output_type": "stream",
     "text": [
      "red\n",
      "sweet\n",
      "\n",
      "RED\n",
      "SWEET\n"
     ]
    }
   ],
   "source": [
    "class Apple:\n",
    "    pass\n",
    "\n",
    "class Apple:\n",
    "    color = \"\"\n",
    "    flavor = \"\"\n",
    "    \n",
    "jonagold = Apple()\n",
    "jonagold.color = \"red\"\n",
    "jonagold.flavor = \"sweet\"\n",
    "\n",
    "\n",
    "print(jonagold.color)\n",
    "print(jonagold.flavor)\n",
    "\n",
    "print(\"\")\n",
    "\n",
    "print(jonagold.color.upper())\n",
    "print(jonagold.flavor.upper())\n",
    "\n",
    "\n",
    "golden = Apple()\n",
    "golden.color = \"Yellow\"\n",
    "golden.flavor = \"Soft\""
   ]
  },
  {
   "cell_type": "code",
   "execution_count": 169,
   "id": "77898d2d",
   "metadata": {},
   "outputs": [
    {
     "name": "stdout",
     "output_type": "stream",
     "text": [
      "Roses are red,\n",
      "Violets are blue,\n",
      "Look what you made me do!\n"
     ]
    }
   ],
   "source": [
    "class Flower:\n",
    "  color = 'unknown'\n",
    "\n",
    "rose = Flower()\n",
    "rose.color = 'red'\n",
    "\n",
    "violet = Flower()\n",
    "violet.color = 'blue'\n",
    "\n",
    "\n",
    "this_pun_is_for_you = 'Look what you made me do!'\n",
    "\n",
    "print(\"Roses are {},\".format(rose.color))\n",
    "print(\"Violets are {},\".format(violet.color))\n",
    "print(this_pun_is_for_you)"
   ]
  },
  {
   "cell_type": "code",
   "execution_count": 170,
   "id": "e45d4ae5",
   "metadata": {},
   "outputs": [
    {
     "name": "stdout",
     "output_type": "stream",
     "text": [
      "0\n"
     ]
    }
   ],
   "source": [
    "class Bird:\n",
    "    color = \"\"\n",
    "    count = 0\n",
    "    number = 0\n",
    "    \n",
    "Bluejay = Bird()\n",
    "Bluejay.color = \"Blue\"\n",
    "Bluejay.count = 1\n",
    "\n",
    "print(Bluejay.number)"
   ]
  },
  {
   "cell_type": "code",
   "execution_count": 171,
   "id": "9cb4e588",
   "metadata": {},
   "outputs": [
    {
     "name": "stdout",
     "output_type": "stream",
     "text": [
      "This piece of furniture is made of brown wood\n",
      "This piece of furniture is made of red leather\n"
     ]
    }
   ],
   "source": [
    "#Example Exercise:\n",
    "\n",
    "class Furniture:\n",
    "    color = \"\"\n",
    "    material = \"\"\n",
    "\n",
    "table = Furniture()\n",
    "table.color = \"brown\"\n",
    "table.material = \"wood\"\n",
    "\n",
    "couch = Furniture()\n",
    "couch.color = \"red\"\n",
    "couch.material = \"leather\"\n",
    "\n",
    "def describe_furniture(piece):\n",
    "    return (\"This piece of furniture is made of {} {}\".format(piece.color, piece.material))\n",
    "\n",
    "print(describe_furniture(table)) \n",
    "# Should be \"This piece of furniture is made of brown wood\"\n",
    "print(describe_furniture(couch)) \n",
    "# Should be \"This piece of furniture is made of red leather\""
   ]
  },
  {
   "cell_type": "code",
   "execution_count": 172,
   "id": "474d2ce3",
   "metadata": {},
   "outputs": [
    {
     "name": "stdout",
     "output_type": "stream",
     "text": [
      "Oink, I'm Hamlet! Oink\n",
      "Oink, I'm Petunia! Oink\n"
     ]
    }
   ],
   "source": [
    "class Piglet:\n",
    "    name = \"piglet\"\n",
    "    def speak(self):\n",
    "        print(\"Oink, I'm {}! Oink\".format(self.name))\n",
    "\n",
    "hamlet = Piglet()\n",
    "hamlet.name = \"Hamlet\"\n",
    "hamlet.speak()\n",
    "\n",
    "\n",
    "petunia = Piglet()\n",
    "petunia.name = \"Petunia\"\n",
    "petunia.speak()"
   ]
  },
  {
   "cell_type": "code",
   "execution_count": 173,
   "id": "ea4c2039",
   "metadata": {},
   "outputs": [
    {
     "name": "stdout",
     "output_type": "stream",
     "text": [
      "0\n",
      "\n",
      "36\n"
     ]
    }
   ],
   "source": [
    "class Piglet:\n",
    "    years = 0\n",
    "    def pig_years(self):\n",
    "        return self.years * 18\n",
    "    \n",
    "piggy = Piglet()\n",
    "print(piggy.pig_years())\n",
    "\n",
    "print(\"\")\n",
    "\n",
    "piggy.years = 2\n",
    "print(piggy.pig_years())"
   ]
  },
  {
   "cell_type": "code",
   "execution_count": 174,
   "id": "e7802ab1",
   "metadata": {},
   "outputs": [
    {
     "name": "stdout",
     "output_type": "stream",
     "text": [
      "21\n"
     ]
    }
   ],
   "source": [
    "class Dog:\n",
    "    years = 0\n",
    "    def dog_years(self):\n",
    "        return self.years * 7\n",
    "    \n",
    "fido=Dog()\n",
    "fido.years=3\n",
    "print(fido.dog_years())"
   ]
  },
  {
   "cell_type": "markdown",
   "id": "4e3c5d9a",
   "metadata": {},
   "source": [
    "## What Is a Method?\n",
    "\n",
    "Calling methods on objects executes functions that operate on attributes of a specific instance of the class. This means that calling a method on a list, for example, only modifies that instance of a list, and not all lists globally. We can define methods within a class by creating functions inside the class definition. These instance methods can take a parameter called self which represents the instance the method is being executed on. This will allow you to access attributes of the instance using dot notation, like self.name, which will access the name attribute of that specific instance of the class object. When you have variables that contain different values for different instances, these are called instance variables."
   ]
  },
  {
   "cell_type": "code",
   "execution_count": 175,
   "id": "0e24503b",
   "metadata": {},
   "outputs": [
    {
     "name": "stdout",
     "output_type": "stream",
     "text": [
      "Hi, my name is John\n"
     ]
    }
   ],
   "source": [
    "# Example Exercise:\n",
    "\n",
    "class Person:\n",
    "    def __init__(self, name):\n",
    "        self.name = name\n",
    "    def greeting(self):\n",
    "        # Should return \"hi, my name is \" followed by the name of the Person.\n",
    "        return \"Hi, my name is \" + self.name\n",
    "\n",
    "# Create a new instance with a name of your choice\n",
    "some_person = Person(\"John\")  \n",
    "# Call the greeting method\n",
    "print(some_person.greeting())"
   ]
  },
  {
   "cell_type": "code",
   "execution_count": 176,
   "id": "e7bfaa42",
   "metadata": {},
   "outputs": [
    {
     "name": "stdout",
     "output_type": "stream",
     "text": [
      " This apple is red and its flavor is sweet\n"
     ]
    }
   ],
   "source": [
    "# Example Exercise: \n",
    "\n",
    "class Apple:\n",
    "    def __init__(self, color, flavor):\n",
    "        self.color = color\n",
    "        self.flavor = flavor\n",
    "    def __str__(self):\n",
    "        return \" This apple is {} and its flavor is {}\".format(self.color,self.flavor)\n",
    "    \n",
    "jonagold = Apple(\"red\", \"sweet\")\n",
    "print(jonagold)"
   ]
  },
  {
   "cell_type": "markdown",
   "id": "55ab89bd",
   "metadata": {},
   "source": [
    "## Special Methods\n",
    "\n",
    "We use a special method called a constructor. Below is an example of an Apple class with a constructor method defined.\\\n",
    "When you call the name of a class, the constructor of that class is called. This constructor method is always named __init__. You might remember that special methods start and end with two underscore characters. In our example above, the constructor method takes the self variable, which represents the instance, as well as color and flavor parameters. These parameters are then used by the constructor method to set the values for the current instance. "
   ]
  },
  {
   "cell_type": "code",
   "execution_count": 177,
   "id": "5b434e58",
   "metadata": {},
   "outputs": [
    {
     "name": "stdout",
     "output_type": "stream",
     "text": [
      "Help on function to_seconds in module __main__:\n",
      "\n",
      "to_seconds(hours, minutes, seconds)\n",
      "    Returns the amount of seconds in the given hours, minutes and seconds.\n",
      "\n"
     ]
    }
   ],
   "source": [
    "def to_seconds(hours, minutes,seconds):\n",
    "    \"\"\"Returns the amount of seconds in the given hours, minutes and seconds.\"\"\"\n",
    "    return hours*3600+minutes*60+seconds\n",
    "\n",
    "help(to_seconds)"
   ]
  },
  {
   "cell_type": "code",
   "execution_count": 178,
   "id": "bada4273",
   "metadata": {},
   "outputs": [
    {
     "name": "stdout",
     "output_type": "stream",
     "text": [
      "Help on function greeting in module __main__:\n",
      "\n",
      "greeting(self)\n",
      "    Outputs a message with the name of the person.\n",
      "\n"
     ]
    }
   ],
   "source": [
    "class Person:\n",
    "    def __init__(self,name):\n",
    "        self.name = name\n",
    "    def greeting(self):\n",
    "        \"\"\"Outputs a message with the name of the person.\"\"\"\n",
    "        print(\"Hello, my name is {}.\".format(self.name))\n",
    "help(Person.greeting)"
   ]
  },
  {
   "cell_type": "markdown",
   "id": "a09926ed",
   "metadata": {},
   "source": [
    "## Classes and Methods Cheat Sheet (Optional)\n",
    "\n",
    "Classes and Methods Cheat Sheet\n",
    "In the past few videos, we’ve seen how to define classes and methods in Python. Here, you’ll find a run-down of everything we’ve covered, so you can refer to it whenever you need a refresher.\n",
    "\n",
    "### Classes and Instances\n",
    "Classes define the behavior of all instances of a specific class.\n",
    "\n",
    "Each variable of a specific class is an instance or object.\n",
    "\n",
    "Objects can have attributes, which store information about the object.\n",
    "\n",
    "You can make objects do work by calling their methods.\n",
    "\n",
    "The first parameter of the methods (self) represents the current instance.\n",
    "\n",
    "Methods are just like functions, but they can only be used through a class.\n",
    "\n",
    "### Special methods\n",
    "Special methods start and end with __.\n",
    "\n",
    "Special methods have specific names, like __init__ for the constructor or __str__ for the conversion to string.\n",
    "\n",
    "Documenting classes, methods and functions\n",
    "You can add documentation to classes, methods, and functions by using docstrings right after the definition."
   ]
  },
  {
   "cell_type": "markdown",
   "id": "1b43be3f",
   "metadata": {},
   "source": [
    "## Practice Notebook: Methods and Classes\n",
    "\n",
    "The code below defines an Elevator class. The elevator has a current floor, it also has a top and a bottom floor that are the minimum and maximum floors it can go to. Fill in the blanks to make the elevator go through the floors requested."
   ]
  },
  {
   "cell_type": "code",
   "execution_count": 179,
   "id": "c25a9c7f",
   "metadata": {},
   "outputs": [],
   "source": [
    "class Elevator:\n",
    "    def __init__(self, bottom, top, current):\n",
    "        \"\"\"Initializes the Elevator instance.\"\"\"\n",
    "        self.bottom = bottom\n",
    "        self.top = top\n",
    "        self.current = current\n",
    "        \n",
    "    def up(self):\n",
    "        \"\"\"Makes the elevator go up one floor.\"\"\"\n",
    "        if self.current < self.top:\n",
    "            self.current += 1\n",
    "            \n",
    "    def down(self):\n",
    "        \"\"\"Makes the elevator go down one floor.\"\"\"\n",
    "        if self.current > self.bottom:\n",
    "            self.current -=  1\n",
    "            \n",
    "    def go_to(self, floor):\n",
    "        \"\"\"Makes the elevator go to the specific floor.\"\"\"\n",
    "        if self.bottom <= floor <= self.top:\n",
    "            self.current = floor\n",
    "    def __str__(self):\n",
    "        \"\"\"Returns the string representation of the Elevator object.\"\"\"\n",
    "        return f\"Current floor: {self.current}\"\n",
    "\n",
    "elevator = Elevator(-1, 10, 0)\n",
    "\n",
    "# To test whether your Elevator class is working correctly, run the code blocks below."
   ]
  },
  {
   "cell_type": "code",
   "execution_count": 180,
   "id": "d810011f",
   "metadata": {},
   "outputs": [
    {
     "data": {
      "text/plain": [
       "1"
      ]
     },
     "execution_count": 180,
     "metadata": {},
     "output_type": "execute_result"
    }
   ],
   "source": [
    "elevator.up() \n",
    "elevator.current #should output 1"
   ]
  },
  {
   "cell_type": "code",
   "execution_count": 181,
   "id": "119b8f76",
   "metadata": {},
   "outputs": [
    {
     "data": {
      "text/plain": [
       "0"
      ]
     },
     "execution_count": 181,
     "metadata": {},
     "output_type": "execute_result"
    }
   ],
   "source": [
    "elevator.down() \n",
    "elevator.current #should output 0"
   ]
  },
  {
   "cell_type": "code",
   "execution_count": 182,
   "id": "8b3b3ad1",
   "metadata": {},
   "outputs": [
    {
     "data": {
      "text/plain": [
       "10"
      ]
     },
     "execution_count": 182,
     "metadata": {},
     "output_type": "execute_result"
    }
   ],
   "source": [
    "elevator.go_to(10) \n",
    "elevator.current #should output 10"
   ]
  },
  {
   "cell_type": "markdown",
   "id": "018dda77",
   "metadata": {},
   "source": [
    "If you get a `NameError` message, be sure to run the `Elevator` class definition code block first. If you get an `AttributeError` message, be sure to initialize `self.curren`t in your Elevator class.\n",
    "\n",
    "Once you've made the above methods output 1, 0 and 10, you've successfully coded the Elevator class and its methods. Great work!\n",
    "\n",
    "For the up and down methods, did you take into account the top and bottom floors? Keep in mind that the elevator shouldn't go above the top floor or below the bottom floor. To check that out, try the code below and verify if it's working as expected. If it's not, then go back and modify the methods so that this code behaves correctly."
   ]
  },
  {
   "cell_type": "code",
   "execution_count": 183,
   "id": "c03f3f7b",
   "metadata": {},
   "outputs": [
    {
     "name": "stdout",
     "output_type": "stream",
     "text": [
      "9\n",
      "1\n"
     ]
    }
   ],
   "source": [
    "# Go to the top floor. Try to go up, it should stay. Then go down.\n",
    "elevator.go_to(10)\n",
    "elevator.up()\n",
    "elevator.down()\n",
    "print(elevator.current) # should be 9\n",
    "# Go to the bottom floor. Try to go down, it should stay. Then go up.\n",
    "elevator.go_to(-1)\n",
    "elevator.down()\n",
    "elevator.down()\n",
    "elevator.up()\n",
    "elevator.up()\n",
    "print(elevator.current) # should be 1"
   ]
  },
  {
   "cell_type": "code",
   "execution_count": 184,
   "id": "cbd899c0",
   "metadata": {},
   "outputs": [
    {
     "name": "stdout",
     "output_type": "stream",
     "text": [
      "Current floor: 5\n"
     ]
    }
   ],
   "source": [
    "elevator.go_to(5)\n",
    "print(elevator)"
   ]
  },
  {
   "cell_type": "markdown",
   "id": "2b3aa0c1",
   "metadata": {},
   "source": [
    "### Achtung!\n",
    "\n",
    "Now add the str method to your Elevator class definition above so that when printing the elevator using the print( ) method, we get the current floor together with a message. For example, in the 5th floor it should say \"Current floor: 5\"\n",
    "\n",
    "Remember, Python uses the default method, that prints the position where the object is stored in the computer’s memory. If your output is something like:\n",
    "\n",
    "<main.Elevator object at 0x7ff6a9ff3fd0>\n",
    "\n",
    "Then you will need to add the special str method, which returns the string that you want to print. Try again until you get the desired output, \"Current floor: 5\".\n",
    "\n",
    "Once you have successfully produced the desired output, you are all done with this practice notebook. Awesome!"
   ]
  },
  {
   "cell_type": "code",
   "execution_count": 185,
   "id": "128eb21a",
   "metadata": {},
   "outputs": [
    {
     "name": "stdout",
     "output_type": "stream",
     "text": [
      "Oink! I'm Hamlet! Oink!\n",
      "\n",
      "Moooooo! I'm Milky White! Moooooo!\n"
     ]
    }
   ],
   "source": [
    "#Example Exercise: \n",
    "\n",
    "class Animal:\n",
    "    sound = \"\"\n",
    "    def __init__(self, name):\n",
    "        self.name = name\n",
    "    def speak(self):\n",
    "        print(\"{sound} I'm {name}! {sound}\".format(name=self.name, sound=self.sound))\n",
    "        \n",
    "class Piglet(Animal):\n",
    "    sound = \"Oink!\"\n",
    "    \n",
    "hamlet = Piglet(\"Hamlet\")\n",
    "hamlet.speak()\n",
    "\n",
    "print(\"\")\n",
    "\n",
    "class Cow(Animal):\n",
    "    sound = \"Moooooo!\"\n",
    "    \n",
    "milky = Cow(\"Milky White\")\n",
    "milky.speak()"
   ]
  },
  {
   "cell_type": "code",
   "execution_count": 186,
   "id": "b912c4f0",
   "metadata": {},
   "outputs": [
    {
     "name": "stdout",
     "output_type": "stream",
     "text": [
      "This Polo is made of Cotton\n"
     ]
    }
   ],
   "source": [
    "class Clothing:\n",
    "    material = \"\"\n",
    "    def __init__(self,name):\n",
    "        self.name = name\n",
    "    def checkmaterial(self):\n",
    "        print(\"This {} is made of {}\".format(self.name,self.material))\n",
    "\n",
    "class Shirt(Clothing):\n",
    "    material=\"Cotton\"\n",
    "\n",
    "polo = Shirt(\"Polo\")\n",
    "polo.checkmaterial()"
   ]
  },
  {
   "cell_type": "code",
   "execution_count": 198,
   "id": "44334d4a",
   "metadata": {},
   "outputs": [
    {
     "name": "stdout",
     "output_type": "stream",
     "text": [
      "sweet\n",
      "purple\n"
     ]
    }
   ],
   "source": [
    "class Fruit:\n",
    "    def __init__(self,color,flavor):\n",
    "        self.color = color\n",
    "        self.flavor = flavor\n",
    "        \n",
    "class Apple(Fruit):\n",
    "    pass\n",
    "\n",
    "class Grape(Fruit):\n",
    "    pass\n",
    "\n",
    "granny_smith = Apple(\"red\", \"sweet\")\n",
    "granpa_smith = Grape(\"purple\", \"luscious\")\n",
    "print(granny_smith.flavor)\n",
    "print(granpa_smith.color)"
   ]
  },
  {
   "cell_type": "code",
   "execution_count": 201,
   "id": "c6d49ba6",
   "metadata": {},
   "outputs": [],
   "source": [
    "# Example Exercise:\n",
    "\n",
    "class Repository:\n",
    "    def __init__(self):\n",
    "        self.packages = {}\n",
    "    def add_packages(self,package):\n",
    "        self.packages[package.name] = package\n",
    "    def total_size(self):\n",
    "        result = 0\n",
    "        for package in self.package.values():\n",
    "            result += package.size\n",
    "        return result\n",
    "            "
   ]
  },
  {
   "cell_type": "markdown",
   "id": "41847eee",
   "metadata": {},
   "source": [
    "In the constructor method, we initialize the packages dictionary, which will contain the package objects available in this repository instance. We initialize the dictionary in the constructor to ensure that every instance of the Repository class has its own dictionary.\n",
    "\n",
    "We then define the add_package method, which takes a Package object as a parameter, and then adds it to our dictionary, using the package name attribute as the key.\n",
    "\n",
    "Finally, we define a total_size method which computes the total size of all packages contained in our repository. This method iterates through the values in our repository dictionary and adds together the size attributes from each package object contained in the dictionary, returning the total at the end. In this example, we’re making use of Package attributes within our Repository class. We’re also calling the values() method on our packages dictionary instance. Composition allows us to use objects as attributes, as well as access all their attributes and methods."
   ]
  },
  {
   "cell_type": "code",
   "execution_count": 207,
   "id": "493ab73a",
   "metadata": {},
   "outputs": [
    {
     "name": "stdout",
     "output_type": "stream",
     "text": [
      "10\n",
      "3\n",
      "9\n",
      "\n"
     ]
    }
   ],
   "source": [
    "import random\n",
    "\n",
    "\n",
    "print(random.randint(1,10))\n",
    "print(random.randint(1,10))\n",
    "print(random.randint(1,10))\n",
    "\n",
    "print(\"\")"
   ]
  },
  {
   "cell_type": "code",
   "execution_count": 215,
   "id": "1fcdf3fa",
   "metadata": {},
   "outputs": [
    {
     "name": "stdout",
     "output_type": "stream",
     "text": [
      "<class 'datetime.datetime'>\n",
      "2023-07-07 21:59:36.016150\n",
      "2023\n",
      "2023-08-04 21:59:36.016150\n"
     ]
    }
   ],
   "source": [
    "import datetime\n",
    "now = datetime.datetime.now()\n",
    "\n",
    "print(type(now))\n",
    "print(now)\n",
    "print(now.year)\n",
    "print(now + datetime.timedelta(days=28))"
   ]
  },
  {
   "cell_type": "markdown",
   "id": "d5796e0d",
   "metadata": {},
   "source": [
    "## Code Reuse\n",
    "\n",
    "Let’s put what we learned about code reuse all together.\n",
    "\n",
    "First, let’s look back at inheritance. Run the following cell that defines a generic `Animal` class."
   ]
  },
  {
   "cell_type": "code",
   "execution_count": 216,
   "id": "63f3c950",
   "metadata": {},
   "outputs": [],
   "source": [
    "class Animal:\n",
    "    name = \"\"\n",
    "    category = \"\"\n",
    "    \n",
    "    def __init__(self, name):\n",
    "        self.name = name\n",
    "    \n",
    "    def set_category(self, category):\n",
    "        self.category = category"
   ]
  },
  {
   "cell_type": "markdown",
   "id": "ca5abe25",
   "metadata": {},
   "source": [
    "In the next cell, define a Turtle class that inherits from the Animal class. Then go ahead and set its category. For instance, a turtle is generally considered a reptile. Although modern cladistics call this categorization into question, for purposes of this exercise we will say turtles are reptiles!\n",
    "\n",
    "Run the following cell to check whether you correctly defined your `Turtle` class and set its category to reptile."
   ]
  },
  {
   "cell_type": "code",
   "execution_count": 218,
   "id": "40b1f54f",
   "metadata": {},
   "outputs": [
    {
     "name": "stdout",
     "output_type": "stream",
     "text": [
      "reptile\n"
     ]
    }
   ],
   "source": [
    "class Turtle(Animal):\n",
    "    category = \"reptile\"\n",
    "    \n",
    "print(Turtle.category)"
   ]
  },
  {
   "cell_type": "markdown",
   "id": "d5022751",
   "metadata": {},
   "source": [
    "Was the output of the above cell reptile? If not, go back and edit your `Turtle` class making sure that it inherits from the `Animal` class and its category is properly set to reptile. Be sure to re-run that cell once you've finished your edits. Did you get it? If so, great!\n",
    "\n",
    "\n",
    "Next, let’s practice **composition** a little bit. This one will require a second type of `Animal` that is in the same category as the first. For example, since you already created a `Turtle` class, go ahead and create a `Snake` class. Don’t forget that it also inherits from the `Animal` class and that its category should be set to reptile."
   ]
  },
  {
   "cell_type": "code",
   "execution_count": 222,
   "id": "4dbd865a",
   "metadata": {},
   "outputs": [
    {
     "name": "stdout",
     "output_type": "stream",
     "text": [
      "reptile\n"
     ]
    }
   ],
   "source": [
    "class Snake(Animal):\n",
    "    category = \"reptile\"\n",
    "    \n",
    "print(Snake.category)"
   ]
  },
  {
   "cell_type": "markdown",
   "id": "17fe01c0",
   "metadata": {},
   "source": [
    "Now, let’s say we have a large variety of Animals (such as turtles and snakes) in a Zoo. Below we have the Zoo class. We’re going to use it to organize our various Animals. Remember, inheritance says a Turtle is an Animal, but a Zoo is not an Animal and an Animal is not a Zoo -- though they are related to one another.\n",
    "\n",
    "Fill in the blanks of the Zoo class below so that you can use zoo.add_animal( ) to add instances of the Animal subclasses you created above. Once you’ve added them all, you should be able to use zoo.total_of_category( ) to tell you exactly how many individual Animal types the Zoo has for each category! Be sure to run the cell once you've finished your edits.\n",
    "\n",
    "Run the following cell to check whether you properly filled in the blanks of your Zoo class."
   ]
  },
  {
   "cell_type": "code",
   "execution_count": 223,
   "id": "53487685",
   "metadata": {},
   "outputs": [
    {
     "name": "stdout",
     "output_type": "stream",
     "text": [
      "2\n"
     ]
    }
   ],
   "source": [
    "class Zoo:\n",
    "    def __init__(self):\n",
    "        self.current_animals = {}\n",
    "    \n",
    "    def add_animal(self, animal):\n",
    "        self.current_animals[animal.name] = animal.category\n",
    "    \n",
    "    def total_of_category(self, category):\n",
    "        result = 0\n",
    "        for animal in self.current_animals.values():\n",
    "            if animal == category:\n",
    "                result += 1\n",
    "        return result\n",
    "    \n",
    "zoo = Zoo()\n",
    "\n",
    "turtle = Turtle(\"Turtle\") #create an instance of the Turtle class\n",
    "snake = Snake(\"Snake\") #create an instance of the Snake class\n",
    "\n",
    "zoo.add_animal(turtle)\n",
    "zoo.add_animal(snake)\n",
    "\n",
    "print(zoo.total_of_category(\"reptile\")) #how many zoo animal types in the reptile category"
   ]
  },
  {
   "cell_type": "markdown",
   "id": "e2f5ab01",
   "metadata": {},
   "source": [
    "Was the output of the above cell 2? If not, go back and edit the Zoo class making sure to fill in the blanks with the appropriate attributes. Be sure to re-run that cell once you've finished your edits.\n",
    "\n",
    "Did you get it? If so, perfect! You have successfully defined your Turtle and Snake subclasses as well as your Zoo class. You are all done with this notebook. Great work!"
   ]
  },
  {
   "cell_type": "markdown",
   "id": "464cd2a6",
   "metadata": {},
   "source": [
    "# Real life Problems\n",
    "\n",
    "## Writing a Script from the ground up\n",
    "\n",
    "`Problem Statement` : \n",
    "We need to process a list of Event objects using their attributes to generate a report that lists all users currently logged in to the machines.\n",
    "\n",
    "`Parameters`:\n",
    "use sort method in Python\n",
    "\n",
    "`Plan of approach`:\n",
    "machine_users vs  log-in and log-out\n",
    "We want our script to keep track of users as they log in and out of machines. \n",
    "- When we process an event, we'll see that someone interacted with a machine. If it's a login, we want to add it to the group of users logged into that machine. \\\n",
    "If it's a logout, we want to remove it from the group of users logged into the machine.\\\n",
    "\n",
    "In this scenario, it makes sense to use a set to store the current users. \n",
    "- Adding new users at login time and removing them at logout time.  But if the current users of a given machine are stored in a set, how do we know which set corresponds to the machine we're looking for?\\\n",
    "The easiest way to know this is to store this information in a dictionary.\\\n",
    "We'll use the name of the machine as the key and the current users of that machine as the value. So for each event we process, we'll first check in the dictionary to see if the machine is already there.\\\n",
    "\n",
    "We need to check this because it could be the first time we're processing an event for that machine. If it's not there, we'll create a new entry. If it is, we'll update the existing entry with the action corresponding to the event.\\\n",
    "Which means we either add the user if the event is a login or remove the user if it's a logout. Once we're done processing the events, we'll want to print a report of the information we generated."
   ]
  },
  {
   "cell_type": "code",
   "execution_count": 232,
   "id": "ec86d2d3",
   "metadata": {},
   "outputs": [
    {
     "name": "stdout",
     "output_type": "stream",
     "text": [
      "[1, 2, 3, 4, 5, 6, 7, 8, 9]\n"
     ]
    }
   ],
   "source": [
    "numbers = [4,6,2,1,8,9,5,3,7]\n",
    "numbers.sort()\n",
    "print(numbers)"
   ]
  },
  {
   "cell_type": "code",
   "execution_count": 233,
   "id": "624a651b",
   "metadata": {},
   "outputs": [
    {
     "name": "stdout",
     "output_type": "stream",
     "text": [
      "['Ali', 'Ben', 'Caleb', 'Dave', 'Eric', 'Frank', 'George', 'Henry', 'Ivan']\n"
     ]
    }
   ],
   "source": [
    "names = [\"Ali\", \"Ben\", \"Caleb\", \"Dave\", \"Eric\", \"Frank\", \"George\", \"Henry\", \"Ivan\" ]\n",
    "print(names)"
   ]
  },
  {
   "cell_type": "code",
   "execution_count": 234,
   "id": "8cb13728",
   "metadata": {},
   "outputs": [
    {
     "name": "stdout",
     "output_type": "stream",
     "text": [
      "['Ali', 'Ben', 'Caleb', 'Dave', 'Eric', 'Frank', 'George', 'Henry', 'Ivan']\n",
      "\n",
      "['Ali', 'Ben', 'Caleb', 'Dave', 'Eric', 'Frank', 'George', 'Henry', 'Ivan']\n",
      "\n",
      "['Ali', 'Ben', 'Dave', 'Eric', 'Ivan', 'Caleb', 'Frank', 'Henry', 'George']\n"
     ]
    }
   ],
   "source": [
    "print(sorted(names))\n",
    "print(\"\")\n",
    "print(names)\n",
    "print(\"\")\n",
    "print(sorted(names, key = len))"
   ]
  },
  {
   "cell_type": "code",
   "execution_count": 235,
   "id": "1ad82386",
   "metadata": {},
   "outputs": [],
   "source": [
    "def get_event_date(event):\n",
    "    return event.date\n",
    "\n",
    "def current_users(events):\n",
    "    events.sort(key=get_event_date)\n",
    "    machines = {}\n",
    "    for event in events:\n",
    "        if event.machine not in machines:\n",
    "            machines[event.machine] = set()\n",
    "        if event.type == \"login\":\n",
    "            machines[event.machine].add(event.user)\n",
    "        elif event.type == \"logout\":\n",
    "            machines[event.machine].remove(event.user)\n",
    "    return machines\n",
    "\n",
    "def generate_report(machines):\n",
    "    for machine, users in machines.items():\n",
    "        if len(users) > 0:\n",
    "            user_list = \". \".join(users)\n",
    "            print(\"{}:{}\".format(machine,user_list))"
   ]
  },
  {
   "cell_type": "markdown",
   "id": "4140af58",
   "metadata": {},
   "source": [
    "## Putting it all together\n",
    "\n",
    "Checking if the code runs."
   ]
  },
  {
   "cell_type": "code",
   "execution_count": 236,
   "id": "e1e17026",
   "metadata": {},
   "outputs": [],
   "source": [
    "class Event:\n",
    "    def __init__(self, event_date, event_type, machine_name, user):\n",
    "        self.date = event_date\n",
    "        self.type = event_type\n",
    "        self.machine = machine_name\n",
    "        self.user = user"
   ]
  },
  {
   "cell_type": "code",
   "execution_count": 237,
   "id": "538f5ff0",
   "metadata": {},
   "outputs": [],
   "source": [
    "events = [\n",
    "    Event('2020-01-21 12:45:56', 'login', 'myworkstation.local', 'jordan'),\n",
    "    Event('2020-01-22 09:15:23', 'login', 'mailserver.local', 'emma'),\n",
    "    Event('2020-01-23 15:30:10', 'login', 'workstation2.local', 'liam'),\n",
    "    Event('2020-01-24 18:20:05', 'login', 'webserver.local', 'olivia'),\n",
    "    Event('2020-01-23 15:30:10', 'logout', 'workstation2.local', 'liam'),\n",
    "    Event('2020-01-24 18:20:05', 'logout', 'myworkstation.local', 'jordan')\n",
    "]"
   ]
  },
  {
   "cell_type": "code",
   "execution_count": 239,
   "id": "e81761d9",
   "metadata": {},
   "outputs": [
    {
     "name": "stdout",
     "output_type": "stream",
     "text": [
      "{'myworkstation.local': set(), 'mailserver.local': {'emma'}, 'workstation2.local': set(), 'webserver.local': {'olivia'}}\n"
     ]
    }
   ],
   "source": [
    "users = current_users(events)\n",
    "print(users)"
   ]
  },
  {
   "cell_type": "code",
   "execution_count": 241,
   "id": "efa9a5a2",
   "metadata": {},
   "outputs": [
    {
     "name": "stdout",
     "output_type": "stream",
     "text": [
      "mailserver.local:emma\n",
      "webserver.local:olivia\n"
     ]
    }
   ],
   "source": [
    "generate_report(users)"
   ]
  }
 ],
 "metadata": {
  "kernelspec": {
   "display_name": "Python 3 (ipykernel)",
   "language": "python",
   "name": "python3"
  },
  "language_info": {
   "codemirror_mode": {
    "name": "ipython",
    "version": 3
   },
   "file_extension": ".py",
   "mimetype": "text/x-python",
   "name": "python",
   "nbconvert_exporter": "python",
   "pygments_lexer": "ipython3",
   "version": "3.9.12"
  }
 },
 "nbformat": 4,
 "nbformat_minor": 5
}
